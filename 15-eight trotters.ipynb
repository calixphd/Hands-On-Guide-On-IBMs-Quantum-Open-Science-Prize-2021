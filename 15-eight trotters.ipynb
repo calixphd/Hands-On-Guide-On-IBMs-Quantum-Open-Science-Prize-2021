{
 "cells": [
  {
   "cell_type": "markdown",
   "id": "4353b35d-7413-4bce-80bb-bec4c79691f9",
   "metadata": {},
   "source": [
    "# Solving IBM's Quantum Open Science Prize\n",
    "\n"
   ]
  },
  {
   "cell_type": "markdown",
   "id": "7a248f29-f6f1-473b-840e-c70ea0ac612b",
   "metadata": {},
   "source": [
    "## Piece 1: Initialize the simulators\n",
    "\n",
    "- We use Qiskit's `QasmSimulator` to produce noise-free measurements.\n",
    "- We use the `jakarta` backend to run the simulation of a Heisenberg model Hamiltonian for a three-particle system using Trotterization.\n"
   ]
  },
  {
   "cell_type": "code",
   "execution_count": 1,
   "id": "0710cf63-03f8-4343-ae3e-7ee2e44815bc",
   "metadata": {},
   "outputs": [],
   "source": [
    "# IBM account \n",
    "from qiskit.providers.aer import QasmSimulator\n",
    "\n",
    "# load IBMQ Account data\n",
    "from qiskit import IBMQ\n",
    "\n",
    "# Noiseless simulated backend\n",
    "sim = QasmSimulator()\n",
    "\n",
    "# replace TOKEN with your API token string (https://quantum-computing.ibm.com/lab/docs/iql/manage/account/ibmq)\n",
    "IBMQ.save_account(\"TOKEN\", overwrite=True) \n",
    "account = IBMQ.load_account()\n",
    "\n",
    "provider = IBMQ.get_provider(hub='ibm-q-community', group='ibmquantumawards', project='open-science-22')\n",
    "jakarta = provider.get_backend('ibmq_jakarta')\n"
   ]
  },
  {
   "cell_type": "markdown",
   "id": "7ea238ad-4763-41a5-bd9f-ea8a9b3368f1",
   "metadata": {},
   "source": [
    "## Piece 2: Generate circuits\n",
    "\n",
    "- classically simulatable (short with few qubits) circuits\n",
    "- the full trotterized simulation\n",
    "- customizable number of trotter steps\n"
   ]
  },
  {
   "cell_type": "code",
   "execution_count": 2,
   "id": "a049b275-bb90-4bec-afaf-74dcb032934d",
   "metadata": {},
   "outputs": [],
   "source": [
    "# Trotterized circuit from IBM material\n",
    "from qiskit.circuit import Parameter\n",
    "from qiskit import QuantumCircuit, QuantumRegister, ClassicalRegister\n",
    "\n",
    "def get_circuit(measure, trotter_steps, X=True, Y=True, Z=True):\n",
    "\n",
    "    # YOUR TROTTERIZATION GOES HERE -- START (beginning of example)\n",
    "\n",
    "    # Parameterize variable t to be evaluated at t=pi later\n",
    "    t = Parameter('t')\n",
    "\n",
    "    # Build a subcircuit for XX(t) two-qubit gate\n",
    "    XX_qr = QuantumRegister(2)\n",
    "    XX_qc = QuantumCircuit(XX_qr, name='XX')\n",
    "\n",
    "    XX_qc.ry(np.pi/2,[0,1])\n",
    "    XX_qc.cnot(0,1)\n",
    "    XX_qc.rz(2 * t, 1)\n",
    "    XX_qc.cnot(0,1)\n",
    "    XX_qc.ry(-np.pi/2,[0,1])\n",
    "\n",
    "    # Convert custom quantum circuit into a gate\n",
    "    XX = XX_qc.to_instruction()\n",
    "\n",
    "    # Build a subcircuit for YY(t) two-qubit gate\n",
    "    YY_qr = QuantumRegister(2)\n",
    "    YY_qc = QuantumCircuit(YY_qr, name='YY')\n",
    "\n",
    "    YY_qc.rx(np.pi/2,[0,1])\n",
    "    YY_qc.cnot(0,1)\n",
    "    YY_qc.rz(2 * t, 1)\n",
    "    YY_qc.cnot(0,1)\n",
    "    YY_qc.rx(-np.pi/2,[0,1])\n",
    "\n",
    "    # Convert custom quantum circuit into a gate\n",
    "    YY = YY_qc.to_instruction()\n",
    "\n",
    "    # Build a subcircuit for ZZ(t) two-qubit gate\n",
    "    ZZ_qr = QuantumRegister(2)\n",
    "    ZZ_qc = QuantumCircuit(ZZ_qr, name='ZZ')\n",
    "\n",
    "    ZZ_qc.cnot(0,1)\n",
    "    ZZ_qc.rz(2 * t, 1)\n",
    "    ZZ_qc.cnot(0,1)\n",
    "\n",
    "    # Convert custom quantum circuit into a gate\n",
    "    ZZ = ZZ_qc.to_instruction()\n",
    "\n",
    "    # Combine subcircuits into a single multiqubit gate representing a single trotter step\n",
    "    num_qubits = 3\n",
    "\n",
    "    Trot_qr = QuantumRegister(num_qubits)\n",
    "    Trot_qc = QuantumCircuit(Trot_qr, name='Trot')\n",
    "\n",
    "    for i in range(0, num_qubits - 1):\n",
    "        if Z:\n",
    "            Trot_qc.append(ZZ, [Trot_qr[i], Trot_qr[i+1]])\n",
    "        \n",
    "        if Y:\n",
    "            Trot_qc.append(YY, [Trot_qr[i], Trot_qr[i+1]])\n",
    "        \n",
    "        if X:\n",
    "            Trot_qc.append(XX, [Trot_qr[i], Trot_qr[i+1]])\n",
    "\n",
    "    # Convert custom quantum circuit into a gate\n",
    "    Trot_gate = Trot_qc.to_instruction()\n",
    "    \n",
    "    # YOUR TROTTERIZATION GOES HERE -- FINISH (end of example)\n",
    "\n",
    "\n",
    "    # The final time of the state evolution\n",
    "    target_time = np.pi\n",
    "\n",
    "    # Number of trotter steps\n",
    "    #trotter_steps = 8  ### CAN BE >= 4\n",
    "\n",
    "    # Initialize quantum circuit for 3 qubits\n",
    "    qr = QuantumRegister(7)\n",
    "    cr = ClassicalRegister(3)\n",
    "    qc = QuantumCircuit(qr, cr) if measure is True else QuantumCircuit(qr)\n",
    "\n",
    "    # Prepare initial state (remember we are only evolving 3 of the 7 qubits on jakarta qubits (q_5, q_3, q_1) corresponding to the state |110>)\n",
    "    qc.x([3,5])  # DO NOT MODIFY (|q_5,q_3,q_1> = |110>)\n",
    "\n",
    "    # Simulate time evolution under H_heis3 Hamiltonian\n",
    "    for _ in range(trotter_steps):\n",
    "        qc.append(Trot_gate, [qr[1], qr[3], qr[5]])\n",
    "        if not X or not Y or not Z:\n",
    "            break\n",
    "    \n",
    "        \n",
    "\n",
    "    # Evaluate simulation at target_time (t=pi) meaning each trotter step evolves pi/trotter_steps in time\n",
    "    qc = qc.bind_parameters({t: target_time/trotter_steps})\n",
    "\n",
    "    if measure:\n",
    "        qc.measure([1,3,5], cr)\n",
    "\n",
    "    \n",
    "    return qc"
   ]
  },
  {
   "cell_type": "markdown",
   "id": "fc3a4ea6-36af-4448-8086-97e30c3a1cd6",
   "metadata": {},
   "source": [
    "## Piece 3: Qiskit Measurement Result Wrapper\n",
    "\n",
    "- Wrapper for Qiskit's measurement results whose counts can be overwritten\n"
   ]
  },
  {
   "cell_type": "code",
   "execution_count": 3,
   "id": "c5fb4b91-ed00-4a36-a2bb-c3cf7f540806",
   "metadata": {},
   "outputs": [],
   "source": [
    "from qiskit.result import Result\n",
    "\n",
    "from qiskit.circuit.quantumcircuit import QuantumCircuit\n",
    "from qiskit.exceptions import QiskitError\n",
    "from qiskit.result.counts import Counts\n",
    "\n",
    "class OwnResult(Result):\n",
    "    \n",
    "    def __init__(self, result):\n",
    "        self._result = result\n",
    "        self._counts = {}\n",
    "            \n",
    "        \n",
    "    def get_counts(self, experiment=None):\n",
    "\n",
    "        if experiment is None:\n",
    "            exp_keys = range(len(self._result.results))\n",
    "        else:\n",
    "            exp_keys = [experiment]\n",
    "        \n",
    "\n",
    "        dict_list = []\n",
    "        for key in exp_keys:\n",
    "            exp = self._result._get_experiment(key)\n",
    "            try:\n",
    "                header = exp.header.to_dict()\n",
    "            except (AttributeError, QiskitError):  # header is not available\n",
    "                header = None\n",
    "\n",
    "            if \"counts\" in self._result.data(key).keys():\n",
    "                if header:\n",
    "                    counts_header = {\n",
    "                        k: v\n",
    "                        for k, v in header.items()\n",
    "                        if k in {\"time_taken\", \"creg_sizes\", \"memory_slots\"}\n",
    "                    }\n",
    "                else:\n",
    "                    counts_header = {}\n",
    "                    \n",
    "                    \n",
    "                # CUSTOM CODE STARTS HERE #######################\n",
    "                dict_list.append(Counts(\n",
    "                    self._counts[str(key)] if str(key) in map(lambda k: str(k), self._counts.keys()) else self._result.data(key)[\"counts\"]\n",
    "                    , **counts_header))\n",
    "                # CUSTOM CODE ENDS HERE #######################\n",
    "                \n",
    "            elif \"statevector\" in self._result.data(key).keys():\n",
    "                vec = postprocess.format_statevector(self._result.data(key)[\"statevector\"])\n",
    "                dict_list.append(statevector.Statevector(vec).probabilities_dict(decimals=15))\n",
    "            else:\n",
    "                raise QiskitError(f'No counts for experiment \"{repr(key)}\"')\n",
    "\n",
    "        # Return first item of dict_list if size is 1\n",
    "        if len(dict_list) == 1:\n",
    "            return dict_list[0]\n",
    "        else:\n",
    "            return dict_list\n",
    "        \n",
    "        \n",
    "    def set_counts(self, counts, experiment=None):\n",
    "        self._counts[str(experiment) if experiment is not None else \"0\"] = counts"
   ]
  },
  {
   "cell_type": "markdown",
   "id": "93c5abe8-87ec-441a-b48f-0e51d3929f4d",
   "metadata": {},
   "source": [
    "## Piece 4: State Tomography Mitigation\n",
    "\n",
    "- post-processing of the measured counts using the trained "
   ]
  },
  {
   "cell_type": "code",
   "execution_count": 4,
   "id": "65d8f4a2-7a36-42ab-83e5-5313195ab4fb",
   "metadata": {},
   "outputs": [
    {
     "name": "stderr",
     "output_type": "stream",
     "text": [
      "/tmp/ipykernel_672/2168099722.py:2: DeprecationWarning: The qiskit.ignis package is deprecated and has been supersceded by the qiskit-experiments project. Refer to the migration guide: https://github.com/Qiskit/qiskit-ignis#migration-guide on how to migrate to the new project.\n",
      "  from qiskit.ignis.verification.tomography import StateTomographyFitter\n"
     ]
    }
   ],
   "source": [
    "from qiskit.opflow import Zero, One\n",
    "from qiskit.ignis.verification.tomography import StateTomographyFitter\n",
    "from qiskit.quantum_info import state_fidelity\n",
    "\n",
    "# Compute the state tomography based on the st_qcs quantum circuits and the results from those ciricuits\n",
    "def state_tomo(result, st_qcs, modifiers, mitigate=False):\n",
    "    # The expected final state; necessary to determine state tomography fidelity\n",
    "    target_state = (One^One^Zero).to_matrix()  # DO NOT MODIFY (|q_5,q_3,q_1> = |110>)\n",
    "    \n",
    "    own_res = OwnResult(result)\n",
    "    \n",
    "    idx = 0\n",
    "    \n",
    "    if mitigate:\n",
    "        for experiment in st_qcs:\n",
    "            exp_keys = [experiment]\n",
    "            for key in exp_keys:\n",
    "\n",
    "                exp = result._get_experiment(key)                \n",
    "                counts = sorted_counts(result.get_counts(key))\n",
    "                mitigated = {item[0]: item[1]*modifiers[idx][i] for i, item in enumerate(counts.items())}\n",
    "                \n",
    "                #print(\"original: \", sorted_counts(result.get_counts(key)))\n",
    "                #print(\"mitigated: \", sorted_counts(mitigated))\n",
    "                #print(\"\\n\")\n",
    "\n",
    "                own_res.set_counts(mitigated, key)\n",
    "    \n",
    "            idx = idx + 1 \n",
    "        \n",
    "    \n",
    "    # Fit state tomography results\n",
    "    tomo_fitter = StateTomographyFitter(own_res if mitigate else result, st_qcs)\n",
    "    rho_fit = tomo_fitter.fit(method='lstsq')\n",
    "    # Compute fidelity\n",
    "    fid = state_fidelity(rho_fit, target_state)\n",
    "    return fid\n",
    "\n"
   ]
  },
  {
   "cell_type": "markdown",
   "id": "947aac35-b2a7-4cf2-8e14-0750b57b10d0",
   "metadata": {},
   "source": [
    "## Piece 5: Create the training circuits\n",
    "\n",
    "- start the jobs without using them directly"
   ]
  },
  {
   "cell_type": "code",
   "execution_count": 5,
   "id": "ae4a7472-d4d4-4c77-9d00-f8c045d67568",
   "metadata": {},
   "outputs": [],
   "source": [
    "# prepare the circuits\n",
    "from qiskit.ignis.verification.tomography import state_tomography_circuits\n",
    "\n",
    "# trotter steps\n",
    "trotters = 8\n",
    "\n",
    "# repititions\n",
    "reps = int(trotters/2)\n",
    "\n",
    "train_st_qcs_xy = state_tomography_circuits(get_circuit(False, trotters, True, True, False), [1,3,5])\n",
    "train_st_qcs_yz = state_tomography_circuits(get_circuit(False, trotters, True, True, False), [1,3,5])\n",
    "train_st_qcs_zx = state_tomography_circuits(get_circuit(False, trotters, True, True, False), [1,3,5])\n",
    "\n"
   ]
  },
  {
   "cell_type": "code",
   "execution_count": 9,
   "id": "abc9188e-60b3-4bb9-9e03-6558ddeb1380",
   "metadata": {},
   "outputs": [],
   "source": [
    "from qiskit import QuantumCircuit, transpile, assemble\n",
    "\n",
    "def start_train_jobs(qc, shots = 8192):\n",
    "    t_qc = transpile(qc, jakarta)\n",
    "    qobj = assemble(t_qc)\n",
    "    jobs = jakarta.run(qobj, shots=shots)\n",
    "    return jobs\n"
   ]
  },
  {
   "cell_type": "code",
   "execution_count": 10,
   "id": "89d3c3f5-455e-4040-83a8-589f8ee2f331",
   "metadata": {},
   "outputs": [
    {
     "name": "stderr",
     "output_type": "stream",
     "text": [
      "/tmp/ipykernel_672/2460616565.py:6: DeprecationWarning: Passing a Qobj to Backend.run is deprecated and will be removed in a future release. Please pass in circuits or pulse schedules instead.\n",
      "  jobs = jakarta.run(qobj, shots=shots)\n"
     ]
    },
    {
     "name": "stdout",
     "output_type": "stream",
     "text": [
      "'625026e173968c63fd07bdf7',\n",
      "'625026e3182d02129f4c353a',\n",
      "'625026e5caa2654b46f1a54c',\n",
      "'625026e7caa2650a98f1a54d',\n"
     ]
    }
   ],
   "source": [
    "# The XY transition\n",
    "\n",
    "xy_jobs = list(map(lambda x: start_train_jobs(train_st_qcs_xy), range(reps)))\n",
    "\n",
    "for job in xy_jobs:\n",
    "    print(\"'{}',\".format(job.job_id()))"
   ]
  },
  {
   "cell_type": "code",
   "execution_count": 11,
   "id": "7fa552ef-c1ca-41b9-b166-263c38fb3624",
   "metadata": {},
   "outputs": [
    {
     "name": "stdout",
     "output_type": "stream",
     "text": [
      "'625026ed182d021bea4c353d',\n",
      "'625026efaacb9b36e35f5880',\n",
      "'625026f0caa2657e4bf1a54e',\n",
      "'625026f373968c246007bdf9',\n"
     ]
    }
   ],
   "source": [
    "# The YZ transition\n",
    "yz_jobs = list(map(lambda x: start_train_jobs(train_st_qcs_yz), range(reps)))\n",
    "\n",
    "for job in yz_jobs:\n",
    "    print(\"'{}',\".format(job.job_id()))"
   ]
  },
  {
   "cell_type": "code",
   "execution_count": 12,
   "id": "6eda4f1c-175c-4c8c-8a71-8849fbd3d182",
   "metadata": {},
   "outputs": [
    {
     "name": "stdout",
     "output_type": "stream",
     "text": [
      "'625026f44b5152e64c7c7689',\n",
      "'625026f6182d02ac254c353e',\n",
      "'625026f8d7203323c267e36b',\n",
      "'625026facfe45c8111e5ae7b',\n"
     ]
    }
   ],
   "source": [
    "# The ZX transition\n",
    "\n",
    "zx_jobs = list(map(lambda x: start_train_jobs(train_st_qcs_zx), range(reps)))\n",
    "\n",
    "for job in zx_jobs:\n",
    "    print(\"'{}',\".format(job.job_id()))"
   ]
  },
  {
   "cell_type": "markdown",
   "id": "4b6a502e-4a77-4bc4-98f2-8d8e15506e65",
   "metadata": {},
   "source": [
    "## Piece 6: Run the evaluation circuits"
   ]
  },
  {
   "cell_type": "code",
   "execution_count": 13,
   "id": "5c67986f-4d63-4359-8a7f-2e9f42d13185",
   "metadata": {},
   "outputs": [
    {
     "name": "stdout",
     "output_type": "stream",
     "text": [
      "'62502702a5d4eea76e77d85a',\n",
      "'6250270973968c09e107bdfa',\n",
      "'62502710a5d4ee34d277d85b',\n",
      "'625027185ab79b6a72f95d46',\n",
      "'62502720d7203307a967e36e',\n",
      "'62502727d72033370867e370',\n",
      "'6250272fd7203362ae67e371',\n",
      "'62502736a5d4ee564177d85c',\n"
     ]
    }
   ],
   "source": [
    "st_qcs = state_tomography_circuits(get_circuit(False, trotters, True, True, True), [1,3,5])\n",
    "eval_jobs = list(map(lambda x: start_train_jobs(st_qcs), range(8)))\n",
    "\n",
    "for job in eval_jobs:\n",
    "    print(\"'{}',\".format(job.job_id()))"
   ]
  },
  {
   "cell_type": "code",
   "execution_count": 7,
   "id": "84a911f9-7937-4261-9dfd-435efbd45eac",
   "metadata": {},
   "outputs": [],
   "source": [
    "job_ids_xy = [\n",
    "    '625026e173968c63fd07bdf7',\n",
    "    '625026e3182d02129f4c353a',\n",
    "    '625026e5caa2654b46f1a54c',\n",
    "    '625026e7caa2650a98f1a54d'\n",
    "]"
   ]
  },
  {
   "cell_type": "code",
   "execution_count": 8,
   "id": "2a2bffa4-8190-474a-a23a-a7141911f572",
   "metadata": {},
   "outputs": [],
   "source": [
    "job_ids_yz = [\n",
    "    '625026ed182d021bea4c353d',\n",
    "    '625026efaacb9b36e35f5880',\n",
    "    '625026f0caa2657e4bf1a54e',\n",
    "    '625026f373968c246007bdf9'\n",
    "]"
   ]
  },
  {
   "cell_type": "code",
   "execution_count": 9,
   "id": "bd18b423-caaf-434e-9b07-9307ff68f4cb",
   "metadata": {},
   "outputs": [],
   "source": [
    "job_ids_zx = [\n",
    "    '625026f44b5152e64c7c7689',\n",
    "    '625026f6182d02ac254c353e',\n",
    "    '625026f8d7203323c267e36b',\n",
    "    '625026facfe45c8111e5ae7b'\n",
    "]"
   ]
  },
  {
   "cell_type": "code",
   "execution_count": 17,
   "id": "7afa5239-d6cc-4702-9c0f-124eee8ae6f5",
   "metadata": {},
   "outputs": [],
   "source": [
    "complete_job_ids = [\n",
    "    '62502702a5d4eea76e77d85a',\n",
    "    '6250270973968c09e107bdfa',\n",
    "    '62502710a5d4ee34d277d85b',\n",
    "    '625027185ab79b6a72f95d46',\n",
    "    '62502720d7203307a967e36e',\n",
    "    '62502727d72033370867e370',\n",
    "    '6250272fd7203362ae67e371',\n",
    "    '62502736a5d4ee564177d85c'\n",
    "]"
   ]
  },
  {
   "cell_type": "markdown",
   "id": "8699726d-c7b5-4d70-9bfc-d4eaf9ee4e79",
   "metadata": {},
   "source": [
    "## Piece 7: retrieve the completed results"
   ]
  },
  {
   "cell_type": "code",
   "execution_count": 10,
   "id": "e8867615-d7fc-41f4-871b-81eb3e0d6105",
   "metadata": {},
   "outputs": [],
   "source": [
    "jobs_xy = list(map(jakarta.retrieve_job, job_ids_xy))\n",
    "jobs_yz = list(map(jakarta.retrieve_job, job_ids_yz))\n",
    "jobs_zx = list(map(jakarta.retrieve_job, job_ids_zx))"
   ]
  },
  {
   "cell_type": "markdown",
   "id": "7dfe2f1a-ef66-41c2-abf4-6ec3a722ec8b",
   "metadata": {},
   "source": [
    "## Piece 8: Calculate the modifiers"
   ]
  },
  {
   "cell_type": "code",
   "execution_count": 11,
   "id": "9d1c0157-8763-488e-85e0-e505fc9ccff0",
   "metadata": {},
   "outputs": [],
   "source": [
    "from collections import Counter\n",
    "from functools import reduce\n",
    "from qiskit import assemble, execute, transpile\n",
    "\n",
    "\n",
    "def sorted_counts(counts):\n",
    "    complete = dict(reduce(lambda a, b: a.update(b) or a, [{'000': 0, '001': 0, '010': 0, '011': 0, '100': 0, '101': 0, '110': 0, '111': 0}, counts], Counter()))\n",
    "    return {k: v for k, v in sorted(complete.items(), key=lambda item: item[0])}\n",
    "\n",
    "\n",
    "def get_jakarta_modifiers(qc, job, shots = 8192, display=True):\n",
    "    \n",
    "    t_qc_sim = transpile(qc, sim)\n",
    "    noiseless_result = sim.run( assemble(t_qc_sim), shots=shots).result()\n",
    "    noiseless_counts = sorted_counts(noiseless_result.get_counts())\n",
    "    \n",
    "    #t_qc = transpile(qc, sim_noisy_jakarta)\n",
    "    #qobj = assemble(t_qc)\n",
    "    counts = sorted_counts(job.result().get_counts(qc))\n",
    "    \n",
    "    zipped = list(zip(noiseless_counts.values(), counts.values()))\n",
    "    modifier = list(map(lambda pair: pair[0]/pair[1] if pair[1] > 0 else 1, zipped))\n",
    "\n",
    "    if display is True:\n",
    "        print(\"noisy:     \", counts)\n",
    "        print(\"nose-free: \", noiseless_counts)\n",
    "\n",
    "        print(\"modifier: \", modifier)\n",
    "        print(\"\\n\")\n",
    "    \n",
    "    return modifier\n",
    "\n"
   ]
  },
  {
   "cell_type": "code",
   "execution_count": null,
   "id": "dfccdd9b-2301-438b-b5f3-3795c06f803c",
   "metadata": {},
   "outputs": [],
   "source": [
    "\n",
    "# each variable is a list of the trotters/2=6 jobs. Each job is a list of 27 state tomography circuits. Each of these lists \n",
    "list_modifiers_xy = list(map(lambda job: list(map(lambda qc: get_jakarta_modifiers(qc,job, display=False), train_st_qcs_xy)), jobs_xy))\n",
    "list_modifiers_yz = list(map(lambda job: list(map(lambda qc: get_jakarta_modifiers(qc, job, display=False), train_st_qcs_yz)), jobs_yz))\n",
    "list_modifiers_zx = list(map(lambda job: list(map(lambda qc: get_jakarta_modifiers(qc, job, display=False), train_st_qcs_zx)), jobs_zx))"
   ]
  },
  {
   "cell_type": "code",
   "execution_count": 13,
   "id": "93381fb9-93db-4174-87b8-7cc3e7119afc",
   "metadata": {},
   "outputs": [],
   "source": [
    "\n",
    "from functools import reduce\n",
    "\n",
    "# reorder the data to make the\n",
    "state_tomography_xy = list(zip(*list_modifiers_xy))\n",
    "state_tomography_yz = list(zip(*list_modifiers_yz))\n",
    "state_tomography_zx = list(zip(*list_modifiers_zx))\n",
    "\n",
    "zipped = list(map(lambda l: [item for sublist in l  for item in sublist], list(zip(state_tomography_xy, state_tomography_yz, state_tomography_zx))))\n",
    "\n",
    "\n",
    "def calc_modifier(stqc):\n",
    "    mods = list(map(lambda mod_list: reduce(lambda a,b: a*b, mod_list, 1), zip(*stqc)))\n",
    "    return mods\n",
    "    \n",
    "\n",
    "mods = list(map(calc_modifier,zipped))\n"
   ]
  },
  {
   "cell_type": "markdown",
   "id": "41fe3eb4-5c63-4fe7-ab27-294f931b10fb",
   "metadata": {},
   "source": [
    "## Piece 9: Evaluate the performance"
   ]
  },
  {
   "cell_type": "code",
   "execution_count": 18,
   "id": "293f1a7c-73a3-44b5-a065-4873efe5aba0",
   "metadata": {},
   "outputs": [
    {
     "name": "stdout",
     "output_type": "stream",
     "text": [
      "noisy state tomography fidelity = 0.1172 ± 0.0000\n",
      "noise-free state tomography fidelity = 0.9619 ± 0.0000\n",
      "mitigated state tomography fidelity = 0.4882 ± 0.0000\n"
     ]
    }
   ],
   "source": [
    "\n",
    "shots = 1024\n",
    "st_qcs = state_tomography_circuits(get_circuit(False, trotters, True, True, True), [1,3,5])\n",
    "\n",
    "\n",
    "noisy_job = jakarta.retrieve_job('623d8d50a2f72db120dab8b0')\n",
    "noisefree_job = execute(st_qcs, sim, shots=shots)\n",
    "\n",
    "    \n",
    "noisy_fid = state_tomo(noisy_job.result(), st_qcs, mods, mitigate=False)\n",
    "noisefree_fid = state_tomo(noisefree_job.result(), st_qcs, mods, mitigate=False)\n",
    "mitigated_fid = state_tomo(noisy_job.result(), st_qcs, mods, mitigate=True)\n",
    "\n",
    "\n",
    "print('noisy state tomography fidelity = {:.4f} \\u00B1 {:.4f}'.format(np.mean([noisy_fid]), np.std([noisy_fid])))\n",
    "print('noise-free state tomography fidelity = {:.4f} \\u00B1 {:.4f}'.format(np.mean([noisefree_fid]), np.std([noisefree_fid])))\n",
    "print('mitigated state tomography fidelity = {:.4f} \\u00B1 {:.4f}'.format(np.mean([mitigated_fid]), np.std([mitigated_fid])))\n"
   ]
  },
  {
   "cell_type": "code",
   "execution_count": null,
   "id": "47b98de4-b7ad-4721-817d-b826fc91541d",
   "metadata": {},
   "outputs": [],
   "source": [
    "unmitigated = np.mean([noisy_fid])\n",
    "ideal = np.mean([noisefree_fid])\n",
    "mitigated = np.mean([mitigated_fid])\n",
    "\n",
    "error_unmitigated = abs(unmitigated-ideal)\n",
    "error_mitigated = abs(mitigated-ideal)\n",
    "\n",
    "print(\"Error (unmitigated):\", error_unmitigated)\n",
    "print(\"Error (mitigated):\", error_mitigated)\n",
    "\n",
    "print(\"Relative error (unmitigated):\", (error_unmitigated/ideal))\n",
    "print(\"Relative error (mitigatedR):\", error_mitigated/ideal)\n",
    "\n",
    "print(f\"Error reduction: {(error_unmitigated-error_mitigated)/error_unmitigated :.1%}.\")"
   ]
  }
 ],
 "metadata": {
  "kernelspec": {
   "display_name": "Python 3 (ipykernel)",
   "language": "python",
   "name": "python3"
  },
  "language_info": {
   "codemirror_mode": {
    "name": "ipython",
    "version": 3
   },
   "file_extension": ".py",
   "mimetype": "text/x-python",
   "name": "python",
   "nbconvert_exporter": "python",
   "pygments_lexer": "ipython3",
   "version": "3.9.2"
  }
 },
 "nbformat": 4,
 "nbformat_minor": 5
}
