{
 "cells": [
  {
   "cell_type": "markdown",
   "id": "c2c3303c-3d82-48e5-8f5b-a8f132efd5f6",
   "metadata": {},
   "source": [
    "# How To Find Out Whether To Pursue A Career In Quantum Computing — Today!\n",
    "\n",
    "This post appeared first on [Medium](https://pyqml.medium.com/how-to-find-out-whether-to-pursue-a-career-in-quantum-computing-today-d1c7093811e8) and my weekly [email-course](https://pyqml.substack.com/p/how-to-find-out-whether-to-pursue?s=w).\n",
    "\n",
    "Quantum computing is one of the most hyped topics today! But, let’s face it — it is not precisely a beginner-friendly field. You need to be highly proficient in math, physics, and computer science.\n",
    "\n",
    "![](./assets/phd.png)\n",
    "\n",
    "This is a severe problem for anyone interested in pursuing a career in this field because you’ll probably need to have already completed your university studies before you can get your hands on actual problems in the field.\n",
    "That’s not exactly the least risky way to find out whether or not a career in quantum computing is right for you.\n",
    "\n",
    "So, what do you do instead? — How about working on a specific problem in the field that someone is willing to spend $100,000\\$$ on?\n",
    "\n",
    "Here’s the deal. IBM just announced its second Quantum Open Science Prize. They ask for a solution to a quantum simulation problem. They want us to simulate a Heisenberg model Hamiltonian for a three-particle system on IBM Quantum’s 7-qubit Jakarta system using Trotterization.\n",
    "\n",
    "Don’t worry — yet. Of course, IBM explains what a Heisenberg model Hamiltonian and Trotterization are in the material appended to the announcement.\n",
    "The Heisenberg Hamiltonian $H_{Heis}$ is defined as\n",
    "\n",
    "$\n",
    "\\begin{equation}\n",
    "H_{\\text{Heis}} = \\sum_{\\langle ij \\rangle}^{N} J \\left(\\sigma_x^{(i)}\\sigma_x^{(j)} + \\sigma_y^{(i)}\\sigma_y^{(j)} + \\sigma_z^{(i)}\\sigma_z^{(j)}\\right).\n",
    "\\end{equation}\n",
    "$"
   ]
  },
  {
   "cell_type": "markdown",
   "id": "0febabeb-5c56-4571-869f-b4f8c3790510",
   "metadata": {},
   "source": [
    "with 𝑁 is the number of spin-1/2 particles in the model, 𝜎𝑥, 𝜎𝑦, and 𝜎𝑧 are Pauli operators, and the 𝑖 and 𝑗 superscripts label which qubit they act on.\n",
    "\n",
    "Trotterization refers to a method of simulating the sum-of-terms of a Hamiltonian by simulating each one separately for a small-time slice.\n",
    "\n",
    "Everything’s clear. — Of course, it’s not! Do worry — now.\n",
    "\n",
    "I appreciate all the effort the IBM folks invested in the material preparation. But it clearly addresses a single audience: quantum physicists!\n",
    "\n",
    "So, we’re back where we started. You’d have to earn your physics degree before you could get your hands dirty on the task.\n",
    "\n",
    "Don’t give up that fast. You can learn a lot from this announcement alone on whether a career in quantum computing is right for you or not.\n",
    "\n",
    "First, let’s talk about all this physics jargon. You better get used to it. I mean, you don’t need to understand all of it right away. But, if you end up in a quantum computing career eventually, you’ll need to work yourself through these equations. It’s comparable to being a software developer and reading someone else’s code. It’s part of the job.\n",
    "Second, let’s look at the code. IBM provides a working example of the code they expect from us. It’s a lot longer than the following snippet, but this gives you the first impression of it."
   ]
  },
  {
   "cell_type": "code",
   "execution_count": null,
   "id": "54fec109-3054-4663-8e31-402449871218",
   "metadata": {},
   "outputs": [],
   "source": [
    "### YOUR TROTTERIZATION GOES HERE -- START (beginning of example)\n",
    "\n",
    "# Parameterize variable t to be evaluated at t=pi later\n",
    "t = Parameter('t')\n",
    "# Build a subcircuit for XX(t) two-qubit gate\n",
    "XX_qr = QuantumRegister(2)\n",
    "XX_qc = QuantumCircuit(XX_qr, name='XX')\n",
    "\n",
    "XX_qc.ry(np.pi/2,[0,1])\n",
    "\n",
    "...\n",
    "\n",
    "# Convert custom quantum circuit into a gate\n",
    "ZZ = ZZ_qc.to_instruction()\n",
    "Combine subcircuits into single gate representing one ($n=1$) trotter step.\n",
    "\n",
    "# Combine subcircuits into a single multiqubit gate representing a single trotter step\n",
    "num_qubits = 3\n",
    "\n",
    "Trot_qr = QuantumRegister(num_qubits)\n",
    "Trot_qc = QuantumCircuit(Trot_qr, name='Trot')\n",
    "\n",
    "for i in range(0, num_qubits - 1):\n",
    "    Trot_qc.append(ZZ, [Trot_qr[i], Trot_qr[i+1]])\n",
    "    Trot_qc.append(YY, [Trot_qr[i], Trot_qr[i+1]])\n",
    "    Trot_qc.append(XX, [Trot_qr[i], Trot_qr[i+1]])\n",
    "\n",
    "# Convert custom quantum circuit into a gate\n",
    "Trot_gate = Trot_qc.to_instruction()\n",
    "\n",
    "### YOUR TROTTERIZATION GOES HERE -- FINISH (end of example)"
   ]
  },
  {
   "cell_type": "markdown",
   "id": "4ed9dde8-2111-4c47-beed-3ea079c8a1a2",
   "metadata": {},
   "source": [
    "The code is as good as the mathematical equation. You don’t need to understand it right away, but you certainly must be willing to work yourself through it.\n",
    "\n",
    "Third, let’s strip away all these distracting details and look at what they really want. IBM says they want us to simulate a three-particle system using Trotterization. But wait! They provide us with a perfect example. We can run it on our laptop, and it produces a fidelity (that is the performance score) of almost 1.0 — that is the best we can get. So, maybe simulating a three-particle system using Trotterization is not the tricky part.\n",
    "\n",
    "The real problem is that this code works only on a fault-tolerant quantum device. We get this if we simulate a quantum computer on our laptop. It works pretty well for a handful of qubits. But, our computer won’t simulate anything beyond twenty qubits. And, the best classical supercomputer in the world won’t be able to simulate anything beyond fifty qubits.\n",
    "\n",
    "So, when we want to simulate such a fifty-particle quantum system, we need to run it on an actual quantum device. Unfortunately, real quantum devices are not fault-tolerant but noisy. And the problem with noise is that it compounds and propagates. The more qubits and gates we use, the bigger the noise becomes. It inevitably ruins any meaningful computation and produces nothing but random garbage.\n",
    "\n",
    "So, let’s get back to the three-particle system that we can simulate classically. Our task is to simulate it on a real and noisy quantum device — their seven-qubit Jakarta system. So, instead of three fault-tolerant qubits, we get seven noisy ones. But, of course, seven physical qubits are far from enough to run a circuit that uses three fault-tolerant qubits. Estimations say we need almost a thousand current noisy qubits to get a single fault-tolerant one.\n",
    "Consequently, we can’t simulate a three-particle system perfectly on an actual quantum device. So the open question is, what’s the best we can achieve?\n",
    "\n",
    "\n",
    "Essentially, IBM says:\n",
    "\n",
    "    Here’s a pretty cool quantum algorithm that simulates particles. But it doesn’t work on our current quantum devices because they are too noisy. Please help us to come up with an algorithm that works on our noisy devices.\n",
    "\n",
    "So, IBM’s challenge is not all about simulating a Heisenberg model Hamiltonian for a three-particle system. Instead, it is about how to do it on a noisy device. Therefore, how to cope with quantum errors will not only be a significant part of the solution, but it is the third part you’ll need to cope with when you pursue a career in quantum computing.\n",
    "\n",
    "Are you still thinking about joining this field? Great! Then, there’s but one missing part. You need to get your hands on the problem and solve it. It’ll give you first-hand experience in what it means to be in the field of quantum computing.\n",
    "\n",
    "Did I miss something? Oh, right. What about all the prerequisites? How are you supposed to know anything about a Heisenberg model Hamiltonian, Trotterization, and the quantum error correction?\n",
    "\n",
    "Maybe, I can help you out. I plan to dissect this challenge in my weekly posts. The submission deadline is April 16, 2022. So, we have quite some time to get through all of this.\n",
    "\n",
    "Are you in? We’ll start next week!"
   ]
  },
  {
   "cell_type": "code",
   "execution_count": null,
   "id": "f091fd83-51fd-4166-96ab-4ec9ac7322b1",
   "metadata": {},
   "outputs": [],
   "source": []
  }
 ],
 "metadata": {
  "kernelspec": {
   "display_name": "Python 3 (ipykernel)",
   "language": "python",
   "name": "python3"
  },
  "language_info": {
   "codemirror_mode": {
    "name": "ipython",
    "version": 3
   },
   "file_extension": ".py",
   "mimetype": "text/x-python",
   "name": "python",
   "nbconvert_exporter": "python",
   "pygments_lexer": "ipython3",
   "version": "3.9.2"
  }
 },
 "nbformat": 4,
 "nbformat_minor": 5
}
