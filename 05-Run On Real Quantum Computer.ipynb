{
 "cells": [
  {
   "cell_type": "markdown",
   "id": "e7d40599-dbe4-485a-bbe6-f2cea4c879ad",
   "metadata": {},
   "source": [
    "# How To Run Code On A Real Quantum Computer\n",
    "\n",
    "**Getting Started With IBM Quantum**\n",
    "\n",
    "\n",
    "This post appeared first on [Medium](https://towardsdatascience.com/how-to-run-code-on-a-real-quantum-computer-c1fc61ff5b4) and my weekly [email-course](https://pyqml.substack.com/p/how-to-run-code-on-a-real-quantum?s=w).\n",
    "\n",
    "Quantum computers are no science fiction anymore. They exist. And we can use them — for free. For instance, IBM offers access to their cloud-based quantum computers.\n",
    "\n",
    "First, we need to [register](https://quantum-computing.ibm.com/) for IBM's quantum computing services. Click on \"Create an IBMid account\" and provide your details. Once you have verified your email address, you're good to go!\n",
    "\n",
    "![](./assets/ibmq_dashboard.png)\n",
    "\n",
    "The Dashboard provides an overview of your booked IBM Quantum Services. Most importantly, it depicts \"Your Systems.\" Click on \"View All\" and then select \"Your Systems\" in the filter drop-down right next to the search bar.\n",
    "\n",
    "You get an overview of the systems you can access. These are a few systems with a handful of qubits. But these are enough to get started.\n",
    "\n",
    "![](./assets/ibmq_services.png)\n",
    "\n",
    "When you click on a system, you'll get a more detailed view of its architecture and configuration. For instance, the graphic at the bottom right shows how the system's qubits connect. A limitation you have to cope with when working with a real quantum computer is that we can only entangle connected qubits with each other.\n",
    "\n",
    "![](./assets/ibmq_quito.png)\n",
    "\n",
    "So, let's say we want to run our quantum circuit on the 5-qubit Quito device.\n",
    "\n",
    "Of course, we need to create our circuit first. Usually, we do this in a Jupyter notebook. If you do not have Jupyter up and running yet, this post explains how to set up JuypterLab.\n",
    "So, let's open a new Jupyter notebook.\n",
    "\n",
    "We start with a few imports and then, we define the circuit."
   ]
  },
  {
   "cell_type": "code",
   "execution_count": 1,
   "id": "41604c47-5de8-4343-a49b-be3cbbf50113",
   "metadata": {},
   "outputs": [
    {
     "data": {
      "text/plain": [
       "<qiskit.circuit.instructionset.InstructionSet at 0x7f94e3e4f2c0>"
      ]
     },
     "execution_count": 1,
     "metadata": {},
     "output_type": "execute_result"
    }
   ],
   "source": [
    "\n",
    "from qiskit import QuantumCircuit, QuantumRegister, ClassicalRegister, IBMQ, execute, transpile, Aer, assemble\n",
    "from qiskit.tools.monitor import job_monitor\n",
    "\n",
    "# Suppress warnings\n",
    "import warnings\n",
    "warnings.filterwarnings('ignore')\n",
    "\n",
    "qr = QuantumRegister(5)\n",
    "cr = ClassicalRegister(5)\n",
    "\n",
    "circuit = QuantumCircuit(qr, cr)\n",
    "circuit.x(qr[0])\n",
    "circuit.x(qr[1])\n",
    "circuit.ccx(qr[0], qr[1], qr[2])\n",
    "circuit.cx(qr[0], qr[1])\n",
    "circuit.measure(qr, cr)"
   ]
  },
  {
   "cell_type": "markdown",
   "id": "03b343bb-80e6-482c-93bd-7a333a28dabf",
   "metadata": {},
   "source": [
    "As you can see, we only entangle connected qubits (lines 14 and 15).\n",
    "\n",
    "Before executing the code, we need to connect to the Quito device. Therefore, we need to load our account using your token. You can obtain your API token from the IBM Quantum dashboard. It is a very long string. Make sure you keep it secure."
   ]
  },
  {
   "cell_type": "code",
   "execution_count": 2,
   "id": "c3bd96b7-cf33-42ff-8967-baa60c39ca33",
   "metadata": {},
   "outputs": [],
   "source": [
    " # replace TOKEN with your API token string (https://quantum-computing.ibm.com/lab/docs/iql/manage/account/ibmq)\n",
    "IBMQ.save_account(\"TOKEN\", overwrite=True) \n",
    "provider = IBMQ.load_account()"
   ]
  },
  {
   "cell_type": "markdown",
   "id": "1ec7df73-7ecd-4ecc-bdf2-05037ff92a18",
   "metadata": {},
   "source": [
    "Next, we connect to the provider and get the Quito backend. If you want to connect to other backends, you may need to select another hub, group, and project. But IBM will let you know when they grant you access to any other provider.\n",
    "\n",
    "Then, we need to transpile the circuit. In this step, Qiskit rewrites your code to match the device's requirements. For instance, if we entangled two qubits that are not connected physically, Qiskit would rewrite the circuit to adhere to the hardware requirements.\n",
    "\n",
    "Finally, we assemble the circuit and send it to the backend that returns a job object.\n"
   ]
  },
  {
   "cell_type": "code",
   "execution_count": 3,
   "id": "0b3e80b8-dbc2-45f7-964f-10531a00890f",
   "metadata": {},
   "outputs": [],
   "source": [
    "# Get backend for experiment\n",
    "provider = IBMQ.get_provider(hub='ibm-q', group='open', project='main')\n",
    "backend = provider.get_backend('ibmq_quito')\n",
    "\n",
    "# prepare the circuit for the backend\n",
    "mapped_circuit = transpile(circuit, backend=backend)\n",
    "qobj = assemble(mapped_circuit, backend=backend, shots=1024)\n",
    "\n",
    "# execute the circuit\n",
    "job = backend.run(qobj)"
   ]
  },
  {
   "cell_type": "markdown",
   "id": "26ece5e4-decf-4440-be70-d7c1a448ecb4",
   "metadata": {},
   "source": [
    "The job object lets you manage your request. For instance, you can obtain its status"
   ]
  },
  {
   "cell_type": "code",
   "execution_count": 4,
   "id": "ffd4e328-2505-41e9-a8a5-f3336e035f10",
   "metadata": {},
   "outputs": [
    {
     "data": {
      "text/plain": [
       "<JobStatus.QUEUED: 'job is queued'>"
      ]
     },
     "execution_count": 4,
     "metadata": {},
     "output_type": "execute_result"
    }
   ],
   "source": [
    "job.status()"
   ]
  },
  {
   "cell_type": "markdown",
   "id": "5eede71d-a7eb-4fa5-9fa1-7c6fed388320",
   "metadata": {},
   "source": [
    "Most likely, the job will be queued for quite some time.\n",
    "\n",
    "Let's have another look at the IBM Quantum dashboard. You should now have an entry in the \"Recent Jobs\"-list. When you click on it, you get the details. There, you also see when your circuit is scheduled to run. In my case, it takes about half an hour.\n",
    "\n",
    "![](./assets/ibmq_jobs.png)\n",
    "\n",
    "Another essential piece of information is the job id. You can also get it programmatically.\n",
    "\n"
   ]
  },
  {
   "cell_type": "code",
   "execution_count": 5,
   "id": "127f4aee-9ea1-4b0c-a9f3-14c817372b6d",
   "metadata": {},
   "outputs": [
    {
     "data": {
      "text/plain": [
       "'62261cc931781061062033d5'"
      ]
     },
     "execution_count": 5,
     "metadata": {},
     "output_type": "execute_result"
    }
   ],
   "source": [
    "\n",
    "job.job_id()"
   ]
  },
  {
   "cell_type": "markdown",
   "id": "bd2a8b8e-b6be-40e7-93bf-60fce59b3921",
   "metadata": {},
   "source": [
    "Of course, we're interested in the results of the job once completed. But maybe you don't want to wait that long. So, you may want to retrieve the job later."
   ]
  },
  {
   "cell_type": "code",
   "execution_count": 6,
   "id": "5fc910f4-4630-49f8-b921-5c636cfa2bb9",
   "metadata": {},
   "outputs": [],
   "source": [
    "job = provider.get_backend('ibmq_quito').retrieve_job('61b32368e4d3eb10e15c8b0e')"
   ]
  },
  {
   "cell_type": "markdown",
   "id": "7f6fd2b1-de28-41d4-aeb8-f44496a47b13",
   "metadata": {},
   "source": [
    "If you keep your notebook open or retrieve the job later, the job object returns the results once completed."
   ]
  },
  {
   "cell_type": "code",
   "execution_count": 7,
   "id": "70df0d32-f374-43c7-9dac-6529d021bd0e",
   "metadata": {},
   "outputs": [
    {
     "name": "stdout",
     "output_type": "stream",
     "text": [
      "{'00000': 25, '00001': 50, '10001': 2, '10010': 2, '10100': 1, '10101': 4, '11101': 1, '00010': 36, '00011': 26, '00100': 204, '00101': 601, '00110': 28, '00111': 39, '01001': 1, '01010': 1, '01100': 1, '01101': 2}\n"
     ]
    }
   ],
   "source": [
    "result = job.result()\n",
    "counts = result.get_counts()\n",
    "print(counts)"
   ]
  },
  {
   "cell_type": "markdown",
   "id": "06475fd5-3f34-41cd-9fe1-900ba1b7c9f3",
   "metadata": {},
   "source": [
    "The bitstrings indicate the measured values of the qubits (read from right to left). We can see that the upper qubits at positions four and five are not always 0. This may seem strange because we didn't do anything with them. So, they should remain at the default state of 0. Unfortunately, qubits are very sensitive to noise.\n",
    "\n",
    "Noise and errors are among the biggest problems we have to cope with in quantum computing today. For instance, IBM recently announced a prize totaling $100,000 to simulate a Heisenberg model Hamiltonian for a three-particle system on IBM Quantum's 7-qubit Jakarta system using Trotterization. The main problem to complete this challenge is to cope with the noise."
   ]
  },
  {
   "cell_type": "code",
   "execution_count": null,
   "id": "c4e9e334-324a-46e1-8613-e96cc6b76de6",
   "metadata": {},
   "outputs": [],
   "source": []
  }
 ],
 "metadata": {
  "kernelspec": {
   "display_name": "Python 3 (ipykernel)",
   "language": "python",
   "name": "python3"
  },
  "language_info": {
   "codemirror_mode": {
    "name": "ipython",
    "version": 3
   },
   "file_extension": ".py",
   "mimetype": "text/x-python",
   "name": "python",
   "nbconvert_exporter": "python",
   "pygments_lexer": "ipython3",
   "version": "3.9.2"
  }
 },
 "nbformat": 4,
 "nbformat_minor": 5
}
