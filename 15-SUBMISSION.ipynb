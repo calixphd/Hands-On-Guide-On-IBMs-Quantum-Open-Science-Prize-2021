{
 "cells": [
  {
   "cell_type": "markdown",
   "id": "4353b35d-7413-4bce-80bb-bec4c79691f9",
   "metadata": {},
   "source": [
    "# Solving IBM's Quantum Open Science Prize\n",
    "\n",
    "This notebook serves as the main submission. The code inside this notebook is self-contained. But the approach builds upon the preparational work done in the previous notebooks. \n"
   ]
  },
  {
   "cell_type": "markdown",
   "id": "7a248f29-f6f1-473b-840e-c70ea0ac612b",
   "metadata": {},
   "source": [
    "## 1. Initialize the environment\n",
    "\n",
    "This approach uses\n",
    "\n",
    "- a noise-free `QasmSimulator`\n",
    "- the `Jakarta` quantum computer\n"
   ]
  },
  {
   "cell_type": "code",
   "execution_count": 1,
   "id": "0710cf63-03f8-4343-ae3e-7ee2e44815bc",
   "metadata": {},
   "outputs": [],
   "source": [
    "# IBM account \n",
    "from qiskit.providers.aer import QasmSimulator\n",
    "\n",
    "# load IBMQ Account data\n",
    "from qiskit import IBMQ\n",
    "\n",
    "# Noiseless simulated backend\n",
    "sim = QasmSimulator()\n",
    "\n",
    "# replace TOKEN with your API token string (https://quantum-computing.ibm.com/lab/docs/iql/manage/account/ibmq)\n",
    "IBMQ.save_account(\"TOKEN\", overwrite=True) \n",
    "account = IBMQ.load_account()\n",
    "\n",
    "provider = IBMQ.get_provider(hub='ibm-q-community', group='ibmquantumawards', project='open-science-22')\n",
    "jakarta = provider.get_backend('ibmq_jakarta')\n"
   ]
  },
  {
   "cell_type": "markdown",
   "id": "7ea238ad-4763-41a5-bd9f-ea8a9b3368f1",
   "metadata": {},
   "source": [
    "## 2. Generate circuits\n",
    "\n",
    "We put the creation of the trotterization circuit into a helper function `get_circuit`. The core logic of the circuit was taken from the provided documentation.\n",
    "\n",
    "This allows us to create variants of the trotterization circuit:\n",
    "\n",
    "- classically simulatable (short with few qubits) circuits\n",
    "- the full trotterized simulation\n",
    "\n",
    "Further, the function allows us to customize the number of trotter steps\n"
   ]
  },
  {
   "cell_type": "code",
   "execution_count": 2,
   "id": "a049b275-bb90-4bec-afaf-74dcb032934d",
   "metadata": {},
   "outputs": [],
   "source": [
    "# Trotterized circuit from IBM material\n",
    "from qiskit.circuit import Parameter\n",
    "from qiskit import QuantumCircuit, QuantumRegister, ClassicalRegister\n",
    "\n",
    "def get_circuit(measure, trotter_steps, X=True, Y=True, Z=True):\n",
    "    \"\"\"Create a trotterization circuit\n",
    "\n",
    "    Args:\n",
    "        measure (bool): Whether to include a measurement into the circuit\n",
    "        trotter_steps (int): Number of trotter steps in the simulation\n",
    "        X (bool): Whether to include the XX(t) gate into the circuit\n",
    "        Y (bool): Whether to include the YY(t) gate into the circuit\n",
    "        Z (bool): Whether to include the ZZ(t) gate into the circuit\n",
    "\n",
    "    Returns:\n",
    "        The Qiskit circuit\n",
    "\n",
    "    \"\"\"\n",
    "\n",
    "    # YOUR TROTTERIZATION GOES HERE -- START (beginning of example)\n",
    "\n",
    "    # Parameterize variable t to be evaluated at t=pi later\n",
    "    t = Parameter('t')\n",
    "\n",
    "    # Build a subcircuit for XX(t) two-qubit gate\n",
    "    XX_qr = QuantumRegister(2)\n",
    "    XX_qc = QuantumCircuit(XX_qr, name='XX')\n",
    "\n",
    "    XX_qc.ry(np.pi/2,[0,1])\n",
    "    XX_qc.cnot(0,1)\n",
    "    XX_qc.rz(2 * t, 1)\n",
    "    XX_qc.cnot(0,1)\n",
    "    XX_qc.ry(-np.pi/2,[0,1])\n",
    "\n",
    "    # Convert custom quantum circuit into a gate\n",
    "    XX = XX_qc.to_instruction()\n",
    "\n",
    "    # Build a subcircuit for YY(t) two-qubit gate\n",
    "    YY_qr = QuantumRegister(2)\n",
    "    YY_qc = QuantumCircuit(YY_qr, name='YY')\n",
    "\n",
    "    YY_qc.rx(np.pi/2,[0,1])\n",
    "    YY_qc.cnot(0,1)\n",
    "    YY_qc.rz(2 * t, 1)\n",
    "    YY_qc.cnot(0,1)\n",
    "    YY_qc.rx(-np.pi/2,[0,1])\n",
    "\n",
    "    # Convert custom quantum circuit into a gate\n",
    "    YY = YY_qc.to_instruction()\n",
    "\n",
    "    # Build a subcircuit for ZZ(t) two-qubit gate\n",
    "    ZZ_qr = QuantumRegister(2)\n",
    "    ZZ_qc = QuantumCircuit(ZZ_qr, name='ZZ')\n",
    "\n",
    "    ZZ_qc.cnot(0,1)\n",
    "    ZZ_qc.rz(2 * t, 1)\n",
    "    ZZ_qc.cnot(0,1)\n",
    "\n",
    "    # Convert custom quantum circuit into a gate\n",
    "    ZZ = ZZ_qc.to_instruction()\n",
    "\n",
    "    # Combine subcircuits into a single multiqubit gate representing a single trotter step\n",
    "    num_qubits = 3\n",
    "\n",
    "    Trot_qr = QuantumRegister(num_qubits)\n",
    "    Trot_qc = QuantumCircuit(Trot_qr, name='Trot')\n",
    "\n",
    "    for i in range(0, num_qubits - 1):\n",
    "        if Z:\n",
    "            Trot_qc.append(ZZ, [Trot_qr[i], Trot_qr[i+1]])\n",
    "        \n",
    "        if Y:\n",
    "            Trot_qc.append(YY, [Trot_qr[i], Trot_qr[i+1]])\n",
    "        \n",
    "        if X:\n",
    "            Trot_qc.append(XX, [Trot_qr[i], Trot_qr[i+1]])\n",
    "\n",
    "    # Convert custom quantum circuit into a gate\n",
    "    Trot_gate = Trot_qc.to_instruction()\n",
    "    \n",
    "    # YOUR TROTTERIZATION GOES HERE -- FINISH (end of example)\n",
    "\n",
    "\n",
    "    # The final time of the state evolution\n",
    "    target_time = np.pi\n",
    "\n",
    "    # Number of trotter steps\n",
    "    #trotter_steps = 8  ### CAN BE >= 4\n",
    "\n",
    "    # Initialize quantum circuit for 3 qubits\n",
    "    qr = QuantumRegister(7)\n",
    "    cr = ClassicalRegister(3)\n",
    "    qc = QuantumCircuit(qr, cr) if measure is True else QuantumCircuit(qr)\n",
    "\n",
    "    # Prepare initial state (remember we are only evolving 3 of the 7 qubits on jakarta qubits (q_5, q_3, q_1) corresponding to the state |110>)\n",
    "    qc.x([3,5])  # DO NOT MODIFY (|q_5,q_3,q_1> = |110>)\n",
    "\n",
    "    # Simulate time evolution under H_heis3 Hamiltonian\n",
    "    for _ in range(trotter_steps):\n",
    "        qc.append(Trot_gate, [qr[1], qr[3], qr[5]])\n",
    "        if not X or not Y or not Z:\n",
    "            break\n",
    "    \n",
    "        \n",
    "\n",
    "    # Evaluate simulation at target_time (t=pi) meaning each trotter step evolves pi/trotter_steps in time\n",
    "    qc = qc.bind_parameters({t: target_time/trotter_steps})\n",
    "\n",
    "    if measure:\n",
    "        qc.measure([1,3,5], cr)\n",
    "\n",
    "    \n",
    "    return qc"
   ]
  },
  {
   "cell_type": "markdown",
   "id": "fc3a4ea6-36af-4448-8086-97e30c3a1cd6",
   "metadata": {},
   "source": [
    "## 3.Qiskit Measurement Result Wrapper\n",
    "\n",
    "Our solution post-processes the measurements. Therefore, we overwrite the counts that we feed into the state tomography. Since the Qiskit `Result` object does not support overwriting the counts, we create a wrapper class.\n"
   ]
  },
  {
   "cell_type": "code",
   "execution_count": 3,
   "id": "c5fb4b91-ed00-4a36-a2bb-c3cf7f540806",
   "metadata": {},
   "outputs": [],
   "source": [
    "# Import OwnResult from POST 12\n",
    "\n",
    "from qiskit.result import Result\n",
    "\n",
    "from qiskit.circuit.quantumcircuit import QuantumCircuit\n",
    "from qiskit.exceptions import QiskitError\n",
    "from qiskit.result.counts import Counts\n",
    "\n",
    "class OwnResult(Result):\n",
    "    \n",
    "    def __init__(self, result):\n",
    "        self._result = result\n",
    "        self._counts = {}\n",
    "            \n",
    "        \n",
    "    def get_counts(self, experiment=None):\n",
    "\n",
    "        if experiment is None:\n",
    "            exp_keys = range(len(self._result.results))\n",
    "        else:\n",
    "            exp_keys = [experiment]\n",
    "        \n",
    "\n",
    "        dict_list = []\n",
    "        for key in exp_keys:\n",
    "            exp = self._result._get_experiment(key)\n",
    "            try:\n",
    "                header = exp.header.to_dict()\n",
    "            except (AttributeError, QiskitError):  # header is not available\n",
    "                header = None\n",
    "\n",
    "            if \"counts\" in self._result.data(key).keys():\n",
    "                if header:\n",
    "                    counts_header = {\n",
    "                        k: v\n",
    "                        for k, v in header.items()\n",
    "                        if k in {\"time_taken\", \"creg_sizes\", \"memory_slots\"}\n",
    "                    }\n",
    "                else:\n",
    "                    counts_header = {}\n",
    "                    \n",
    "                    \n",
    "                # CUSTOM CODE STARTS HERE #######################\n",
    "                dict_list.append(Counts(\n",
    "                    self._counts[str(key)] if str(key) in map(lambda k: str(k), self._counts.keys()) else self._result.data(key)[\"counts\"]\n",
    "                    , **counts_header))\n",
    "                # CUSTOM CODE ENDS HERE #######################\n",
    "                \n",
    "            elif \"statevector\" in self._result.data(key).keys():\n",
    "                vec = postprocess.format_statevector(self._result.data(key)[\"statevector\"])\n",
    "                dict_list.append(statevector.Statevector(vec).probabilities_dict(decimals=15))\n",
    "            else:\n",
    "                raise QiskitError(f'No counts for experiment \"{repr(key)}\"')\n",
    "\n",
    "        # Return first item of dict_list if size is 1\n",
    "        if len(dict_list) == 1:\n",
    "            return dict_list[0]\n",
    "        else:\n",
    "            return dict_list\n",
    "        \n",
    "        \n",
    "    def set_counts(self, counts, experiment=None):\n",
    "        self._counts[str(experiment) if experiment is not None else \"0\"] = counts"
   ]
  },
  {
   "cell_type": "markdown",
   "id": "93c5abe8-87ec-441a-b48f-0e51d3929f4d",
   "metadata": {},
   "source": [
    "## Piece 4: State Tomography Mitigation\n",
    "\n",
    "The `state_tomo` function performs the post processing of the simulation.\n"
   ]
  },
  {
   "cell_type": "code",
   "execution_count": 4,
   "id": "65d8f4a2-7a36-42ab-83e5-5313195ab4fb",
   "metadata": {},
   "outputs": [
    {
     "name": "stderr",
     "output_type": "stream",
     "text": [
      "/tmp/ipykernel_374/2168099722.py:2: DeprecationWarning: The qiskit.ignis package is deprecated and has been supersceded by the qiskit-experiments project. Refer to the migration guide: https://github.com/Qiskit/qiskit-ignis#migration-guide on how to migrate to the new project.\n",
      "  from qiskit.ignis.verification.tomography import StateTomographyFitter\n"
     ]
    }
   ],
   "source": [
    "from qiskit.opflow import Zero, One\n",
    "from qiskit.ignis.verification.tomography import StateTomographyFitter\n",
    "from qiskit.quantum_info import state_fidelity\n",
    "\n",
    "# Compute the state tomography based on the st_qcs quantum circuits and the results from those ciricuits\n",
    "def state_tomo(result, st_qcs, modifiers, mitigate=False):\n",
    "    \"\"\"Calculate the fidelity of \n",
    "\n",
    "    Args:\n",
    "        result (Object): The result of the circuit execution\n",
    "        st_qcs (list[Circuit]): The 27 state tomography circuits\n",
    "        modifiers (List[List[[float]]): A list of floats that modify the counts. One modifier per each state and each state tomography circuit\n",
    "        mitigate (bool): Whether to mitigate the counts\n",
    "\n",
    "    Returns:\n",
    "        The fidelity of the quantum state\n",
    "\n",
    "    \"\"\"\n",
    "\n",
    "    \n",
    "    # The expected final state; necessary to determine state tomography fidelity\n",
    "    target_state = (One^One^Zero).to_matrix()  # DO NOT MODIFY (|q_5,q_3,q_1> = |110>)\n",
    "    \n",
    "    own_res = OwnResult(result)\n",
    "    \n",
    "    idx = 0\n",
    "    \n",
    "    if mitigate:\n",
    "        for experiment in st_qcs:\n",
    "            exp_keys = [experiment]\n",
    "            for key in exp_keys:\n",
    "\n",
    "                exp = result._get_experiment(key)                \n",
    "                counts = sorted_counts(result.get_counts(key))\n",
    "                mitigated = {item[0]: item[1]*modifiers[idx][i] for i, item in enumerate(counts.items())}\n",
    "                \n",
    "                #print(\"original: \", sorted_counts(result.get_counts(key)))\n",
    "                #print(\"mitigated: \", sorted_counts(mitigated))\n",
    "                #print(\"\\n\")\n",
    "\n",
    "                own_res.set_counts(mitigated, key)\n",
    "    \n",
    "            idx = idx + 1 \n",
    "        \n",
    "    \n",
    "    # Fit state tomography results\n",
    "    tomo_fitter = StateTomographyFitter(own_res if mitigate else result, st_qcs)\n",
    "    rho_fit = tomo_fitter.fit(method='lstsq')\n",
    "    # Compute fidelity\n",
    "    fid = state_fidelity(rho_fit, target_state)\n",
    "    return fid\n",
    "\n"
   ]
  },
  {
   "cell_type": "markdown",
   "id": "947aac35-b2a7-4cf2-8e14-0750b57b10d0",
   "metadata": {},
   "source": [
    "## 5: Create the training circuits\n",
    "\n",
    "Our approach builds upon classically simulatable circuits. These are circuits that consist of a single trotter-gate and two of the three subcircuits. For example, a circuit with a trotter-gate that contains the XX and the YY gate.\n",
    "\n",
    "`trotters` specifies the number of trotter steps that the overall simulation contains. "
   ]
  },
  {
   "cell_type": "code",
   "execution_count": 6,
   "id": "ae4a7472-d4d4-4c77-9d00-f8c045d67568",
   "metadata": {},
   "outputs": [],
   "source": [
    "# prepare the circuits\n",
    "from qiskit.ignis.verification.tomography import state_tomography_circuits\n",
    "\n",
    "# trotter steps\n",
    "trotters = 12\n",
    "\n",
    "\n",
    "train_st_qcs_xy = state_tomography_circuits(get_circuit(False, trotters, True, True, False), [1,3,5])\n",
    "train_st_qcs_yz = state_tomography_circuits(get_circuit(False, trotters, True, True, False), [1,3,5])\n",
    "train_st_qcs_zx = state_tomography_circuits(get_circuit(False, trotters, True, True, False), [1,3,5])\n",
    "\n"
   ]
  },
  {
   "cell_type": "markdown",
   "id": "608fe93e-0c3f-4813-baf2-ad5c72c38436",
   "metadata": {},
   "source": [
    "The `start_train_jobs` submits a quantum circuit to the Jakarta backend."
   ]
  },
  {
   "cell_type": "code",
   "execution_count": 59,
   "id": "abc9188e-60b3-4bb9-9e03-6558ddeb1380",
   "metadata": {},
   "outputs": [],
   "source": [
    "def start_train_jobs(qc, shots = 1024):\n",
    "    t_qc = transpile(qc, jakarta)\n",
    "    qobj = assemble(t_qc)\n",
    "    jobs = jakarta.run(qobj, shots=shots)\n",
    "    return jobs\n"
   ]
  },
  {
   "cell_type": "markdown",
   "id": "dea704b5-6429-4b61-89eb-ed72e76220f9",
   "metadata": {},
   "source": [
    "The `reps` denote the number of times we need to run each subcircuit. The underlying rationale is that each subcircuit is contains two-thirds of one trotter gate. With three subcircuits, we have to repeat them `trotter/2` times to reach the same overall length.\n",
    "\n",
    "We start each training circuit the respective number of times and obtain their job identifiers."
   ]
  },
  {
   "cell_type": "code",
   "execution_count": 63,
   "id": "89d3c3f5-455e-4040-83a8-589f8ee2f331",
   "metadata": {},
   "outputs": [
    {
     "name": "stderr",
     "output_type": "stream",
     "text": [
      "/tmp/ipykernel_539/897617969.py:4: DeprecationWarning: Passing a Qobj to Backend.run is deprecated and will be removed in a future release. Please pass in circuits or pulse schedules instead.\n",
      "  jobs = jakarta.run(qobj, shots=shots)\n"
     ]
    },
    {
     "name": "stdout",
     "output_type": "stream",
     "text": [
      "'623dcb95e32b42e943ecddd9',\n",
      "'623dcb9709995c0174492dfd',\n",
      "'623dcb9a538eba5f7361191c',\n",
      "'623dcb9c0af65d852cd938ab',\n",
      "'623dcb9ed97bff0994694bf7',\n",
      "'623dcba00af65df04cd938ac',\n"
     ]
    }
   ],
   "source": [
    "# repititions\n",
    "reps = int(trotters/2)\n",
    "\n",
    "# The XY transition\n",
    "xy_jobs = list(map(lambda x: start_train_jobs(train_st_qcs_xy), range(reps)))\n",
    "\n",
    "for job in xy_jobs:\n",
    "    print(\"'{}',\".format(job.job_id()))"
   ]
  },
  {
   "cell_type": "code",
   "execution_count": 64,
   "id": "7fa552ef-c1ca-41b9-b166-263c38fb3624",
   "metadata": {},
   "outputs": [
    {
     "name": "stdout",
     "output_type": "stream",
     "text": [
      "'623dcbbc74de0ed3c785b3a9',\n",
      "'623dcbbee32b4255eeecddda',\n",
      "'623dcbc10af65d824ad938ad',\n",
      "'623dcbc374de0e195885b3aa',\n",
      "'623dcbc5ecc41302c2b71c4e',\n",
      "'623dcbc70af65d56fdd938ae',\n"
     ]
    }
   ],
   "source": [
    "# The YZ transition\n",
    "yz_jobs = list(map(lambda x: start_train_jobs(train_st_qcs_yz), range(reps)))\n",
    "\n",
    "for job in yz_jobs:\n",
    "    print(\"'{}',\".format(job.job_id()))"
   ]
  },
  {
   "cell_type": "code",
   "execution_count": 65,
   "id": "6eda4f1c-175c-4c8c-8a71-8849fbd3d182",
   "metadata": {},
   "outputs": [
    {
     "name": "stdout",
     "output_type": "stream",
     "text": [
      "'623dcbdb19e6895d16c8128b',\n",
      "'623dcbdd538eba0a5e61191e',\n",
      "'623dcbdf74de0e1e7085b3ac',\n",
      "'623dcbe1ecc413fc86b71c50',\n",
      "'623dcbe3d97bff296f694bf8',\n",
      "'623dcbe58293e956301e61e5',\n"
     ]
    }
   ],
   "source": [
    "# The ZX transition\n",
    "zx_jobs = list(map(lambda x: start_train_jobs(train_st_qcs_zx), range(reps)))\n",
    "\n",
    "for job in zx_jobs:\n",
    "    print(\"'{}',\".format(job.job_id()))"
   ]
  },
  {
   "cell_type": "markdown",
   "id": "4b6a502e-4a77-4bc4-98f2-8d8e15506e65",
   "metadata": {},
   "source": [
    "## 6. Run the evaluation circuits\n",
    "\n",
    "To evaluate the performance of the approach, we need a series of the complete state tomography circuits."
   ]
  },
  {
   "cell_type": "code",
   "execution_count": 67,
   "id": "5c67986f-4d63-4359-8a7f-2e9f42d13185",
   "metadata": {},
   "outputs": [
    {
     "name": "stdout",
     "output_type": "stream",
     "text": [
      "'623dcc930af65d0467d938b1',\n",
      "'623dcc9d74de0e600b85b3ad',\n",
      "'623dcca7a2f72d26a6daba39',\n",
      "'623dccb574de0e848485b3ae',\n",
      "'623dccbf538eba278c611921',\n",
      "'623dccc98293e907301e61e7',\n",
      "'623dccd209995c47aa492dfe',\n",
      "'623dccdbe32b425652ecdddc',\n"
     ]
    }
   ],
   "source": [
    "st_qcs = state_tomography_circuits(get_circuit(False, trotters, True, True, True), [1,3,5])\n",
    "eval_jobs = list(map(lambda x: start_train_jobs(st_qcs), range(8)))\n",
    "\n",
    "for job in eval_jobs:\n",
    "    print(\"'{}',\".format(job.job_id()))"
   ]
  },
  {
   "cell_type": "markdown",
   "id": "aa1f1c4c-2403-4b2d-9baa-4bb600d7f0f5",
   "metadata": {},
   "source": [
    "The following lists contain the job identifiers we obtained above."
   ]
  },
  {
   "cell_type": "code",
   "execution_count": 7,
   "id": "84a911f9-7937-4261-9dfd-435efbd45eac",
   "metadata": {},
   "outputs": [],
   "source": [
    "job_ids_xy = [\n",
    "    '623dcb95e32b42e943ecddd9',\n",
    "    '623dcb9709995c0174492dfd',\n",
    "    '623dcb9a538eba5f7361191c',\n",
    "    '623dcb9c0af65d852cd938ab',\n",
    "    '623dcb9ed97bff0994694bf7',\n",
    "    '623dcba00af65df04cd938ac'\n",
    "]"
   ]
  },
  {
   "cell_type": "code",
   "execution_count": 8,
   "id": "2a2bffa4-8190-474a-a23a-a7141911f572",
   "metadata": {},
   "outputs": [],
   "source": [
    "job_ids_yz = [\n",
    "    '623dcbbc74de0ed3c785b3a9',\n",
    "    '623dcbbee32b4255eeecddda',\n",
    "    '623dcbc10af65d824ad938ad',\n",
    "    '623dcbc374de0e195885b3aa',\n",
    "    '623dcbc5ecc41302c2b71c4e',\n",
    "    '623dcbc70af65d56fdd938ae'\n",
    "]"
   ]
  },
  {
   "cell_type": "code",
   "execution_count": 9,
   "id": "bd18b423-caaf-434e-9b07-9307ff68f4cb",
   "metadata": {},
   "outputs": [],
   "source": [
    "job_ids_zx = [\n",
    "    '623dcbdb19e6895d16c8128b',\n",
    "    '623dcbdd538eba0a5e61191e',\n",
    "    '623dcbdf74de0e1e7085b3ac',\n",
    "    '623dcbe1ecc413fc86b71c50',\n",
    "    '623dcbe3d97bff296f694bf8',\n",
    "    '623dcbe58293e956301e61e5'\n",
    "]"
   ]
  },
  {
   "cell_type": "code",
   "execution_count": 17,
   "id": "7afa5239-d6cc-4702-9c0f-124eee8ae6f5",
   "metadata": {},
   "outputs": [],
   "source": [
    "complete_job_ids = [\n",
    "    '623d8d50a2f72db120dab8b0',\n",
    "    '623d8d598293e978251e6068',\n",
    "    '623d8d7209995c6e6d492c5c',\n",
    "    '623d8d8cd97bff4aa9694a72',\n",
    "    '623d8d9519e6897773c810fb',\n",
    "    '623d8d9e19e6891489c810fc',\n",
    "    '623d8da8e32b425c46ecdc7d',\n",
    "    '623d8db219e689e45cc810ff'\n",
    "]"
   ]
  },
  {
   "cell_type": "markdown",
   "id": "8699726d-c7b5-4d70-9bfc-d4eaf9ee4e79",
   "metadata": {},
   "source": [
    "## 7. Retrieve the completed results\n",
    "\n",
    "Once the backend processed all the jobs, we can proceed. Therefore, we retrieve the jobs using the identifiers.\n"
   ]
  },
  {
   "cell_type": "code",
   "execution_count": 10,
   "id": "e8867615-d7fc-41f4-871b-81eb3e0d6105",
   "metadata": {},
   "outputs": [],
   "source": [
    "jobs_xy = list(map(jakarta.retrieve_job, job_ids_xy))\n",
    "jobs_yz = list(map(jakarta.retrieve_job, job_ids_yz))\n",
    "jobs_zx = list(map(jakarta.retrieve_job, job_ids_zx))"
   ]
  },
  {
   "cell_type": "markdown",
   "id": "7dfe2f1a-ef66-41c2-abf4-6ec3a722ec8b",
   "metadata": {},
   "source": [
    "## 8. Calculate the modifiers\n",
    "\n",
    "At the core of our approach are the count modifiers. Each modifier is the ratio between the noiseless and the noisy count of one training circuit. For instance, if the noiseless count of a training circuit is 50 and the noisy is 25, then the modifier is 2.\n"
   ]
  },
  {
   "cell_type": "code",
   "execution_count": 11,
   "id": "9d1c0157-8763-488e-85e0-e505fc9ccff0",
   "metadata": {},
   "outputs": [],
   "source": [
    "from collections import Counter\n",
    "from functools import reduce\n",
    "from qiskit import assemble, execute, transpile\n",
    "\n",
    "\n",
    "def sorted_counts(counts):\n",
    "    complete = dict(reduce(lambda a, b: a.update(b) or a, [{'000': 0, '001': 0, '010': 0, '011': 0, '100': 0, '101': 0, '110': 0, '111': 0}, counts], Counter()))\n",
    "    return {k: v for k, v in sorted(complete.items(), key=lambda item: item[0])}\n",
    "\n",
    "\n",
    "def get_jakarta_modifiers(qc, job, shots = 1024, display=True):\n",
    "    \n",
    "    t_qc_sim = transpile(qc, sim)\n",
    "    noiseless_result = sim.run( assemble(t_qc_sim), shots=shots).result()\n",
    "    noiseless_counts = sorted_counts(noiseless_result.get_counts())\n",
    "    \n",
    "    #t_qc = transpile(qc, sim_noisy_jakarta)\n",
    "    #qobj = assemble(t_qc)\n",
    "    counts = sorted_counts(job.result().get_counts(qc))\n",
    "    \n",
    "    zipped = list(zip(noiseless_counts.values(), counts.values()))\n",
    "    modifier = list(map(lambda pair: pair[0]/pair[1] if pair[1] > 0 else 1, zipped))\n",
    "\n",
    "    if display is True:\n",
    "        print(\"noisy:     \", counts)\n",
    "        print(\"nose-free: \", noiseless_counts)\n",
    "\n",
    "        print(\"modifier: \", modifier)\n",
    "        print(\"\\n\")\n",
    "    \n",
    "    return modifier\n",
    "\n"
   ]
  },
  {
   "cell_type": "markdown",
   "id": "d639681a-a967-4fcf-8d3f-e67c8f6ac276",
   "metadata": {},
   "source": [
    "Further, we reorder the data to get a list of 27 (one per state tomography circuit). Each item contains 8 modifiers. This is one per possible state (from `000` to `111`)."
   ]
  },
  {
   "cell_type": "code",
   "execution_count": 39,
   "id": "dfccdd9b-2301-438b-b5f3-3795c06f803c",
   "metadata": {},
   "outputs": [],
   "source": [
    "from functools import reduce\n",
    "\n",
    "# each variable is a list of the trotters/2=6 jobs. Each job is a list of 27 state tomography circuits. Each of these lists \n",
    "list_modifiers_xy = list(map(lambda job: list(map(lambda qc: get_jakarta_modifiers(qc,job, display=False), train_st_qcs_xy)), jobs_xy))\n",
    "list_modifiers_yz = list(map(lambda job: list(map(lambda qc: get_jakarta_modifiers(qc, job, display=False), train_st_qcs_yz)), jobs_yz))\n",
    "list_modifiers_zx = list(map(lambda job: list(map(lambda qc: get_jakarta_modifiers(qc, job, display=False), train_st_qcs_zx)), jobs_zx))\n",
    "\n",
    "\n",
    "# reorder the data\n",
    "state_tomography_xy = list(zip(*list_modifiers_xy))\n",
    "state_tomography_yz = list(zip(*list_modifiers_yz))\n",
    "state_tomography_zx = list(zip(*list_modifiers_zx))\n",
    "\n",
    "zipped = list(map(lambda l: [item for sublist in l  for item in sublist], list(zip(state_tomography_xy, state_tomography_yz, state_tomography_zx))))\n",
    "\n",
    "\n",
    "def calc_modifier(stqc):\n",
    "    mods = list(map(lambda mod_list: reduce(lambda a,b: a*b, mod_list, 1), zip(*stqc)))\n",
    "    return mods\n",
    "    \n",
    "\n",
    "mods = list(map(calc_modifier,zipped))"
   ]
  },
  {
   "cell_type": "markdown",
   "id": "41fe3eb4-5c63-4fe7-ab27-294f931b10fb",
   "metadata": {},
   "source": [
    "## 9. Evaluate the performance\n",
    "\n",
    "The following step calculates the fidelity of each evaluation job.\n"
   ]
  },
  {
   "cell_type": "code",
   "execution_count": 41,
   "id": "293f1a7c-73a3-44b5-a065-4873efe5aba0",
   "metadata": {},
   "outputs": [
    {
     "name": "stdout",
     "output_type": "stream",
     "text": [
      "noisy state tomography fidelity = 0.1109 ± 0.0036\n",
      "noise-free state tomography fidelity = 0.9625 ± 0.0000\n",
      "mitigated state tomography fidelity = 0.5097 ± 0.0091\n"
     ]
    }
   ],
   "source": [
    "\n",
    "shots = 1024\n",
    "st_qcs = state_tomography_circuits(get_circuit(False, trotters, True, True, True), [1,3,5])\n",
    "\n",
    "noisefree_job = execute(st_qcs, sim, shots=shots)\n",
    "noisefree_fid = state_tomo(noisefree_job.result(), st_qcs, mods, mitigate=False)\n",
    "\n",
    "# Compute tomography fidelities for each repetition\n",
    "noisy_fids = []\n",
    "mitigated_fids = []\n",
    "\n",
    "for jobid in complete_job_ids:\n",
    "    noisy_job = jakarta.retrieve_job(jobid)\n",
    "    \n",
    "    noisy_fid = state_tomo(noisy_job.result(), st_qcs, mods, mitigate=False)\n",
    "    mitigated_fid = state_tomo(noisy_job.result(), st_qcs, mods, mitigate=True)\n",
    "\n",
    "    noisy_fids.append(noisy_fid)\n",
    "    mitigated_fids.append(mitigated_fid)\n",
    "\n",
    "\n",
    "\n",
    "print('noisy state tomography fidelity = {:.4f} \\u00B1 {:.4f}'.format(np.mean(noisy_fids), np.std(noisy_fids)))\n",
    "print('noise-free state tomography fidelity = {:.4f} \\u00B1 {:.4f}'.format(np.mean([noisefree_fid]), np.std([noisefree_fid])))\n",
    "print('mitigated state tomography fidelity = {:.4f} \\u00B1 {:.4f}'.format(np.mean(mitigated_fids), np.std(mitigated_fids)))\n"
   ]
  },
  {
   "cell_type": "code",
   "execution_count": null,
   "id": "50b67ad8-76ad-4982-8048-6ac03c450949",
   "metadata": {},
   "outputs": [],
   "source": [
    "We calculate further statistics about the error reduction."
   ]
  },
  {
   "cell_type": "code",
   "execution_count": 43,
   "id": "47b98de4-b7ad-4721-817d-b826fc91541d",
   "metadata": {},
   "outputs": [
    {
     "name": "stdout",
     "output_type": "stream",
     "text": [
      "Error (unmitigated): 0.8515999368634573\n",
      "Error (mitigated): 0.4527662343064023\n",
      "Relative error (unmitigated): 0.8848172148711483\n",
      "Relative error (mitigatedR): 0.4704267122214712\n",
      "Error reduction: 46.8%.\n"
     ]
    }
   ],
   "source": [
    "unmitigated = np.mean(noisy_fids)\n",
    "ideal = np.mean([noisefree_fid])\n",
    "mitigated = np.mean(mitigated_fids)\n",
    "\n",
    "error_unmitigated = abs(unmitigated-ideal)\n",
    "error_mitigated = abs(mitigated-ideal)\n",
    "\n",
    "print(\"Error (unmitigated):\", error_unmitigated)\n",
    "print(\"Error (mitigated):\", error_mitigated)\n",
    "\n",
    "print(\"Relative error (unmitigated):\", (error_unmitigated/ideal))\n",
    "print(\"Relative error (mitigatedR):\", error_mitigated/ideal)\n",
    "\n",
    "print(f\"Error reduction: {(error_unmitigated-error_mitigated)/error_unmitigated :.1%}.\")"
   ]
  },
  {
   "cell_type": "markdown",
   "id": "4cf96502-5d13-4aa8-b400-a8d7dfcf5ec2",
   "metadata": {},
   "source": [
    "## 10. Assessment\n",
    "\n",
    "We see a mitigated state tomography fidelity of **0.5097** based on 12 trotter steps. With a noisefree fidelity of 0.96 and an unmitigated fidelity of 0.11, we achieve an overall error reduction of 46.8%.\n"
   ]
  }
 ],
 "metadata": {
  "kernelspec": {
   "display_name": "Python 3 (ipykernel)",
   "language": "python",
   "name": "python3"
  },
  "language_info": {
   "codemirror_mode": {
    "name": "ipython",
    "version": 3
   },
   "file_extension": ".py",
   "mimetype": "text/x-python",
   "name": "python",
   "nbconvert_exporter": "python",
   "pygments_lexer": "ipython3",
   "version": "3.9.2"
  }
 },
 "nbformat": 4,
 "nbformat_minor": 5
}
