{
 "cells": [
  {
   "cell_type": "markdown",
   "id": "36faa02d-f70f-4394-9789-22540cb2ed9e",
   "metadata": {},
   "source": [
    "\n",
    "In their second Quantum Open Science Prize, IBM offers $100,000 in prize money to those whose algorithms can best handle the inherent noise of their real Jakarta-based quantum computer. Since the Jakarta device is too small to apply quantum error correction codes, it won't be able to achieve a perfect result. Therefore, the best we can do is to use a quantum error mitigation method that reduces how the noise affects the result of a computation.\n",
    "\n",
    "in the previous post, we saw that we can use CDR to effectively reduce the impact noise has on the result of a the exemplary quantum computation. We reduced the errors by 60%. \n",
    "\n",
    "So, let's take the next step towards solving the IBM challenge by not running the Mitiq example but the Trotterized Heisenberg Simulation.\n",
    "\n",
    "First revisit the code we ran.\n",
    "\n",
    "The quantum circuit we need to define represents the problem we aim to solve, such as the Hamiltonian simulation IBM asks us for. Yet, we stick with the example Mitiq provides. This is a two-qubit circuit that only consists of Clifford gates and rotations around the Z-axis ( 𝑅𝑍 ). Clifford gates are easy to simulate on a classical computer--a precondition for the CDR method.\n"
   ]
  },
  {
   "cell_type": "code",
   "execution_count": 9,
   "id": "9d62d064-e9b4-4bf4-8059-032a7df21650",
   "metadata": {},
   "outputs": [],
   "source": [
    "# 1. Define a quantum circuit\n",
    "from qiskit import QuantumCircuit\n",
    "\n",
    "def get_circuit():\n",
    "    qc = QuantumCircuit(2)\n",
    "\n",
    "    # CDR works better if the circuit is not too short. So we increase its depth.\n",
    "    for i in range(5): \n",
    "        qc.h(0) # Clifford\n",
    "        qc.h(1) # Clifford\n",
    "        qc.rz(1.75, 0)\n",
    "        qc.rz(2.31, 1)\n",
    "        qc.cx(0,1) # Clifford\n",
    "        qc.rz(-1.17, 1)\n",
    "        qc.rz(3.23, 0)\n",
    "        qc.rx(pi/2, 0) # Clifford\n",
    "        qc.rx(pi/2, 1) # Clifford\n",
    "\n",
    "    # We need to measure the qubits\n",
    "    #qc.measure_all()\n",
    "    return qc"
   ]
  },
  {
   "cell_type": "markdown",
   "id": "3d6c9e26-9420-4ab0-8eb1-d0e81f8a9374",
   "metadata": {},
   "source": [
    "Generally, the observable is something we can measure. But, let's not get into the physical details too much. Rather, let's look at it from a conceptual perspective.\n",
    "\n",
    "A qubit is a two-dimensional system as depicted in the following image. The poles of the visualization depict the basis states  |0⟩  and  |1⟩ . The arrow is the quantum state vector. The proximities to the poles (the basis states) denote the amplitudes whose squares are the probabilities of measuring the qubit as either 0 or 1. Simply put, the closer the quantum state vector is to the basis state  |1⟩  the higher the probability of measuring the qubit as a 1."
   ]
  },
  {
   "cell_type": "code",
   "execution_count": 10,
   "id": "5e44d252-54cc-4864-b5fd-171f64a481df",
   "metadata": {},
   "outputs": [
    {
     "name": "stdout",
     "output_type": "stream",
     "text": [
      "Z(0)*Z(1)\n"
     ]
    }
   ],
   "source": [
    "from mitiq import Observable, PauliString\n",
    "\n",
    "obs = Observable(PauliString(\"ZZ\"))\n",
    "print(obs)"
   ]
  },
  {
   "cell_type": "code",
   "execution_count": null,
   "id": "117a253d-681e-46ee-882b-3656e7a29205",
   "metadata": {},
   "outputs": [],
   "source": [
    "And, we need to executors. A noisy and a noise-free."
   ]
  },
  {
   "cell_type": "code",
   "execution_count": null,
   "id": "684f4b8a-3ea8-48e4-ae83-2e628adcc923",
   "metadata": {},
   "outputs": [],
   "source": []
  },
  {
   "cell_type": "code",
   "execution_count": 11,
   "id": "cf89177e-b614-47bd-b52a-18f36d3c81dd",
   "metadata": {},
   "outputs": [],
   "source": [
    "# 2. Define an executor\n",
    "from mitiq.interface.mitiq_qiskit import qiskit_utils\n",
    "from qiskit import QuantumCircuit, execute, Aer\n",
    "import qiskit.providers.aer.noise as noise\n",
    "\n",
    "# Error probabilities\n",
    "prob_1 = 0.005  # 1-qubit gate\n",
    "prob_2 = 0.01   # 2-qubit gate\n",
    "\n",
    "# Depolarizing quantum errors\n",
    "error_1 = noise.depolarizing_error(prob_1, 1)\n",
    "error_2 = noise.depolarizing_error(prob_2, 2)\n",
    "\n",
    "# Add errors to noise model\n",
    "noise_model = noise.NoiseModel()\n",
    "noise_model.add_all_qubit_quantum_error(error_1, ['u1', 'u2', 'u3'])\n",
    "noise_model.add_all_qubit_quantum_error(error_2, ['cx'])\n",
    "\n",
    "def sim_noise(qc):\n",
    "    return qiskit_utils.execute_with_shots_and_noise(qc, obs.matrix(), noise_model, 4096)\n"
   ]
  },
  {
   "cell_type": "code",
   "execution_count": 12,
   "id": "d992e3e8-cce7-4772-8e53-1cfb24590814",
   "metadata": {},
   "outputs": [],
   "source": [
    "def sim(qc):\n",
    "    return qiskit_utils.execute_with_shots(qc, obs.matrix(), 4096)\n"
   ]
  },
  {
   "cell_type": "code",
   "execution_count": 13,
   "id": "1440fb82-3aef-4498-a0cf-514999d6575e",
   "metadata": {},
   "outputs": [
    {
     "name": "stdout",
     "output_type": "stream",
     "text": [
      "ideal_measurement =  0.98388671875\n"
     ]
    }
   ],
   "source": [
    "ideal_measurement = obs.expectation(get_circuit(), sim).real\n",
    "print(\"ideal_measurement = \",ideal_measurement)"
   ]
  },
  {
   "cell_type": "markdown",
   "id": "02387ef7-35dd-401c-9a64-20b797fb69aa",
   "metadata": {},
   "source": [
    "Then, we compute the unmitigated noisy result.\n"
   ]
  },
  {
   "cell_type": "code",
   "execution_count": 14,
   "id": "6f9dab04-c7a5-465a-b8fd-b7acaf6d641f",
   "metadata": {},
   "outputs": [
    {
     "name": "stdout",
     "output_type": "stream",
     "text": [
      "unmitigated_measurement =  0.85888671875\n"
     ]
    }
   ],
   "source": [
    "unmitigated_measurement = obs.expectation(get_circuit(), sim_noise).real\n",
    "print(\"unmitigated_measurement = \", unmitigated_measurement)"
   ]
  },
  {
   "cell_type": "code",
   "execution_count": null,
   "id": "41958010-16e0-40e7-96e7-84f972084272",
   "metadata": {},
   "outputs": [],
   "source": [
    "So, let's use the Trotterized circuit"
   ]
  },
  {
   "cell_type": "code",
   "execution_count": 15,
   "id": "c0ff50da-e664-421b-93bb-1a941aec1099",
   "metadata": {},
   "outputs": [
    {
     "name": "stderr",
     "output_type": "stream",
     "text": [
      "/tmp/ipykernel_61/2156713432.py:13: DeprecationWarning: The qiskit.ignis package is deprecated and has been supersceded by the qiskit-experiments project. Refer to the migration guide: https://github.com/Qiskit/qiskit-ignis#migration-guide on how to migrate to the new project.\n",
      "  from qiskit.ignis.verification.tomography import state_tomography_circuits, StateTomographyFitter\n"
     ]
    },
    {
     "data": {
      "text/html": [
       "<pre style=\"word-wrap: normal;white-space: pre;background: #fff0;line-height: 1.1;font-family: &quot;Courier New&quot;,Courier,monospace\">                                                                     ░       »\n",
       "q23_0: ──────────────────────────────────────────────────────────────░───────»\n",
       "            ┌────────────┐┌────────────┐┌────────────┐┌────────────┐ ░ ┌─┐   »\n",
       "q23_1: ─────┤0           ├┤0           ├┤0           ├┤0           ├─░─┤M├───»\n",
       "            │            ││            ││            ││            │ ░ └╥┘   »\n",
       "q23_2: ─────┤            ├┤            ├┤            ├┤            ├─░──╫────»\n",
       "       ┌───┐│            ││            ││            ││            │ ░  ║ ┌─┐»\n",
       "q23_3: ┤ X ├┤1 Trot(π/4) ├┤1 Trot(π/4) ├┤1 Trot(π/4) ├┤1 Trot(π/4) ├─░──╫─┤M├»\n",
       "       └───┘│            ││            ││            ││            │ ░  ║ └╥┘»\n",
       "q23_4: ─────┤            ├┤            ├┤            ├┤            ├─░──╫──╫─»\n",
       "       ┌───┐│            ││            ││            ││            │ ░  ║  ║ »\n",
       "q23_5: ┤ X ├┤2           ├┤2           ├┤2           ├┤2           ├─░──╫──╫─»\n",
       "       └───┘└────────────┘└────────────┘└────────────┘└────────────┘ ░  ║  ║ »\n",
       "q23_6: ──────────────────────────────────────────────────────────────░──╫──╫─»\n",
       "                                                                     ░  ║  ║ »\n",
       " c0: 3/═════════════════════════════════════════════════════════════════╩══╩═»\n",
       "                                                                        0  1 »\n",
       "«          \n",
       "«q23_0: ───\n",
       "«          \n",
       "«q23_1: ───\n",
       "«          \n",
       "«q23_2: ───\n",
       "«          \n",
       "«q23_3: ───\n",
       "«          \n",
       "«q23_4: ───\n",
       "«       ┌─┐\n",
       "«q23_5: ┤M├\n",
       "«       └╥┘\n",
       "«q23_6: ─╫─\n",
       "«        ║ \n",
       "« c0: 3/═╩═\n",
       "«        2 </pre>"
      ],
      "text/plain": [
       "                                                                     ░       »\n",
       "q23_0: ──────────────────────────────────────────────────────────────░───────»\n",
       "            ┌────────────┐┌────────────┐┌────────────┐┌────────────┐ ░ ┌─┐   »\n",
       "q23_1: ─────┤0           ├┤0           ├┤0           ├┤0           ├─░─┤M├───»\n",
       "            │            ││            ││            ││            │ ░ └╥┘   »\n",
       "q23_2: ─────┤            ├┤            ├┤            ├┤            ├─░──╫────»\n",
       "       ┌───┐│            ││            ││            ││            │ ░  ║ ┌─┐»\n",
       "q23_3: ┤ X ├┤1 Trot(π/4) ├┤1 Trot(π/4) ├┤1 Trot(π/4) ├┤1 Trot(π/4) ├─░──╫─┤M├»\n",
       "       └───┘│            ││            ││            ││            │ ░  ║ └╥┘»\n",
       "q23_4: ─────┤            ├┤            ├┤            ├┤            ├─░──╫──╫─»\n",
       "       ┌───┐│            ││            ││            ││            │ ░  ║  ║ »\n",
       "q23_5: ┤ X ├┤2           ├┤2           ├┤2           ├┤2           ├─░──╫──╫─»\n",
       "       └───┘└────────────┘└────────────┘└────────────┘└────────────┘ ░  ║  ║ »\n",
       "q23_6: ──────────────────────────────────────────────────────────────░──╫──╫─»\n",
       "                                                                     ░  ║  ║ »\n",
       " c0: 3/═════════════════════════════════════════════════════════════════╩══╩═»\n",
       "                                                                        0  1 »\n",
       "«          \n",
       "«q23_0: ───\n",
       "«          \n",
       "«q23_1: ───\n",
       "«          \n",
       "«q23_2: ───\n",
       "«          \n",
       "«q23_3: ───\n",
       "«          \n",
       "«q23_4: ───\n",
       "«       ┌─┐\n",
       "«q23_5: ┤M├\n",
       "«       └╥┘\n",
       "«q23_6: ─╫─\n",
       "«        ║ \n",
       "« c0: 3/═╩═\n",
       "«        2 "
      ]
     },
     "execution_count": 15,
     "metadata": {},
     "output_type": "execute_result"
    }
   ],
   "source": [
    "import numpy as np\n",
    "import matplotlib.pyplot as plt\n",
    "plt.rcParams.update({'font.size': 16})  # enlarge matplotlib fonts\n",
    "\n",
    "# Import qubit states Zero (|0>) and One (|1>), and Pauli operators (X, Y, Z)\n",
    "from qiskit.opflow import Zero, One, I, X, Y, Z\n",
    "from qiskit import QuantumCircuit, QuantumRegister, IBMQ, execute, transpile, Aer\n",
    "from qiskit.providers.aer import QasmSimulator\n",
    "from qiskit.tools.monitor import job_monitor\n",
    "from qiskit.circuit import Parameter\n",
    "\n",
    "# Import state tomography modules\n",
    "from qiskit.ignis.verification.tomography import state_tomography_circuits, StateTomographyFitter\n",
    "from qiskit.quantum_info import state_fidelity\n",
    "\n",
    "# Suppress warnings\n",
    "import warnings\n",
    "warnings.filterwarnings('ignore')\n",
    "\n",
    "from qiskit import QuantumCircuit\n",
    "from mitiq.interface.mitiq_qiskit import qiskit_utils\n",
    "from mitiq import Observable, PauliString\n",
    "from typing import Any, Callable, Optional, Sequence, Union\n",
    "import numpy as np\n",
    "from scipy.optimize import curve_fit\n",
    "\n",
    "from mitiq import Executor, Observable, QPROGRAM, QuantumResult\n",
    "from mitiq.cdr import (\n",
    "    generate_training_circuits,\n",
    "    linear_fit_function,\n",
    "    linear_fit_function_no_intercept,\n",
    "    is_clifford,\n",
    ")\n",
    "from mitiq.zne.scaling import fold_gates_at_random\n",
    "\n",
    "\n",
    "# YOUR TROTTERIZATION GOES HERE -- START (beginning of example)\n",
    "\n",
    "# Parameterize variable t to be evaluated at t=pi later\n",
    "t = Parameter('t')\n",
    "\n",
    "# Build a subcircuit for XX(t) two-qubit gate\n",
    "XX_qr = QuantumRegister(2)\n",
    "XX_qc = QuantumCircuit(XX_qr, name='XX')\n",
    "\n",
    "XX_qc.ry(np.pi/2,[0,1])\n",
    "XX_qc.cnot(0,1)\n",
    "XX_qc.rz(2 * t, 1)\n",
    "XX_qc.cnot(0,1)\n",
    "XX_qc.ry(-np.pi/2,[0,1])\n",
    "\n",
    "# Convert custom quantum circuit into a gate\n",
    "XX = XX_qc.to_instruction()\n",
    "\n",
    "# Build a subcircuit for YY(t) two-qubit gate\n",
    "YY_qr = QuantumRegister(2)\n",
    "YY_qc = QuantumCircuit(YY_qr, name='YY')\n",
    "\n",
    "YY_qc.rx(np.pi/2,[0,1])\n",
    "YY_qc.cnot(0,1)\n",
    "YY_qc.rz(2 * t, 1)\n",
    "YY_qc.cnot(0,1)\n",
    "YY_qc.rx(-np.pi/2,[0,1])\n",
    "\n",
    "# Convert custom quantum circuit into a gate\n",
    "YY = YY_qc.to_instruction()\n",
    "\n",
    "# Build a subcircuit for ZZ(t) two-qubit gate\n",
    "ZZ_qr = QuantumRegister(2)\n",
    "ZZ_qc = QuantumCircuit(ZZ_qr, name='ZZ')\n",
    "\n",
    "ZZ_qc.cnot(0,1)\n",
    "ZZ_qc.rz(2 * t, 1)\n",
    "ZZ_qc.cnot(0,1)\n",
    "\n",
    "# Convert custom quantum circuit into a gate\n",
    "ZZ = ZZ_qc.to_instruction()\n",
    "\n",
    "# Combine subcircuits into a single multiqubit gate representing a single trotter step\n",
    "num_qubits = 3\n",
    "\n",
    "Trot_qr = QuantumRegister(num_qubits)\n",
    "Trot_qc = QuantumCircuit(Trot_qr, name='Trot')\n",
    "\n",
    "for i in range(0, num_qubits - 1):\n",
    "    Trot_qc.append(ZZ, [Trot_qr[i], Trot_qr[i+1]])\n",
    "    Trot_qc.append(YY, [Trot_qr[i], Trot_qr[i+1]])\n",
    "    Trot_qc.append(XX, [Trot_qr[i], Trot_qr[i+1]])\n",
    "\n",
    "# Convert custom quantum circuit into a gate\n",
    "Trot_gate = Trot_qc.to_instruction()\n",
    "XX_qc.draw()\n",
    "# YOUR TROTTERIZATION GOES HERE -- FINISH (end of example)\n",
    "\n",
    "def get_circuit(steps=4):\n",
    "    \n",
    "    # The final time of the state evolution\n",
    "    target_time = np.pi\n",
    "\n",
    "    # Number of trotter steps\n",
    "    trotter_steps = steps  ### CAN BE >= 4\n",
    "\n",
    "    # Initialize quantum circuit for 3 qubits\n",
    "    qr = QuantumRegister(7)\n",
    "    qc = QuantumCircuit(qr)\n",
    "\n",
    "    # Prepare initial state (remember we are only evolving 3 of the 7 qubits on jakarta qubits (q_5, q_3, q_1) corresponding to the state |110>)\n",
    "    qc.x([3,5])  # DO NOT MODIFY (|q_5,q_3,q_1> = |110>)\n",
    "\n",
    "    # Simulate time evolution under H_heis3 Hamiltonian\n",
    "    for _ in range(trotter_steps):\n",
    "        qc.append(Trot_gate, [qr[1], qr[3], qr[5]])\n",
    "\n",
    "    # Evaluate simulation at target_time (t=pi) meaning each trotter step evolves pi/trotter_steps in time\n",
    "    qc = qc.bind_parameters({t: target_time/trotter_steps})\n",
    "\n",
    "    # Generate state tomography circuits to evaluate fidelity of simulation\n",
    "    st_qcs = state_tomography_circuits(qc, [qr[1], qr[3], qr[5]])\n",
    "\n",
    "    \n",
    "    \n",
    "    return st_qcs[-1]\n",
    "\n",
    "get_circuit().draw()  # only view trotter gates"
   ]
  },
  {
   "cell_type": "code",
   "execution_count": 48,
   "id": "7f310d5a-c3cf-436f-90d7-39d65bd5613b",
   "metadata": {},
   "outputs": [
    {
     "ename": "CircuitConversionError",
     "evalue": "Circuit could not be converted to an internal Mitiq circuit. This may be because the circuit contains custom gates or Pragmas (pyQuil). If you think this is a bug or that this circuit should be supported, you can open an issue at https://github.com/unitaryfund/mitiq. \n\nProvided circuit has type <class 'qiskit.circuit.quantumcircuit.QuantumCircuit'> and is:\n\n                                                                     ░       »\nq80_0: ──────────────────────────────────────────────────────────────░───────»\n            ┌────────────┐┌────────────┐┌────────────┐┌────────────┐ ░ ┌─┐   »\nq80_1: ─────┤0           ├┤0           ├┤0           ├┤0           ├─░─┤M├───»\n            │            ││            ││            ││            │ ░ └╥┘   »\nq80_2: ─────┤            ├┤            ├┤            ├┤            ├─░──╫────»\n       ┌───┐│            ││            ││            ││            │ ░  ║ ┌─┐»\nq80_3: ┤ X ├┤1 Trot(π/4) ├┤1 Trot(π/4) ├┤1 Trot(π/4) ├┤1 Trot(π/4) ├─░──╫─┤M├»\n       └───┘│            ││            ││            ││            │ ░  ║ └╥┘»\nq80_4: ─────┤            ├┤            ├┤            ├┤            ├─░──╫──╫─»\n       ┌───┐│            ││            ││            ││            │ ░  ║  ║ »\nq80_5: ┤ X ├┤2           ├┤2           ├┤2           ├┤2           ├─░──╫──╫─»\n       └───┘└────────────┘└────────────┘└────────────┘└────────────┘ ░  ║  ║ »\nq80_6: ──────────────────────────────────────────────────────────────░──╫──╫─»\n                                                                     ░  ║  ║ »\n c3: 3/═════════════════════════════════════════════════════════════════╩══╩═»\n                                                                        0  1 »\n«          \n«q80_0: ───\n«          \n«q80_1: ───\n«          \n«q80_2: ───\n«          \n«q80_3: ───\n«          \n«q80_4: ───\n«       ┌─┐\n«q80_5: ┤M├\n«       └╥┘\n«q80_6: ─╫─\n«        ║ \n« c3: 3/═╩═\n«        2 \n\nCircuit types supported by Mitiq are \n{'cirq': 'Circuit', 'pyquil': 'Program', 'qiskit': 'QuantumCircuit', 'braket': 'Circuit', 'pennylane': 'QuantumTape'}.",
     "output_type": "error",
     "traceback": [
      "\u001b[0;31m---------------------------------------------------------------------------\u001b[0m",
      "\u001b[0;31mQasmException\u001b[0m                             Traceback (most recent call last)",
      "\u001b[0;32m/usr/local/lib/python3.9/site-packages/mitiq/interface/conversions.py\u001b[0m in \u001b[0;36mconvert_to_mitiq\u001b[0;34m(circuit)\u001b[0m\n\u001b[1;32m     88\u001b[0m     \u001b[0;32mtry\u001b[0m\u001b[0;34m:\u001b[0m\u001b[0;34m\u001b[0m\u001b[0;34m\u001b[0m\u001b[0m\n\u001b[0;32m---> 89\u001b[0;31m         \u001b[0mmitiq_circuit\u001b[0m \u001b[0;34m=\u001b[0m \u001b[0mconversion_function\u001b[0m\u001b[0;34m(\u001b[0m\u001b[0mcircuit\u001b[0m\u001b[0;34m)\u001b[0m\u001b[0;34m\u001b[0m\u001b[0;34m\u001b[0m\u001b[0m\n\u001b[0m\u001b[1;32m     90\u001b[0m     \u001b[0;32mexcept\u001b[0m \u001b[0mException\u001b[0m\u001b[0;34m:\u001b[0m\u001b[0;34m\u001b[0m\u001b[0;34m\u001b[0m\u001b[0m\n",
      "\u001b[0;32m/usr/local/lib/python3.9/site-packages/mitiq/interface/mitiq_qiskit/conversions.py\u001b[0m in \u001b[0;36mfrom_qiskit\u001b[0;34m(circuit)\u001b[0m\n\u001b[1;32m    246\u001b[0m     \"\"\"\n\u001b[0;32m--> 247\u001b[0;31m     \u001b[0;32mreturn\u001b[0m \u001b[0mfrom_qasm\u001b[0m\u001b[0;34m(\u001b[0m\u001b[0mcircuit\u001b[0m\u001b[0;34m.\u001b[0m\u001b[0mqasm\u001b[0m\u001b[0;34m(\u001b[0m\u001b[0;34m)\u001b[0m\u001b[0;34m)\u001b[0m\u001b[0;34m\u001b[0m\u001b[0;34m\u001b[0m\u001b[0m\n\u001b[0m\u001b[1;32m    248\u001b[0m \u001b[0;34m\u001b[0m\u001b[0m\n",
      "\u001b[0;32m/usr/local/lib/python3.9/site-packages/mitiq/interface/mitiq_qiskit/conversions.py\u001b[0m in \u001b[0;36mfrom_qasm\u001b[0;34m(qasm)\u001b[0m\n\u001b[1;32m    259\u001b[0m     \u001b[0mqasm\u001b[0m \u001b[0;34m=\u001b[0m \u001b[0m_remove_qasm_barriers\u001b[0m\u001b[0;34m(\u001b[0m\u001b[0mqasm\u001b[0m\u001b[0;34m)\u001b[0m\u001b[0;34m\u001b[0m\u001b[0;34m\u001b[0m\u001b[0m\n\u001b[0;32m--> 260\u001b[0;31m     \u001b[0;32mreturn\u001b[0m \u001b[0mcircuit_from_qasm\u001b[0m\u001b[0;34m(\u001b[0m\u001b[0mqasm\u001b[0m\u001b[0;34m)\u001b[0m\u001b[0;34m\u001b[0m\u001b[0;34m\u001b[0m\u001b[0m\n\u001b[0m",
      "\u001b[0;32m/usr/local/lib/python3.9/site-packages/cirq/contrib/qasm_import/qasm.py\u001b[0m in \u001b[0;36mcircuit_from_qasm\u001b[0;34m(qasm)\u001b[0m\n\u001b[1;32m     28\u001b[0m \u001b[0;34m\u001b[0m\u001b[0m\n\u001b[0;32m---> 29\u001b[0;31m     \u001b[0;32mreturn\u001b[0m \u001b[0mQasmParser\u001b[0m\u001b[0;34m(\u001b[0m\u001b[0;34m)\u001b[0m\u001b[0;34m.\u001b[0m\u001b[0mparse\u001b[0m\u001b[0;34m(\u001b[0m\u001b[0mqasm\u001b[0m\u001b[0;34m)\u001b[0m\u001b[0;34m.\u001b[0m\u001b[0mcircuit\u001b[0m\u001b[0;34m\u001b[0m\u001b[0;34m\u001b[0m\u001b[0m\n\u001b[0m",
      "\u001b[0;32m/usr/local/lib/python3.9/site-packages/cirq/contrib/qasm_import/_parser.py\u001b[0m in \u001b[0;36mparse\u001b[0;34m(self, qasm)\u001b[0m\n\u001b[1;32m    518\u001b[0m             \u001b[0mself\u001b[0m\u001b[0;34m.\u001b[0m\u001b[0mlexer\u001b[0m\u001b[0;34m.\u001b[0m\u001b[0minput\u001b[0m\u001b[0;34m(\u001b[0m\u001b[0mself\u001b[0m\u001b[0;34m.\u001b[0m\u001b[0mqasm\u001b[0m\u001b[0;34m)\u001b[0m\u001b[0;34m\u001b[0m\u001b[0;34m\u001b[0m\u001b[0m\n\u001b[0;32m--> 519\u001b[0;31m             \u001b[0mself\u001b[0m\u001b[0;34m.\u001b[0m\u001b[0mparsedQasm\u001b[0m \u001b[0;34m=\u001b[0m \u001b[0mself\u001b[0m\u001b[0;34m.\u001b[0m\u001b[0mparser\u001b[0m\u001b[0;34m.\u001b[0m\u001b[0mparse\u001b[0m\u001b[0;34m(\u001b[0m\u001b[0mlexer\u001b[0m\u001b[0;34m=\u001b[0m\u001b[0mself\u001b[0m\u001b[0;34m.\u001b[0m\u001b[0mlexer\u001b[0m\u001b[0;34m)\u001b[0m\u001b[0;34m\u001b[0m\u001b[0;34m\u001b[0m\u001b[0m\n\u001b[0m\u001b[1;32m    520\u001b[0m         \u001b[0;32mreturn\u001b[0m \u001b[0mself\u001b[0m\u001b[0;34m.\u001b[0m\u001b[0mparsedQasm\u001b[0m\u001b[0;34m\u001b[0m\u001b[0;34m\u001b[0m\u001b[0m\n",
      "\u001b[0;32m/usr/local/lib/python3.9/site-packages/ply/yacc.py\u001b[0m in \u001b[0;36mparse\u001b[0;34m(self, input, lexer, debug, tracking, tokenfunc)\u001b[0m\n\u001b[1;32m    332\u001b[0m         \u001b[0;32melse\u001b[0m\u001b[0;34m:\u001b[0m\u001b[0;34m\u001b[0m\u001b[0;34m\u001b[0m\u001b[0m\n\u001b[0;32m--> 333\u001b[0;31m             \u001b[0;32mreturn\u001b[0m \u001b[0mself\u001b[0m\u001b[0;34m.\u001b[0m\u001b[0mparseopt_notrack\u001b[0m\u001b[0;34m(\u001b[0m\u001b[0minput\u001b[0m\u001b[0;34m,\u001b[0m \u001b[0mlexer\u001b[0m\u001b[0;34m,\u001b[0m \u001b[0mdebug\u001b[0m\u001b[0;34m,\u001b[0m \u001b[0mtracking\u001b[0m\u001b[0;34m,\u001b[0m \u001b[0mtokenfunc\u001b[0m\u001b[0;34m)\u001b[0m\u001b[0;34m\u001b[0m\u001b[0;34m\u001b[0m\u001b[0m\n\u001b[0m\u001b[1;32m    334\u001b[0m \u001b[0;34m\u001b[0m\u001b[0m\n",
      "\u001b[0;32m/usr/local/lib/python3.9/site-packages/ply/yacc.py\u001b[0m in \u001b[0;36mparseopt_notrack\u001b[0;34m(self, input, lexer, debug, tracking, tokenfunc)\u001b[0m\n\u001b[1;32m   1200\u001b[0m                         \u001b[0mself\u001b[0m\u001b[0;34m.\u001b[0m\u001b[0mstate\u001b[0m \u001b[0;34m=\u001b[0m \u001b[0mstate\u001b[0m\u001b[0;34m\u001b[0m\u001b[0;34m\u001b[0m\u001b[0m\n\u001b[0;32m-> 1201\u001b[0;31m                         \u001b[0mtok\u001b[0m \u001b[0;34m=\u001b[0m \u001b[0mcall_errorfunc\u001b[0m\u001b[0;34m(\u001b[0m\u001b[0mself\u001b[0m\u001b[0;34m.\u001b[0m\u001b[0merrorfunc\u001b[0m\u001b[0;34m,\u001b[0m \u001b[0merrtoken\u001b[0m\u001b[0;34m,\u001b[0m \u001b[0mself\u001b[0m\u001b[0;34m)\u001b[0m\u001b[0;34m\u001b[0m\u001b[0;34m\u001b[0m\u001b[0m\n\u001b[0m\u001b[1;32m   1202\u001b[0m                         \u001b[0;32mif\u001b[0m \u001b[0mself\u001b[0m\u001b[0;34m.\u001b[0m\u001b[0merrorok\u001b[0m\u001b[0;34m:\u001b[0m\u001b[0;34m\u001b[0m\u001b[0;34m\u001b[0m\u001b[0m\n",
      "\u001b[0;32m/usr/local/lib/python3.9/site-packages/ply/yacc.py\u001b[0m in \u001b[0;36mcall_errorfunc\u001b[0;34m(errorfunc, token, parser)\u001b[0m\n\u001b[1;32m    191\u001b[0m     \u001b[0m_restart\u001b[0m \u001b[0;34m=\u001b[0m \u001b[0mparser\u001b[0m\u001b[0;34m.\u001b[0m\u001b[0mrestart\u001b[0m\u001b[0;34m\u001b[0m\u001b[0;34m\u001b[0m\u001b[0m\n\u001b[0;32m--> 192\u001b[0;31m     \u001b[0mr\u001b[0m \u001b[0;34m=\u001b[0m \u001b[0merrorfunc\u001b[0m\u001b[0;34m(\u001b[0m\u001b[0mtoken\u001b[0m\u001b[0;34m)\u001b[0m\u001b[0;34m\u001b[0m\u001b[0;34m\u001b[0m\u001b[0m\n\u001b[0m\u001b[1;32m    193\u001b[0m     \u001b[0;32mtry\u001b[0m\u001b[0;34m:\u001b[0m\u001b[0;34m\u001b[0m\u001b[0;34m\u001b[0m\u001b[0m\n",
      "\u001b[0;32m/usr/local/lib/python3.9/site-packages/cirq/contrib/qasm_import/_parser.py\u001b[0m in \u001b[0;36mp_error\u001b[0;34m(self, p)\u001b[0m\n\u001b[1;32m    499\u001b[0m \u001b[0;34m\u001b[0m\u001b[0m\n\u001b[0;32m--> 500\u001b[0;31m         raise QasmException(\n\u001b[0m\u001b[1;32m    501\u001b[0m             \"\"\"Syntax error: '{}'\n",
      "\u001b[0;31mQasmException\u001b[0m: Syntax error: '('\n...te_XX(param0) q0,q1 { ry(pi/2) q0; ry(pi/2) q1; cx q0,q1; rz(pi/2) q1; cx q0,q1; ry(-pi/2) q0; ry(-pi/2) q1; }\ngate gate_YY(param0) q0,q1 { rx(pi/2) q0; rx(pi/2) q1; cx q0,q1; rz(pi/2) q1; cx q0,q1; rx(-pi/2) q0; rx(-pi/2) q1; }\ngate gate_ZZ(param0) q0,q1 { cx q0,q1; rz(pi/2) q1; cx q0,q1; }\ngate gate_Trot(param0) q0,q1,q2 { gate_ZZ(pi/4) q0,q1; gate_YY(pi/4) q0,q1; gate_XX(pi/4) q0,q1; gate_ZZ(pi/4) q1,q2; gate_YY(pi/4) q1,q2; gate_XX(pi/4) q1,q2; }\nqreg q80[7];\ncreg c3[3];\nx q80[3];\nx q80[5];\ngate_Trot(pi/4) q80[1],q80[3],q80[5];\ngate_Trot(pi/4) q80[1],q80[3],q80[5];\ngate_Trot(pi/4) q80[1],q80[3],q80[5];\ngate_Trot(pi/4) q80[1],q80[3],q80[5];\nmeasure q80[1] -> c3[0];\nmeasure q80[3] -> c3[1];\nmeasure q80[5] -> c3[2]\n        ^\nat line 3, column 13",
      "\nDuring handling of the above exception, another exception occurred:\n",
      "\u001b[0;31mCircuitConversionError\u001b[0m                    Traceback (most recent call last)",
      "\u001b[0;32m/tmp/ipykernel_709/26991663.py\u001b[0m in \u001b[0;36m<module>\u001b[0;34m\u001b[0m\n\u001b[0;32m----> 1\u001b[0;31m \u001b[0mideal_measurement\u001b[0m \u001b[0;34m=\u001b[0m \u001b[0mobs\u001b[0m\u001b[0;34m.\u001b[0m\u001b[0mexpectation\u001b[0m\u001b[0;34m(\u001b[0m\u001b[0mget_circuit\u001b[0m\u001b[0;34m(\u001b[0m\u001b[0;34m)\u001b[0m\u001b[0;34m,\u001b[0m \u001b[0msim\u001b[0m\u001b[0;34m)\u001b[0m\u001b[0;34m.\u001b[0m\u001b[0mreal\u001b[0m\u001b[0;34m\u001b[0m\u001b[0;34m\u001b[0m\u001b[0m\n\u001b[0m\u001b[1;32m      2\u001b[0m \u001b[0mprint\u001b[0m\u001b[0;34m(\u001b[0m\u001b[0;34m\"ideal_measurement = \"\u001b[0m\u001b[0;34m,\u001b[0m\u001b[0mideal_measurement\u001b[0m\u001b[0;34m)\u001b[0m\u001b[0;34m\u001b[0m\u001b[0;34m\u001b[0m\u001b[0m\n",
      "\u001b[0;32m/usr/local/lib/python3.9/site-packages/mitiq/observable/observable.py\u001b[0m in \u001b[0;36mexpectation\u001b[0;34m(self, circuit, execute)\u001b[0m\n\u001b[1;32m    118\u001b[0m         \u001b[0;32mfrom\u001b[0m \u001b[0mmitiq\u001b[0m\u001b[0;34m.\u001b[0m\u001b[0mexecutor\u001b[0m \u001b[0;32mimport\u001b[0m \u001b[0mExecutor\u001b[0m  \u001b[0;31m# Avoid circular import.\u001b[0m\u001b[0;34m\u001b[0m\u001b[0;34m\u001b[0m\u001b[0m\n\u001b[1;32m    119\u001b[0m \u001b[0;34m\u001b[0m\u001b[0m\n\u001b[0;32m--> 120\u001b[0;31m         \u001b[0;32mreturn\u001b[0m \u001b[0mExecutor\u001b[0m\u001b[0;34m(\u001b[0m\u001b[0mexecute\u001b[0m\u001b[0;34m)\u001b[0m\u001b[0;34m.\u001b[0m\u001b[0mevaluate\u001b[0m\u001b[0;34m(\u001b[0m\u001b[0mcircuit\u001b[0m\u001b[0;34m,\u001b[0m \u001b[0mobservable\u001b[0m\u001b[0;34m=\u001b[0m\u001b[0mself\u001b[0m\u001b[0;34m)\u001b[0m\u001b[0;34m[\u001b[0m\u001b[0;36m0\u001b[0m\u001b[0;34m]\u001b[0m\u001b[0;34m\u001b[0m\u001b[0;34m\u001b[0m\u001b[0m\n\u001b[0m\u001b[1;32m    121\u001b[0m \u001b[0;34m\u001b[0m\u001b[0m\n\u001b[1;32m    122\u001b[0m     def _expectation_from_measurements(\n",
      "\u001b[0;32m/usr/local/lib/python3.9/site-packages/mitiq/executor/executor.py\u001b[0m in \u001b[0;36mevaluate\u001b[0;34m(self, circuits, observable, force_run_all, **kwargs)\u001b[0m\n\u001b[1;32m    157\u001b[0m \u001b[0;34m\u001b[0m\u001b[0m\n\u001b[1;32m    158\u001b[0m         \u001b[0;31m# Run all required circuits.\u001b[0m\u001b[0;34m\u001b[0m\u001b[0;34m\u001b[0m\u001b[0;34m\u001b[0m\u001b[0m\n\u001b[0;32m--> 159\u001b[0;31m         \u001b[0mall_results\u001b[0m \u001b[0;34m=\u001b[0m \u001b[0mself\u001b[0m\u001b[0;34m.\u001b[0m\u001b[0m_run\u001b[0m\u001b[0;34m(\u001b[0m\u001b[0mall_circuits\u001b[0m\u001b[0;34m,\u001b[0m \u001b[0mforce_run_all\u001b[0m\u001b[0;34m,\u001b[0m \u001b[0;34m**\u001b[0m\u001b[0mkwargs\u001b[0m\u001b[0;34m)\u001b[0m\u001b[0;34m\u001b[0m\u001b[0;34m\u001b[0m\u001b[0m\n\u001b[0m\u001b[1;32m    160\u001b[0m \u001b[0;34m\u001b[0m\u001b[0m\n\u001b[1;32m    161\u001b[0m         \u001b[0;31m# Parse the results.\u001b[0m\u001b[0;34m\u001b[0m\u001b[0;34m\u001b[0m\u001b[0;34m\u001b[0m\u001b[0m\n",
      "\u001b[0;32m/usr/local/lib/python3.9/site-packages/mitiq/executor/executor.py\u001b[0m in \u001b[0;36m_run\u001b[0;34m(self, circuits, force_run_all, **kwargs)\u001b[0m\n\u001b[1;32m    216\u001b[0m             \u001b[0;31m#  incorrect. Safe conversions should follow the logic in\u001b[0m\u001b[0;34m\u001b[0m\u001b[0;34m\u001b[0m\u001b[0;34m\u001b[0m\u001b[0m\n\u001b[1;32m    217\u001b[0m             \u001b[0;31m#  mitiq.interface.noise_scaling_converter.\u001b[0m\u001b[0;34m\u001b[0m\u001b[0;34m\u001b[0m\u001b[0;34m\u001b[0m\u001b[0m\n\u001b[0;32m--> 218\u001b[0;31m             \u001b[0m_\u001b[0m\u001b[0;34m,\u001b[0m \u001b[0mconversion_type\u001b[0m \u001b[0;34m=\u001b[0m \u001b[0mconvert_to_mitiq\u001b[0m\u001b[0;34m(\u001b[0m\u001b[0mcircuits\u001b[0m\u001b[0;34m[\u001b[0m\u001b[0;36m0\u001b[0m\u001b[0;34m]\u001b[0m\u001b[0;34m)\u001b[0m\u001b[0;34m\u001b[0m\u001b[0;34m\u001b[0m\u001b[0m\n\u001b[0m\u001b[1;32m    219\u001b[0m             hashable_circuits = [\n\u001b[1;32m    220\u001b[0m                 \u001b[0mconvert_to_mitiq\u001b[0m\u001b[0;34m(\u001b[0m\u001b[0mcirc\u001b[0m\u001b[0;34m)\u001b[0m\u001b[0;34m[\u001b[0m\u001b[0;36m0\u001b[0m\u001b[0;34m]\u001b[0m\u001b[0;34m.\u001b[0m\u001b[0mfreeze\u001b[0m\u001b[0;34m(\u001b[0m\u001b[0;34m)\u001b[0m \u001b[0;32mfor\u001b[0m \u001b[0mcirc\u001b[0m \u001b[0;32min\u001b[0m \u001b[0mcircuits\u001b[0m\u001b[0;34m\u001b[0m\u001b[0;34m\u001b[0m\u001b[0m\n",
      "\u001b[0;32m/usr/local/lib/python3.9/site-packages/mitiq/interface/conversions.py\u001b[0m in \u001b[0;36mconvert_to_mitiq\u001b[0;34m(circuit)\u001b[0m\n\u001b[1;32m     89\u001b[0m         \u001b[0mmitiq_circuit\u001b[0m \u001b[0;34m=\u001b[0m \u001b[0mconversion_function\u001b[0m\u001b[0;34m(\u001b[0m\u001b[0mcircuit\u001b[0m\u001b[0;34m)\u001b[0m\u001b[0;34m\u001b[0m\u001b[0;34m\u001b[0m\u001b[0m\n\u001b[1;32m     90\u001b[0m     \u001b[0;32mexcept\u001b[0m \u001b[0mException\u001b[0m\u001b[0;34m:\u001b[0m\u001b[0;34m\u001b[0m\u001b[0;34m\u001b[0m\u001b[0m\n\u001b[0;32m---> 91\u001b[0;31m         raise CircuitConversionError(\n\u001b[0m\u001b[1;32m     92\u001b[0m             \u001b[0;34m\"Circuit could not be converted to an internal Mitiq circuit. \"\u001b[0m\u001b[0;34m\u001b[0m\u001b[0;34m\u001b[0m\u001b[0m\n\u001b[1;32m     93\u001b[0m             \u001b[0;34m\"This may be because the circuit contains custom gates or Pragmas \"\u001b[0m\u001b[0;34m\u001b[0m\u001b[0;34m\u001b[0m\u001b[0m\n",
      "\u001b[0;31mCircuitConversionError\u001b[0m: Circuit could not be converted to an internal Mitiq circuit. This may be because the circuit contains custom gates or Pragmas (pyQuil). If you think this is a bug or that this circuit should be supported, you can open an issue at https://github.com/unitaryfund/mitiq. \n\nProvided circuit has type <class 'qiskit.circuit.quantumcircuit.QuantumCircuit'> and is:\n\n                                                                     ░       »\nq80_0: ──────────────────────────────────────────────────────────────░───────»\n            ┌────────────┐┌────────────┐┌────────────┐┌────────────┐ ░ ┌─┐   »\nq80_1: ─────┤0           ├┤0           ├┤0           ├┤0           ├─░─┤M├───»\n            │            ││            ││            ││            │ ░ └╥┘   »\nq80_2: ─────┤            ├┤            ├┤            ├┤            ├─░──╫────»\n       ┌───┐│            ││            ││            ││            │ ░  ║ ┌─┐»\nq80_3: ┤ X ├┤1 Trot(π/4) ├┤1 Trot(π/4) ├┤1 Trot(π/4) ├┤1 Trot(π/4) ├─░──╫─┤M├»\n       └───┘│            ││            ││            ││            │ ░  ║ └╥┘»\nq80_4: ─────┤            ├┤            ├┤            ├┤            ├─░──╫──╫─»\n       ┌───┐│            ││            ││            ││            │ ░  ║  ║ »\nq80_5: ┤ X ├┤2           ├┤2           ├┤2           ├┤2           ├─░──╫──╫─»\n       └───┘└────────────┘└────────────┘└────────────┘└────────────┘ ░  ║  ║ »\nq80_6: ──────────────────────────────────────────────────────────────░──╫──╫─»\n                                                                     ░  ║  ║ »\n c3: 3/═════════════════════════════════════════════════════════════════╩══╩═»\n                                                                        0  1 »\n«          \n«q80_0: ───\n«          \n«q80_1: ───\n«          \n«q80_2: ───\n«          \n«q80_3: ───\n«          \n«q80_4: ───\n«       ┌─┐\n«q80_5: ┤M├\n«       └╥┘\n«q80_6: ─╫─\n«        ║ \n« c3: 3/═╩═\n«        2 \n\nCircuit types supported by Mitiq are \n{'cirq': 'Circuit', 'pyquil': 'Program', 'qiskit': 'QuantumCircuit', 'braket': 'Circuit', 'pennylane': 'QuantumTape'}."
     ]
    }
   ],
   "source": [
    "ideal_measurement = obs.expectation(get_circuit(), sim).real\n",
    "print(\"ideal_measurement = \",ideal_measurement)"
   ]
  },
  {
   "cell_type": "code",
   "execution_count": null,
   "id": "aa3ccb17-7ebb-4d67-82ca-13ce1c7931ee",
   "metadata": {},
   "outputs": [],
   "source": [
    "We get an error. \n",
    "\n",
    "```\n",
    "CircuitConversionError: Circuit could not be converted to an internal Mitiq circuit. This may be because the circuit contains custom gates or Pragmas (pyQuil).\n",
    "```\n",
    "\n",
    "Yes, we used custom gates.\n",
    "\n",
    "Let's rewrite the circuit. Further, the Jakarta system has 7 qubits. But we only use three. To speed up our simulation. we make the circuit use any number of qubits.\n"
   ]
  },
  {
   "cell_type": "code",
   "execution_count": 26,
   "id": "082b8551-75ec-4b4b-971e-53dbccf05292",
   "metadata": {},
   "outputs": [],
   "source": [
    "def add_XX(qc, t, i):\n",
    "    qc.ry(np.pi/2,[0+2*i,1+2*i])\n",
    "    qc.cnot(0+2*i,1+2*i)\n",
    "    qc.rz(2 * t, 1+2*i)\n",
    "    qc.cnot(0+2*i,1+2*i)\n",
    "    qc.ry(-np.pi/2,[0+2*i,1+2*i])\n",
    "    \n",
    "def add_YY(qc, t, i):\n",
    "    qc.rx(np.pi/2,[0+2*i,1+2*i])\n",
    "    qc.cnot(0+2*i,1+2*i)\n",
    "    qc.rz(2 * t, 1+2*i)\n",
    "    qc.cnot(0+2*i,1+2*i)\n",
    "    qc.rx(-np.pi/2,[0+2*i,1+2*i])\n",
    "    \n",
    "def add_ZZ(qc, t, i):\n",
    "    qc.cnot(0+2*i,1+2*i)\n",
    "    qc.rz(2 * t, 1+2*i)\n",
    "    qc.cnot(0+2*i,1+2*i)\n",
    "    \n",
    "\n",
    "def add_trotter_step(qc, t):\n",
    "    \n",
    "    # Combine subcircuits into a single multiqubit gate representing a single trotter step\n",
    "    num_qubits = 3\n",
    "\n",
    "    Trot_qr = QuantumRegister(num_qubits)\n",
    "    Trot_qc = QuantumCircuit(Trot_qr, name='Trot')\n",
    "\n",
    "    for i in range(0, num_qubits - 1):\n",
    "        add_ZZ(qc, t, 1+i)\n",
    "        add_YY(qc, t, 1+i)\n",
    "        add_XX(qc, t, 1+i)\n",
    "        \n",
    "def get_circuit(steps=4):\n",
    "    \n",
    "    # The final time of the state evolution\n",
    "    target_time = np.pi\n",
    "\n",
    "    # Number of trotter steps\n",
    "    trotter_steps = steps  ### CAN BE >= 4\n",
    "\n",
    "    # Initialize quantum circuit for 3 qubits\n",
    "    #qr = QuantumRegister(7)\n",
    "    qc = QuantumCircuit(7)\n",
    "\n",
    "    # Prepare initial state (remember we are only evolving 3 of the 7 qubits on jakarta qubits (q_5, q_3, q_1) corresponding to the state |110>)\n",
    "    qc.x([3,5])  # DO NOT MODIFY (|q_5,q_3,q_1> = |110>)\n",
    "\n",
    "    # Simulate time evolution under H_heis3 Hamiltonian\n",
    "    for _ in range(trotter_steps):\n",
    "        add_trotter_step(qc, target_time/trotter_steps)\n",
    "        #qc.append(Trot_gate, [qr[1], qr[3], qr[5]])\n",
    "\n",
    "    # Evaluate simulation at target_time (t=pi) meaning each trotter step evolves pi/trotter_steps in time\n",
    "    #qc = qc.bind_parameters({t: })\n",
    "\n",
    "    # Generate state tomography circuits to evaluate fidelity of simulation\n",
    "    st_qcs = state_tomography_circuits(qc, [1,3,5])\n",
    "\n",
    "    return qc\n",
    "    #return st_qcs[0]\n",
    "\n",
    "\n",
    "#get_circuit().draw()  # only view trotter gates"
   ]
  },
  {
   "cell_type": "code",
   "execution_count": null,
   "id": "e79d5f36-ffb4-45a6-9f9e-9b44debb265f",
   "metadata": {},
   "outputs": [],
   "source": [
    "We also need to change the Observable. We look at the qubits from the standard Z-basis on all qubits."
   ]
  },
  {
   "cell_type": "code",
   "execution_count": 29,
   "id": "77e2cdc5-b120-4d38-90df-96ad8a91a224",
   "metadata": {},
   "outputs": [],
   "source": [
    "\n",
    "\n",
    "obs = Observable(PauliString(\"ZZZZ\"))"
   ]
  },
  {
   "cell_type": "code",
   "execution_count": null,
   "id": "39ed4e34-1370-43ef-8ccc-fb53b9024ca8",
   "metadata": {},
   "outputs": [],
   "source": []
  },
  {
   "cell_type": "code",
   "execution_count": 30,
   "id": "579bb8e7-ff18-4491-99f9-d2414bcfab8e",
   "metadata": {},
   "outputs": [
    {
     "name": "stdout",
     "output_type": "stream",
     "text": [
      "ideal_measurement =  1.0\n"
     ]
    }
   ],
   "source": [
    "ideal_measurement = obs.expectation(get_circuit(), sim).real\n",
    "print(\"ideal_measurement = \",ideal_measurement)"
   ]
  },
  {
   "cell_type": "code",
   "execution_count": 24,
   "id": "da60dd61-449c-428f-bafa-fd2313430fe1",
   "metadata": {},
   "outputs": [
    {
     "name": "stdout",
     "output_type": "stream",
     "text": [
      "unmitigated_measurement =  -0.00341796875\n"
     ]
    }
   ],
   "source": [
    "unmitigated_measurement = obs.expectation(get_circuit(), sim_noise).real\n",
    "print(\"unmitigated_measurement = \", unmitigated_measurement)"
   ]
  },
  {
   "cell_type": "code",
   "execution_count": 25,
   "id": "d1b82d9c-a80f-44cd-b79c-82c6076809d4",
   "metadata": {},
   "outputs": [
    {
     "name": "stdout",
     "output_type": "stream",
     "text": [
      "mitigated_measurement =  0.0048828125\n"
     ]
    }
   ],
   "source": [
    "from mitiq import cdr\n",
    "\n",
    "mitigated_measurement = cdr.execute_with_cdr(\n",
    "    get_circuit(),\n",
    "    sim_noise,\n",
    "    observable=obs.matrix(),\n",
    "    simulator=sim,\n",
    "    seed=0,\n",
    ").real\n",
    "print(\"mitigated_measurement = \", mitigated_measurement)"
   ]
  },
  {
   "cell_type": "code",
   "execution_count": null,
   "id": "3cc74454-8f63-4324-90a3-0d10aa1d5fbc",
   "metadata": {},
   "outputs": [],
   "source": [
    "Maybe because the circuit consists only of Clifford gates?\n",
    "But we only used a single state tomography circuit. But there are multiple needed."
   ]
  }
 ],
 "metadata": {
  "kernelspec": {
   "display_name": "Python 3 (ipykernel)",
   "language": "python",
   "name": "python3"
  },
  "language_info": {
   "codemirror_mode": {
    "name": "ipython",
    "version": 3
   },
   "file_extension": ".py",
   "mimetype": "text/x-python",
   "name": "python",
   "nbconvert_exporter": "python",
   "pygments_lexer": "ipython3",
   "version": "3.9.2"
  }
 },
 "nbformat": 4,
 "nbformat_minor": 5
}
