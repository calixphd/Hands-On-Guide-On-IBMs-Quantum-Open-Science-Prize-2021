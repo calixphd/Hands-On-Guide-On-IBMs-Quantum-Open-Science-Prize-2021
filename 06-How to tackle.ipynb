{
 "cells": [
  {
   "cell_type": "markdown",
   "id": "718ab14f-c4e5-4dd7-9b8d-bea2da1d5637",
   "metadata": {},
   "source": [
    "# How To Tackle IBM's Quantum Open Science Prize\n",
    "\n",
    "**A brief overview of quantum error mitigation methods**\n",
    "\n",
    "\n",
    "This post appeared first on [Medium](https://pyqml.medium.com/how-to-tackle-ibms-quantum-open-science-prize-e6c7fc594154) and my weekly [email-course](https://pyqml.substack.com/p/how-to-tackle-ibms-quantum-open-science?s=w).\n",
    "\n",
    "IBM announced its second Quantum Open Science Prize. They ask for a solution to a quantum simulation problem. They want us to simulate a Heisenberg model Hamiltonian for a three-particle system on their 7-qubit Jakarta system using Trotterization.\n",
    "It is your chance to see whether a career in quantum computing is the right thing for you — without the struggle of completing a physics study first.\n",
    "\n",
    "But, of course, it isn't easy to understand the material without a relevant degree. Therefore I have made it my goal to guide you through the challenge. In the series of previous posts, we set up our Jupyter development environment, ran the code locally, learned how to run an algorithm on a real quantum device, and concluded that the actual challenge is not to simulate the Heisenberg model Hamiltonian but to implement appropriate quantum error mitigation.\n",
    "\n",
    "Unfortunately, we can't simply plug in a quantum error mitigation method, and we're done.\n",
    "\n",
    "![](./assets/forgiving.png)\n",
    "\n",
    "But, error mitigation methods build upon particular algorithm characteristics to be improved. So, the choice of the proper method alone is a big challenge. There's no universal rule or how-to guide for it. The only way to learn how appropriate a particular method is for the given problem is to try it. But, of course, we won't be able to try all the different approaches. That's just too much work.\n",
    "\n",
    "But, fortunately, we don't have to. One precondition to participate in the challenge is to provide an open-source solution. So, we can expect the community to try different approaches. The overall evaluation will show what works best.\n",
    "\n",
    "So, we could wait a few months to see who the winner is and reproduce the results. On the other hand, we could pick a quantum error mitigation method and see what happens. Maybe, it's the lottery jackpot (very unlikely). Perhaps, it improves the performance sufficiently to meet the entry criterion of 30% fidelity (that'd be great!). But, maybe, it doesn't improve the performance altogether. Finally, perhaps we don't even get the pieces together. That's a realistic possibility, too.\n",
    "\n",
    "Whatever the outcome is, we will learn a lot by just trying to solve the problem.\n",
    "\n",
    "So, I did a brief and unstructured literature search on quantum error mitigation. I, therefore, do not claim completeness. But, here's the result.\n",
    "\n",
    "In 2016, Li and Benjamin ([Y. Li and S. C. Benjamin, Efficient variational quantum simulator incorporating active error minimization, Phys. Rev. X 7, 021050 (2017)](https://arxiv.org/abs/1611.09301)) submitted their paper on an active error minimization technique involving extrapolation. Their approach, named zero noise extrapolation, is an error mitigation technique in which the expectation value is computed at different noise levels. Then, the ideal expectation value is inferred by extrapolating the measured results to the zero-noise limit.\n",
    "\n",
    "Also, in 2016, Temme, Bravyi, and Gambetta ([K. Temme, S. Bravyi, and J. M. Gambetta, Error mitigation for short-depth quantum circuits, Phys. Rev. Lett. 119, 180509 (2017)](https://arxiv.org/abs/1612.02058)) submitted their paper. Independently of Li and Benjamin, they presented a comprehensive analysis of the extrapolation technique. Further, they presented their quasi-probability method. They replaced operations in the quantum circuit and assigned parity plus/minus one to each operation following a particular probability distribution dependent on the noise.\n",
    "\n",
    "Later, in 2018, Bonet-Monroig, Sagastizabal, Singh, and O'Brien ([X. Bonet-Monroig et al., Low-cost error mitigation by symmetry verification, Phys. Rev. A, (2018)](https://arxiv.org/abs/1807.10050)) showed how to mitigate errors by using symmetries in quantum algorithms.\n",
    "\n",
    "Most recently, in 2020, Czarnik, Arrasmith, Coles, and Cincio ([P. Czarnik et al., Error mitigation with Clifford quantum-circuit data, Quantum 5, 592 (2021)](https://arxiv.org/abs/2005.10189)) presented their approach called Clifford Data Regression (CDR). First, they create a training dataset consisting of circuits made of Clifford gates — these are gates that can efficiently be simulated on a classical computer. Next, they measure the expectation value of each circuit on a real but noisy quantum processor and a perfect classical simulation. Then, they fit the training data with a linear model. Finally, they use the fitted model to predict the circuit that produces the noise-free expectation value with the highest probability.\n",
    "\n",
    "Based on this very brief literature review, I decided to use the CDR approach. The IBM challenge asks us to develop a quantum circuit that simulates a Heisenberg model Hamiltonian for a three-particle system on a noisy device. In other words, IBM wants us to come up with a quantum circuit that produces a particular behavior on a noisy device. This is exactly what the CDR does.\n",
    "\n",
    "Quantum computing is an active field of research. This is a curse and a blessing at the same time. On the one hand, no one is telling you how to solve a problem because nobody knows it yet. Usually, there's not even someone telling you the best approach. This makes it particularly hard to learn how to apply quantum computing in practice.\n",
    "\n",
    "On the other hand, you're free to approach a problem in any way you want. There's no right, and there's no wrong because nobody knows how to solve most problems yet. Isn't it much more exciting when you don't see the ending yet?\n",
    "\n",
    "Indeed, if you rely on someone senior to tell you everything you need to know to perform your job, a career in quantum computing may not be the best fit for you. But if you like to research to find suitable problem-solving approaches and then try them out experimentally, quantum computing is for you!"
   ]
  },
  {
   "cell_type": "code",
   "execution_count": null,
   "id": "a6c97083-a28a-41e8-9bb6-6caf55a027af",
   "metadata": {},
   "outputs": [],
   "source": []
  }
 ],
 "metadata": {
  "kernelspec": {
   "display_name": "Python 3 (ipykernel)",
   "language": "python",
   "name": "python3"
  },
  "language_info": {
   "codemirror_mode": {
    "name": "ipython",
    "version": 3
   },
   "file_extension": ".py",
   "mimetype": "text/x-python",
   "name": "python",
   "nbconvert_exporter": "python",
   "pygments_lexer": "ipython3",
   "version": "3.9.2"
  }
 },
 "nbformat": 4,
 "nbformat_minor": 5
}
