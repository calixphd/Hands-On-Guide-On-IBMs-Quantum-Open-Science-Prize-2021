{
 "cells": [
  {
   "cell_type": "code",
   "execution_count": null,
   "id": "df72a2d0-dd09-458e-9e7e-f1e8e1db4988",
   "metadata": {},
   "outputs": [],
   "source": [
    "So, we can mitigate the error of the circuit representing our trotterized simulation of a three-particle Heisenberg Hamiltonian.\n",
    "\n",
    "\n",
    "But in the IBM example, we do not run the simulation circuit directly. But we derive state_tomography circuits from it."
   ]
  },
  {
   "cell_type": "code",
   "execution_count": null,
   "id": "bc294ba1-8cae-446b-9de7-b3aad72a6afd",
   "metadata": {},
   "outputs": [],
   "source": []
  },
  {
   "cell_type": "code",
   "execution_count": 1,
   "id": "edd9406e-beb3-44ee-bf1a-8771ffda12f6",
   "metadata": {},
   "outputs": [
    {
     "name": "stderr",
     "output_type": "stream",
     "text": [
      "/tmp/ipykernel_137/2527742239.py:13: DeprecationWarning: The qiskit.ignis package is deprecated and has been supersceded by the qiskit-experiments project. Refer to the migration guide: https://github.com/Qiskit/qiskit-ignis#migration-guide on how to migrate to the new project.\n",
      "  from qiskit.ignis.verification.tomography import state_tomography_circuits, StateTomographyFitter\n"
     ]
    }
   ],
   "source": [
    "import numpy as np\n",
    "import matplotlib.pyplot as plt\n",
    "plt.rcParams.update({'font.size': 16})  # enlarge matplotlib fonts\n",
    "\n",
    "# Import qubit states Zero (|0>) and One (|1>), and Pauli operators (X, Y, Z)\n",
    "from qiskit.opflow import Zero, One, I, X, Y, Z\n",
    "from qiskit import QuantumCircuit, QuantumRegister, IBMQ, execute, transpile, Aer\n",
    "from qiskit.providers.aer import QasmSimulator\n",
    "from qiskit.tools.monitor import job_monitor\n",
    "from qiskit.circuit import Parameter\n",
    "\n",
    "# Import state tomography modules\n",
    "from qiskit.ignis.verification.tomography import state_tomography_circuits, StateTomographyFitter\n",
    "from qiskit.quantum_info import state_fidelity\n",
    "\n",
    "# Suppress warnings\n",
    "import warnings\n",
    "warnings.filterwarnings('ignore')\n",
    "\n",
    "from qiskit import QuantumCircuit\n",
    "from mitiq.interface.mitiq_qiskit import qiskit_utils\n",
    "from mitiq import Observable, PauliString\n",
    "from typing import Any, Callable, Optional, Sequence, Union\n",
    "import numpy as np\n",
    "from scipy.optimize import curve_fit\n",
    "\n",
    "from mitiq import Executor, Observable, QPROGRAM, QuantumResult\n",
    "from mitiq.cdr import (\n",
    "    generate_training_circuits,\n",
    "    linear_fit_function,\n",
    "    linear_fit_function_no_intercept,\n",
    "    is_clifford,\n",
    ")\n",
    "from mitiq.zne.scaling import fold_gates_at_random\n",
    "from mitiq import Observable, PauliString\n",
    "\n",
    "# 2. Define an executor\n",
    "from mitiq.interface.mitiq_qiskit import qiskit_utils\n",
    "from qiskit import QuantumCircuit, execute, Aer\n",
    "import qiskit.providers.aer.noise as noise\n",
    "\n",
    "# Error probabilities\n",
    "prob_1 = 0.005  # 1-qubit gate\n",
    "prob_2 = 0.01   # 2-qubit gate\n",
    "\n",
    "# Depolarizing quantum errors\n",
    "error_1 = noise.depolarizing_error(prob_1, 1)\n",
    "error_2 = noise.depolarizing_error(prob_2, 2)\n",
    "\n",
    "# Add errors to noise model\n",
    "noise_model = noise.NoiseModel()\n",
    "noise_model.add_all_qubit_quantum_error(error_1, ['u1', 'u2', 'u3'])\n",
    "noise_model.add_all_qubit_quantum_error(error_2, ['cx'])\n",
    "\n",
    "def sim_noise(qc):\n",
    "    return qiskit_utils.execute_with_shots_and_noise(qc, obs.matrix(), noise_model, 4096)\n",
    "\n",
    "def sim(qc):\n",
    "    return qiskit_utils.execute_with_shots(qc, obs.matrix(), 4096)\n",
    "\n",
    "\n",
    "def add_XX(qc, t, i):\n",
    "    qc.ry(np.pi/2,[0+2*i,1+2*i])\n",
    "    qc.cnot(0+2*i,1+2*i)\n",
    "    qc.rz(2 * t, 1+2*i)\n",
    "    qc.cnot(0+2*i,1+2*i)\n",
    "    qc.ry(-np.pi/2,[0+2*i,1+2*i])\n",
    "    \n",
    "def add_YY(qc, t, i):\n",
    "    qc.rx(np.pi/2,[0+2*i,1+2*i])\n",
    "    qc.cnot(0+2*i,1+2*i)\n",
    "    qc.rz(2 * t, 1+2*i)\n",
    "    qc.cnot(0+2*i,1+2*i)\n",
    "    qc.rx(-np.pi/2,[0+2*i,1+2*i])\n",
    "    \n",
    "def add_ZZ(qc, t, i):\n",
    "    qc.cnot(0+2*i,1+2*i)\n",
    "    qc.rz(2 * t, 1+2*i)\n",
    "    qc.cnot(0+2*i,1+2*i)\n",
    "    \n",
    "\n",
    "def add_trotter_step(qc, t):\n",
    "    \n",
    "    # Combine subcircuits into a single multiqubit gate representing a single trotter step\n",
    "    num_qubits = 3\n",
    "\n",
    "    Trot_qr = QuantumRegister(num_qubits)\n",
    "    Trot_qc = QuantumCircuit(Trot_qr, name='Trot')\n",
    "\n",
    "    for i in range(0, num_qubits - 1):\n",
    "        add_ZZ(qc, t, 1+i)\n",
    "        add_YY(qc, t, 1+i)\n",
    "        add_XX(qc, t, 1+i)\n",
    "        \n",
    "def get_circuit(steps=4):\n",
    "    \n",
    "    # The final time of the state evolution\n",
    "    target_time = np.pi\n",
    "\n",
    "    # Number of trotter steps\n",
    "    trotter_steps = steps  ### CAN BE >= 4\n",
    "\n",
    "    # Initialize quantum circuit for 3 qubits\n",
    "    #qr = QuantumRegister(7)\n",
    "    qc = QuantumCircuit(7)\n",
    "\n",
    "    # Prepare initial state (remember we are only evolving 3 of the 7 qubits on jakarta qubits (q_5, q_3, q_1) corresponding to the state |110>)\n",
    "    qc.x([3,5])  # DO NOT MODIFY (|q_5,q_3,q_1> = |110>)\n",
    "\n",
    "    # Simulate time evolution under H_heis3 Hamiltonian\n",
    "    for _ in range(trotter_steps):\n",
    "        add_trotter_step(qc, target_time/trotter_steps)\n",
    "        #qc.append(Trot_gate, [qr[1], qr[3], qr[5]])\n",
    "\n",
    "    # Evaluate simulation at target_time (t=pi) meaning each trotter step evolves pi/trotter_steps in time\n",
    "    #qc = qc.bind_parameters({t: })\n",
    "\n",
    "    # Generate state tomography circuits to evaluate fidelity of simulation\n",
    "    st_qcs = state_tomography_circuits(qc, [1,3,5])\n",
    "\n",
    "    return qc\n",
    "    #return st_qcs[0]\n",
    "\n",
    "\n",
    "#get_circuit().draw()  # only view trotter gates"
   ]
  },
  {
   "cell_type": "code",
   "execution_count": 5,
   "id": "63f0dd48-696a-4359-b960-578bdffd83e7",
   "metadata": {},
   "outputs": [
    {
     "data": {
      "text/plain": [
       "27"
      ]
     },
     "execution_count": 5,
     "metadata": {},
     "output_type": "execute_result"
    }
   ],
   "source": [
    "\n",
    "qc = get_circuit()\n",
    "\n",
    "# Generate state tomography circuits to evaluate fidelity of simulation\n",
    "st_qcs = state_tomography_circuits(qc, [1,3,5])\n",
    "\n",
    "# Display circuit for confirmation\n",
    "# st_qcs[-1].decompose().draw()  # view decomposition of trotter gates\n",
    "len(st_qcs)"
   ]
  },
  {
   "cell_type": "code",
   "execution_count": null,
   "id": "a1fa1b9f-b933-4c19-badf-6aa3144b72f6",
   "metadata": {},
   "outputs": [],
   "source": [
    "These are 27 circuits. So, let's see what we do with these circuits,"
   ]
  },
  {
   "cell_type": "code",
   "execution_count": 8,
   "id": "5cb45f89-c910-4a3a-9a42-dc8294600432",
   "metadata": {},
   "outputs": [
    {
     "name": "stderr",
     "output_type": "stream",
     "text": [
      "configrc.store_credentials:WARNING:2022-03-02 13:47:04,973: Credentials already present. Set overwrite=True to overwrite.\n",
      "ibmqfactory.load_account:WARNING:2022-03-02 13:47:05,454: Credentials are already in use. The existing account in the session will be replaced.\n"
     ]
    }
   ],
   "source": [
    "# load IBMQ Account data\n",
    "\n",
    "IBMQ.save_account(\"TOKEN\")  # replace TOKEN with your API token string (https://quantum-computing.ibm.com/lab/docs/iql/manage/account/ibmq)\n",
    "provider = IBMQ.load_account()\n",
    "# Get backend for experiment\n",
    "provider = IBMQ.get_provider(hub='ibm-q-community', group='ibmquantumawards', project='open-science-22')\n",
    "jakarta = provider.get_backend('ibmq_jakarta')\n",
    "# properties = jakarta.properties()\n",
    "\n",
    "# Simulated backend based on ibmq_jakarta's device noise profile\n",
    "sim_noisy_jakarta = QasmSimulator.from_backend(provider.get_backend('ibmq_jakarta'))\n",
    "\n",
    "# Noiseless simulated backend\n",
    "sim = QasmSimulator()"
   ]
  },
  {
   "cell_type": "code",
   "execution_count": 9,
   "id": "5e591af2-d678-4574-a5cf-187fbb733e61",
   "metadata": {},
   "outputs": [
    {
     "name": "stdout",
     "output_type": "stream",
     "text": [
      "Job ID 27b8bf6f-c0f3-4838-8a18-1b5752e42609\n"
     ]
    }
   ],
   "source": [
    "shots = 8192\n",
    "reps = 8\n",
    "backend = sim_noisy_jakarta\n",
    "\n",
    "jobs = []\n",
    "for _ in range(reps):\n",
    "    # execute\n",
    "    job = execute(st_qcs, backend, shots=shots)\n",
    "    print('Job ID', job.job_id())\n",
    "    jobs.append(job)\n",
    "\n",
    "# ...\n",
    "    "
   ]
  },
  {
   "cell_type": "markdown",
   "id": "bc664fa4-00e2-4241-b063-1a13afeb3c94",
   "metadata": {},
   "source": [
    "We run all of them  8192 times in eight repitions. So, we end up with 8 jobs to run each having 27*8192 circuit executions. \n",
    "\n",
    "That's not the problem. We have a computer doing this for us.\n",
    "\n",
    "But let's see what we do with the results.\n",
    "\n",
    "For each job, we get as the result an array of dictionaries. Each dictionary contains the counts of one of the 27 circuits.\n",
    "\n",
    "“This performs measurement in the Pauli-basis resulting in :math: 3^n circuits for an n-qubit state tomography experiment.”\n",
    "$3^n$ is a lower bound on the number of operators which have to be measured in order to perform the state tomography? (X, Y, Z for each qubit.)\n",
    "So, for three qubits, we have run each "
   ]
  },
  {
   "cell_type": "code",
   "execution_count": 12,
   "id": "1029b006-750c-4790-82aa-7b19d39e5c87",
   "metadata": {},
   "outputs": [
    {
     "name": "stdout",
     "output_type": "stream",
     "text": [
      "[{'101': 937, '001': 1080, '010': 1020, '000': 1015, '011': 1132, '111': 1023, '110': 1022, '100': 963}, {'001': 976, '010': 1040, '110': 1050, '100': 956, '101': 1012, '000': 1017, '111': 1049, '011': 1092}, {'010': 355, '001': 313, '101': 1596, '100': 1709, '110': 1741, '000': 358, '111': 1779, '011': 341}, {'110': 1026, '100': 1029, '101': 1036, '001': 1032, '010': 1048, '011': 1007, '000': 979, '111': 1035}, {'010': 1054, '001': 1028, '101': 983, '110': 989, '100': 984, '000': 968, '111': 1111, '011': 1075}, {'001': 361, '010': 354, '100': 1715, '110': 1707, '101': 1656, '000': 331, '111': 1729, '011': 339}, {'111': 1716, '000': 360, '011': 1700, '010': 1667, '001': 362, '101': 368, '110': 1630, '100': 389}, {'100': 408, '110': 1691, '010': 1662, '101': 371, '001': 356, '000': 370, '011': 1689, '111': 1645}, {'001': 132, '010': 538, '000': 121, '111': 2802, '011': 553, '101': 602, '110': 2777, '100': 667}, {'110': 1082, '100': 969, '001': 987, '101': 1002, '010': 1077, '111': 1051, '011': 1072, '000': 952}, {'001': 965, '100': 962, '110': 1032, '010': 1160, '000': 1011, '111': 1008, '011': 1061, '101': 993}, {'101': 1702, '010': 329, '001': 354, '011': 376, '000': 312, '111': 1805, '110': 1739, '100': 1575}, {'001': 1021, '101': 1049, '010': 1001, '100': 983, '110': 1027, '000': 1005, '111': 1032, '011': 1074}, {'010': 1080, '100': 932, '110': 989, '000': 991, '111': 1062, '011': 1097, '101': 1020, '001': 1021}, {'010': 363, '101': 1685, '001': 337, '011': 345, '111': 1792, '000': 338, '100': 1643, '110': 1689}, {'101': 386, '000': 381, '111': 1752, '011': 1648, '010': 1640, '001': 319, '110': 1684, '100': 382}, {'101': 357, '010': 1666, '001': 386, '111': 1676, '000': 414, '011': 1689, '110': 1634, '100': 370}, {'001': 131, '101': 624, '010': 531, '110': 2823, '100': 590, '000': 137, '111': 2795, '011': 561}, {'001': 85, '010': 2064, '110': 1995, '100': 1906, '111': 109, '000': 1854, '011': 82, '101': 97}, {'101': 77, '001': 78, '010': 2073, '000': 1834, '111': 98, '011': 101, '110': 2020, '100': 1911}, {'001': 33, '100': 3041, '110': 3502, '010': 611, '101': 175, '111': 158, '000': 640, '011': 32}, {'001': 107, '101': 99, '010': 1989, '110': 1935, '100': 1908, '000': 1941, '011': 105, '111': 108}, {'101': 76, '001': 73, '010': 2034, '110': 2029, '100': 1893, '111': 83, '000': 1900, '011': 104}, {'001': 49, '100': 3154, '110': 3327, '010': 678, '101': 155, '011': 32, '000': 646, '111': 151}, {'001': 28, '101': 33, '010': 3212, '110': 3157, '100': 721, '000': 711, '011': 156, '111': 174}, {'101': 41, '010': 3192, '111': 147, '000': 719, '011': 192, '110': 3101, '100': 754, '001': 46}, {'001': 8, '100': 1212, '110': 5313, '010': 1056, '011': 51, '000': 236, '111': 252, '101': 64}] 27\n",
      "state tomography fidelity = 0.6500 ± 0.0000\n"
     ]
    }
   ],
   "source": [
    "\n",
    "# Compute the state tomography based on the st_qcs quantum circuits and the results from those ciricuits\n",
    "def state_tomo(result, st_qcs):\n",
    "    # The expected final state; necessary to determine state tomography fidelity\n",
    "    target_state = (One^One^Zero).to_matrix()  # DO NOT MODIFY (|q_5,q_3,q_1> = |110>)\n",
    "    print (result.get_counts(), len(result.get_counts()))\n",
    "    # Fit state tomography results\n",
    "    tomo_fitter = StateTomographyFitter(result, st_qcs)\n",
    "    rho_fit = tomo_fitter.fit(method='lstsq')\n",
    "    # Compute fidelity\n",
    "    fid = state_fidelity(rho_fit, target_state)\n",
    "    return fid\n",
    "\n",
    "# Compute tomography fidelities for each repetition\n",
    "fids = []\n",
    "for job in jobs:\n",
    "    fid = state_tomo(job.result(), st_qcs)\n",
    "    fids.append(fid)\n",
    "    \n",
    "print('state tomography fidelity = {:.4f} \\u00B1 {:.4f}'.format(np.mean(fids), np.std(fids)))"
   ]
  },
  {
   "cell_type": "markdown",
   "id": "682f1ca3-9e1e-4511-894d-b5da6494bd68",
   "metadata": {},
   "source": [
    "we put them into a StateTomographyFitter and use the least squares method to finally calculate the state_fidelity. Finally, the overall fidelity is the means of the fidelity of each repition. So, for simplicity, we now consider only a single repitition.\n",
    "\n",
    "The question is how does the StateTomographyFitter work and how can we mitigate the measurements?\n",
    "\n",
    "Quantum tomography or quantum state tomography is the process by which a quantum state is reconstructed using measurements on an ensemble of identical quantum states.[1] The source of these states may be any device or system which prepares quantum states either consistently into quantum pure states or otherwise into general mixed states. To be able to uniquely identify the state, the measurements must be tomographically complete. That is, the measured operators must form an operator basis on the Hilbert space of the system, providing all the information about the state. Such a set of observations is sometimes called a quorum.\n",
    "\n",
    "state tomography aims to extract all possible information about the state that are contained in the density operator.  the structure of the density matrix and showed that knowledge of this operator suffices to describe a system in total. Behaviour under certain operations and measurement outcomes can be calculated. This means that from the measurement of selected properties of a system, other can be inferred and this is what tomography is about.\n",
    "\n",
    "So, we look at the quantum sytem from  each possible viewpoint angle."
   ]
  },
  {
   "cell_type": "markdown",
   "id": "2ec1bf40-da85-4117-94d3-404f6e9a2cc3",
   "metadata": {},
   "source": [
    "The StateTomographyFitter is part of the [qiskit-ignis](https://github.com/Qiskit/qiskit-ignis/blob/master/qiskit/ignis/verification/tomography/fitters/state_fitter.py). It calls the fit function from its parent class [base_fitter](https://github.com/Qiskit/qiskit-ignis/blob/master/qiskit/ignis/verification/tomography/fitters/base_fitter.py). Without going into too much detail, [the base fitter](https://github.com/Qiskit/qiskit-ignis/blob/master/qiskit/ignis/verification/tomography/fitters/base_fitter.py#L271) collects the counts of the results.\n",
    "\n",
    "We don't look too much into it  because I don't think that IBM allows us to mess around with it. So, instead, we need to reflect our error mitigation in the counts.\n",
    "\n",
    "But this could be a problem because the CDR does not work on the measurement level but mitigates the expectation value of an observable. So, what we could do is to take each of the tomography circuits and apply the CDR on it. But this wouldn't help us.\n",
    "\n"
   ]
  },
  {
   "cell_type": "markdown",
   "id": "436a97e4-6b77-4e9a-8312-6460b1e0e263",
   "metadata": {},
   "source": [
    "![](./assets/cdr_draw.png)"
   ]
  },
  {
   "cell_type": "code",
   "execution_count": null,
   "id": "edbcc3b6-2d2c-4368-9ecb-365aeae00258",
   "metadata": {},
   "outputs": [],
   "source": [
    "Because we need the mitigated measurements, not the expectation value. \n",
    "So, what we would need to do is a linear regression of matrices.\n",
    "\n"
   ]
  },
  {
   "cell_type": "code",
   "execution_count": null,
   "id": "9004b399-158c-4f13-9709-ca65f66ff999",
   "metadata": {},
   "outputs": [],
   "source": []
  },
  {
   "cell_type": "code",
   "execution_count": null,
   "id": "6bccdd44-6466-447c-bbb5-e9f5e83d712b",
   "metadata": {},
   "outputs": [],
   "source": [
    "Measurement Error Mitigation: https://qiskit.org/textbook/ch-quantum-hardware/measurement-error-mitigation.html\n",
    "\n",
    "\n",
    "https://machinelearningmastery.com/curve-fitting-with-python/"
   ]
  }
 ],
 "metadata": {
  "kernelspec": {
   "display_name": "Python 3 (ipykernel)",
   "language": "python",
   "name": "python3"
  },
  "language_info": {
   "codemirror_mode": {
    "name": "ipython",
    "version": 3
   },
   "file_extension": ".py",
   "mimetype": "text/x-python",
   "name": "python",
   "nbconvert_exporter": "python",
   "pygments_lexer": "ipython3",
   "version": "3.9.2"
  }
 },
 "nbformat": 4,
 "nbformat_minor": 5
}
