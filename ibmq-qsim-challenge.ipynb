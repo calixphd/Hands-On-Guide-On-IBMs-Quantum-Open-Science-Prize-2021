{
 "cells": [
  {
   "cell_type": "markdown",
   "id": "852ab4ac-e501-4694-bf67-90cd4122140e",
   "metadata": {},
   "source": [
    "# 1 Introduction\n",
    "\n",
    "### 1-1 Quantum Simulation\n",
    "One of the leading uses for quantum computers will be to simulate quantum systems such as molecules or engineered materials. Actually executing a quantum simulation on a current quantum computer, however, can be difficult and error prone. Your objective for this Open Science Prize is to significantly improve the state-of-the-art for quantum simulation (details in Section 2).\n",
    "\n",
    "The quantum system you will simulate is a quantum spin-1/2 model, where each qubit represents a quantum [spin-1/2](https://en.wikipedia.org/wiki/Spin-1/2) particle in a 1D chain. Quantum spin models have some amazing properties and uses. Computationally speaking, [certain optimization problems can be mapped](https://en.wikipedia.org/wiki/Spin-1/2) to spin models and hence minimized on a quantum computer. Physically speaking, spin models show a variety of quantum behavior such as large entangled states, quantum phases of matter, quantum many-body affects, and many other open questions in physics research.\n",
    "\n",
    "There are many different spin models, but we will focus on the [$XXX$ Heisenberg spin model](https://en.wikipedia.org/wiki/Quantum_Heisenberg_model#XXX_model). Though it is not as well known as the [transverse-field Ising model](https://en.wikipedia.org/wiki/Transverse-field_Ising_model), the $XXX$ Heisenberg model is of practical and theoretical interest. It can also be difficult to simulate, which is where you come in.\n",
    "\n",
    "The notebook is organized as follows:\n",
    "1) Section 1 (labeled 1-X) provides you with brief introductions to the $XXX$ Heisenberg model, time evolving a Hamiltonian, and decomposing a time evolution operator into gates for a quantum computer to execute.\n",
    "2) Section 2 (labeled 2-X) outlines the specific requirements and boundaries associated with completing and competing in the Open Science Prize. Continuing from Section 1, the notebook showns an example solution."
   ]
  },
  {
   "cell_type": "code",
   "execution_count": 1,
   "id": "d1548b05-e691-40a5-8b35-c0eaa87a2a72",
   "metadata": {},
   "outputs": [],
   "source": [
    "import numpy as np\n",
    "import matplotlib.pyplot as plt\n",
    "plt.rcParams.update({'font.size': 16})  # enlarge matplotlib fonts\n",
    "\n",
    "# Import qubit states Zero (|0>) and One (|1>), and Pauli operators (X, Y, Z)\n",
    "from qiskit.opflow import Zero, One, I, X, Y, Z\n",
    "\n",
    "# Suppress warnings\n",
    "import warnings\n",
    "warnings.filterwarnings('ignore')"
   ]
  },
  {
   "cell_type": "markdown",
   "id": "c764af20-017f-4209-9483-4f89f10cb562",
   "metadata": {},
   "source": [
    "### 1-2 The $XXX$ Heisenberg Spin Model\n",
    "\n",
    "To simulate a quantum system, we first need to define how the quantum particles that make up the system interact with each other. In quantum physics, this is done by defining a [Hamiltonian operator](https://en.wikipedia.org/wiki/Hamiltonian_(quantum_mechanics)). For this Open Science Prize, you will work with the $XXX$ Heisenberg Hamiltonian $H_{\\text{Heis}}$ as defined below\n",
    "\n",
    "$$\n",
    "\\begin{equation}\n",
    "H_{\\text{Heis}} = \\sum_{\\langle ij \\rangle}^{N} J \\left(\\sigma_x^{(i)}\\sigma_x^{(j)} + \\sigma_y^{(i)}\\sigma_y^{(j)} + \\sigma_z^{(i)}\\sigma_z^{(j)}\\right).\n",
    "\\end{equation}\n",
    "$$\n",
    "\n",
    "$N$ is the number of spin-1/2 particles in model. The operators $\\sigma_x$, $\\sigma_y$, and $\\sigma_z$ are [Pauli operators](https://en.wikipedia.org/wiki/Pauli_matrices) where the $i$ and $j$ superscripts label which qubit they act on. For example, $\\sigma_x^{(1)}$ would be the $\\sigma_x$ operator acting on only qubit 1 (which is the 2nd qubit since indexing starts at 0). This version of the general Heisenberg spin model is called $XXX$ because the same $J$ value multiplies each pair of Pauli operators. The sum notation $\\langle ij \\rangle$ means the sum is over nearest neighbors (only qubits next to each other interact), and $J$ is the interaction strength, which we will set $J=1$.\n",
    "\n",
    "You will work with the explicit case of $N=3$ with the 3 spins arranged in a line. Written out fully, the Hamiltonian is\n",
    "$$\n",
    "H_{\\text{Heis3}} = \\sigma_x^{(0)}\\sigma_x^{(1)} + \\sigma_x^{(1)}\\sigma_x^{(2)} + \\sigma_y^{(0)}\\sigma_y^{(1)} + \\sigma_y^{(1)}\\sigma_y^{(2)} + \\sigma_z^{(0)}\\sigma_z^{(1)} + \\sigma_z^{(1)}\\sigma_z^{(2)}.\n",
    "$$\n",
    "Now that we have a Hamiltonian ($H_{\\text{Heis3}}$), we can use it to determine how the quantum system of 3 spin-1/2 particles changes in time.\n",
    "\n",
    "*See the supplementary material for further details on $H_{\\text{Heis}}$, $H_{\\text{Heis3}}$ and its matrix repsentation.*"
   ]
  },
  {
   "cell_type": "code",
   "execution_count": 2,
   "id": "e6d371fd-f5c4-446a-83f4-ac7593fdcee1",
   "metadata": {},
   "outputs": [],
   "source": [
    "# Returns the matrix representation of the XXX Heisenberg model for 3 spin-1/2 particles in a line\n",
    "def H_heis3():\n",
    "    # Interactions (I is the identity matrix; X, Y, and Z are Pauli matricies; ^ is a tensor product)\n",
    "    XXs = (I^X^X) + (X^X^I)\n",
    "    YYs = (I^Y^Y) + (Y^Y^I)\n",
    "    ZZs = (I^Z^Z) + (Z^Z^I)\n",
    "    \n",
    "    # Sum interactions\n",
    "    H = XXs + YYs + ZZs\n",
    "    \n",
    "    # Return Hamiltonian\n",
    "    return H"
   ]
  },
  {
   "cell_type": "markdown",
   "id": "35323a1f-9aac-493a-87a8-116c3b7980ca",
   "metadata": {},
   "source": [
    "### 1-3 Time Evolution\n",
    "\n",
    "Knowing the Hamiltonian, we can determine how quantum states of that system evolve in time by solving the [Schrödinger equation](https://en.wikipedia.org/wiki/Schrödinger_equation)\n",
    "$$\n",
    "i\\hbar \\dfrac{d}{dt}|\\psi(t)\\rangle = H |\\psi(t)\\rangle\n",
    "$$\n",
    "\n",
    "For simplicity, let's set $\\hbar = 1$. We know that the Hamiltonian $H_{\\text{heis3}}$ does not change in time, so the solution to the Schrödinger equation is an exponential of the Hamiltonian operator\n",
    "$$\n",
    "\\begin{align}\n",
    "U_{\\text{Heis3}}(t) &= e^{-it H_\\text{Heis3}} = \\exp\\left(-it H_\\text{Heis3}\\right) \\\\\n",
    "U_{\\text{Heis3}}(t) &= \\exp\\left[-it \\sum_{\\langle ij \\rangle}^{N=3} \\left(\\sigma_x^{(i)}\\sigma_x^{(j)} + \\sigma_y^{(i)}\\sigma_y^{(j)} + \\sigma_z^{(i)}\\sigma_z^{(j)}\\right) \\right] \\\\\n",
    "U_{\\text{Heis3}}(t) &= \\exp\\left[-it \\left(\\sigma_x^{(0)}\\sigma_x^{(1)} + \\sigma_x^{(1)}\\sigma_x^{(2)} + \\sigma_y^{(0)}\\sigma_y^{(1)} + \\sigma_y^{(1)}\\sigma_y^{(2)} + \\sigma_z^{(0)}\\sigma_z^{(1)} + \\sigma_z^{(1)}\\sigma_z^{(2)}\\right) \\right]\n",
    "\\end{align}\n",
    "$$.\n",
    "\n",
    "Now that we have the time evolution operator $U_{\\text{Heis3}}(t)$, we can simulate changes in a state of the system ($|\\psi(t)\\rangle$) over time $|\\psi(t)\\rangle = U_{\\text{Heis3}}(t)|\\psi(t=0)\\rangle$. \n",
    "\n",
    "*See the supplementary material for more information on exponentiating an operator or matrix.*"
   ]
  },
  {
   "cell_type": "code",
   "execution_count": 3,
   "id": "ccdedbc8-f335-468c-9db5-b594aa2e50bd",
   "metadata": {},
   "outputs": [],
   "source": [
    "# Returns the matrix representation of U_heis3(t) for a given time t assuming an XXX Heisenberg Hamiltonian for 3 spins-1/2 particles in a line\n",
    "def U_heis3(t):\n",
    "    # Compute XXX Hamiltonian for 3 spins in a line\n",
    "    H = H_heis3()\n",
    "    \n",
    "    # Return the exponential of -i multipled by time t multipled by the 3 spin XXX Heisenberg Hamilonian \n",
    "    return (t * H).exp_i()"
   ]
  },
  {
   "cell_type": "markdown",
   "id": "1668a459-1c19-4769-9263-ff0d8de330af",
   "metadata": {},
   "source": [
    "### 1-4 Classical Simulation of $H_{\\text{Heis3}}$\n",
    "\n",
    "Now that we have the operator $U_{\\text{Heis3}}(t)$ which describes how any state of the quantum system changes in time, we can simulate the $XXX$ Heisenberg spin model! Just for fun, let's simulate the system using a classical computer first.\n",
    "\n",
    "(Fun fact: Notice the size of $U_{\\text{Heis3}}(t)$ in matrix form. It's representated by an $8$x$8$ matrix. This is because there are $2^3=8$ states in the $N=3$ system. If the simulation were of $50$ particles ($N=50$), $U_{\\text{Heis}}(t)$ would be approximately $10^{15}$x$10^{15}$! Well beyond the capacity of today's computers.)"
   ]
  },
  {
   "cell_type": "code",
   "execution_count": 4,
   "id": "0813fede-9945-4477-9304-9f9891ce50a7",
   "metadata": {},
   "outputs": [
    {
     "data": {
      "image/png": "[encoded data removed]",
      "text/plain": [
       "<Figure size 432x288 with 1 Axes>"
      ]
     },
     "metadata": {
      "needs_background": "light"
     },
     "output_type": "display_data"
    }
   ],
   "source": [
    "# Define array of time points\n",
    "ts = np.linspace(0, np.pi, 100)\n",
    "\n",
    "# Define initial state |110>\n",
    "initial_state = One^One^Zero\n",
    "\n",
    "# Compute probability of remaining in |110> state over the array of time points\n",
    " # ~initial_state gives the bra of the initial state (<110|)\n",
    " # @ is short hand for matrix multiplication\n",
    " # U_heis3(t) is the unitary time evolution at time t\n",
    " # t needs to be wrapped with float(t) to avoid a bug\n",
    " # (...).eval() returns the inner product <110|U_heis3(t)|110>\n",
    " #  np.abs(...)**2 is the modulus squared of the innner product which is the expectation value, or probability, of remaining in |110>\n",
    "probs_110 = [np.abs((~initial_state @ U_heis3(float(t)) @ initial_state).eval())**2 for t in ts]\n",
    "\n",
    "# Plot evolution of |110>\n",
    "plt.plot(ts, probs_110)\n",
    "plt.xlabel('time')\n",
    "plt.ylabel(r'probability of state $|110\\rangle$')\n",
    "plt.title(r'Evolution of state $|110\\rangle$ under $H_{Heis3}$')\n",
    "plt.grid()\n",
    "plt.show()"
   ]
  },
  {
   "cell_type": "markdown",
   "id": "04db5341-8ba0-433b-b671-d929aba1fbe0",
   "metadata": {},
   "source": [
    "### 1-5 Decomposition of $U_{\\text{Heis3}}(t)$ Into Quantum Gates\n",
    "\n",
    "To execute $U_{\\text{Heis3}}(t)$ on a [circuit model](https://qiskit.org/documentation/apidoc/circuit.html) quantum computer, we must decompose $U_{\\text{Heis3}}(t)$ into a product of single and two-qubit gates that are native to that quantum computer. There are a [variety of techniques](https://en.wikipedia.org/wiki/Hamiltonian_simulation) to do this. For this Open Science Prize, you will only use [Trotterization](https://en.wikipedia.org/wiki/Hamiltonian_simulation#Product_Formulas) (which is sometimes refered to as Suzuki-Trotterization decomposition, Trotter formulas, product formulas, and other names).\n",
    "\n",
    "Below, we show an example Trotterization as outlined in \\[1-2\\].\n",
    "\n",
    "Since the [Pauli operators do not commute](https://en.wikipedia.org/wiki/Pauli_matrices#Commutation_relations) with each other, the exponential $U_{\\text{Heis3}}(t)$ cannot be split into a product of simpler exponentials. However, we can approximate $U_{\\text{Heis3}}(t)$ as a product of simpler exponentials through Trotterization. Consider a subsystem of 2 spin-1/2 particles within the larger 3 spin system. The Hamiltonian on spins $i$ and $j$ ($i,j \\in \\{0,1,2\\}$) would be $H^{(i,j)}_{\\text{Heis2}} = \\sigma_x^{(i)}\\sigma_x^{(j)} + \\sigma_y^{(i)}\\sigma_y^{(j)} + \\sigma_z^{(i)}\\sigma_z^{(j)}$. Rewritting $U_{\\text{Heis3}}(t)$ in terms of the two possible subsystems within the total $N=3$ system you will simulate,\n",
    "\n",
    "$$\n",
    "U_{\\text{Heis3}}(t) = \\exp\\left[-i t \\left(H^{(0,1)}_{\\text{Heis2}} + H^{(1,2)}_{\\text{Heis2}} \\right)\\right].\n",
    "$$\n",
    "\n",
    "$H^{(0,1)}_{\\text{Heis2}}$ and $H^{(1,2)}_{\\text{Heis2}}$ do not commute, so $U_{\\text{Heis3}}(t) \\neq \\exp\\left(-i t H^{(0,1)}_{\\text{Heis2}}\\right) \\exp\\left(-i t H^{(1,2)}_{\\text{Heis2}} \\right)$. But, this product decomposition can be approximated with Trotterization which says $U_{\\text{Heis3}}(t)$ is approximately a short evolution of $H^{(0,1)}_{\\text{Heis2}}$ (time = $t/n$) and followed by a short evolution of $H^{(1,2)}_{\\text{Heis2}}$ (time = $t/n$) repeated $n$ times\n",
    "\n",
    "$$\n",
    "\\begin{align}\n",
    "U_{\\text{Heis3}}(t) &= \\exp\\left[-i t \\left(H^{(0,1)}_{\\text{Heis2}} + H^{(1,2)}_{\\text{Heis2}} \\right)\\right] \\\\\n",
    "U_{\\text{Heis3}}(t) &\\approx \\left[\\exp\\left(\\dfrac{-it}{n}H^{(0,1)}_{\\text{Heis2}}\\right) \\exp\\left(\\dfrac{-it}{n}H^{(1,2)}_{\\text{Heis2}} \\right)\\right]^n.\n",
    "\\end{align}\n",
    "$$\n",
    "\n",
    "$n$ is the number of Trotter steps, and as $n$ increases, the approximation becomes more accurate. (Note that how a untiary is split up into subsystems for Trotterization is not necessarily unique.) The decomposition goes further. Within each 2 spin subsystems, the Pauli operator pairs ($\\sigma_x^{(i)}\\sigma_x^{(j)}$, $\\sigma_y^{(i)}\\sigma_y^{(j)}$, and $\\sigma_z^{(i)}\\sigma_z^{(j)}$) commute. This means we can decompose the exponential of a subsystem Hamiltonian ($H^{(i,j)}_{\\text{Heis2}}$) into a product of even simpler exponentials getting us closer to a gate implementation of $U_{\\text{Heis3}}(t)$\n",
    "\n",
    "$$\n",
    "\\begin{align}\n",
    "U_{\\text{Heis3}}(t) &\\approx \\left[\\exp\\left(\\dfrac{-it}{n}H^{(0,1)}_{\\text{Heis2}}\\right) \\exp\\left(\\dfrac{-it}{n}H^{(1,2)}_{\\text{Heis2}} \\right)\\right]^n \\\\\n",
    "U_{\\text{Heis3}}(t) &\\approx \\left[\\exp\\left(\\dfrac{-it}{n}\\left(\\sigma_x^{(0)}\\sigma_x^{(1)} + \\sigma_y^{(0)}\\sigma_y^{(1)} + \\sigma_z^{(0)}\\sigma_z^{(1)}\\right)\\right) \\exp\\left(\\dfrac{-it}{n}\\left(\\sigma_x^{(1)}\\sigma_x^{(2)} + \\sigma_y^{(1)}\\sigma_y^{(2)} + \\sigma_z^{(1)}\\sigma_z^{(2)}\\right)\\right)\\right]^{n} \\\\\n",
    "U_{\\text{Heis3}}(t) &\\approx \\left[\\exp\\left(\\dfrac{-it}{n}\\sigma_x^{(0)}\\sigma_x^{(1)}\\right) \\exp\\left(\\dfrac{-it}{n}\\sigma_y^{(0)}\\sigma_y^{(1)}\\right) \\exp\\left(\\dfrac{-it}{n}\\sigma_z^{(0)}\\sigma_z^{(1)}\\right) \\exp\\left(\\dfrac{-it}{n}\\sigma_x^{(1)}\\sigma_x^{(2)}\\right) \\exp\\left(\\dfrac{-it}{n}\\sigma_y^{(1)}\\sigma_y^{(2)}\\right) \\exp\\left(\\dfrac{-it}{n}\\sigma_z^{(1)}\\sigma_z^{(2)}\\right)\\right]^{n}\n",
    "\\end{align}\n",
    "$$\n",
    "\n",
    "For simplicity, and to use more common notation, let's rename the products with $XX(2t) = \\exp\\left(-it \\sigma_x\\sigma_x\\right)$, $YY(2t) = \\exp\\left(-it \\sigma_y\\sigma_y\\right)$, and $ZZ(2t) = \\exp\\left(-it \\sigma_z\\sigma_z\\right)$ and rewrite the Trotterized $U_{\\text{Heis3}}(t)$\n",
    "$$\n",
    "U_{\\text{Heis3}}(t) \\approx \\left[XX\\left(\\frac{2t}{n}\\right)^{(0,1)} YY\\left(\\frac{2t}{n}\\right)^{(0,1)} ZZ\\left(\\frac{2t}{n}\\right)^{(0,1)} XX\\left(\\frac{2t}{n}\\right)^{(1,2)} YY\\left(\\frac{2t}{n}\\right)^{(1,2)} ZZ\\left(\\frac{2t}{n}\\right)^{(1,2)} \\right]^{n}\n",
    "$$\n",
    "And that's it! We have now approximately decomposed $U_{\\text{Heis3}}(t)$ into two-qubit gates $XX(t)$, $YY(t)$, and $ZZ(t)$. These gates are not native to superconducting qubits, but in Section 2, they will be further decomposed into native single and two-qubit gates with *further details found in the supplementary material.*\n",
    "\n",
    "\n",
    "\\[1\\] Y. Salathe, et al., *Digital Quantum Simulation of Spin Models with Circuit Quantum Electrodynamics*, [Phys. Rev. X **5**, 021027 (2015)](https://link.aps.org/doi/10.1103/PhysRevX.5.021027)\n",
    "\n",
    "\\[2\\] F. Tacchino, et al., *Quantum Computers as Universal Quantum Simulators: State-of-the-Art and Perspectives*, [Adv. Quantum Technol. *3* 3 (2020)](https://doi.org/10.1002/qute.201900052) \\[[free arxiv version](https://arxiv.org/abs/1907.03505)\\]\n"
   ]
  },
  {
   "cell_type": "markdown",
   "id": "509e3761-6196-4b8f-aa5d-434bf1070eeb",
   "metadata": {},
   "source": [
    "# 2 The Open Science Prize\n",
    "### 2-1 Contest Details\n",
    "The Open Science Prize requirements and judging criteria can be found in the terms and conditions when registering on the [website](https://ibmquantumawards.bemyapp.com/#/event). Below is an outline of those requirements.\n",
    "\n",
    "You are to time evolve the state $|110\\rangle$ to time $t=\\pi$ under the $XXX$ Heisenberg model Hamiltonian $H_{\\text{heis3}}$ as defined in Section 1. This will be done on the ibmq_jakarta quantum computer. From left to right, the qubits in $|110\\rangle$ correspond to ibmq_jakarta's qubits 5, 3, and 1. The evolution must be done using Trotterization with at least 4 steps ($n\\geq4$). You will be judged on the clarity, originiality, and creativity of your solution, as well as the fidelity of the evolved state at time $t=\\pi$ using [state tomography](https://qiskit.org/documentation/tutorials/noise/8_tomography.html). State tomography is a way of determining the exact quantum state--even phase information--at the end of a quantum circuit by running the circuit multiple times and measuring in different bases. The closer your final quantum state to the expected state, the higher the fidelity. Ibmq_jakarta's qubits 0, 2, 4, and 6 will not be evaluated by the state tomography calculation, so you may use them as you wish. You do not need to follow the same decomposition given in the example above, but your solution must be a Trotterization of $U_{\\text{heis3}}(t)$ with at least 4 steps ($n\\geq4$). You may find it useful to implement techniques that reduce errors and improve qubit coherence."
   ]
  },
  {
   "cell_type": "markdown",
   "id": "c794b8f1-6de7-497b-a000-0b37f9d094b3",
   "metadata": {},
   "source": [
    "### 2-2 Import Qiskit\n",
    "\n",
    "Feel free to import packages as needed. However, only free packages and those obtained through ```pip install``` or ```conda install``` are allowed."
   ]
  },
  {
   "cell_type": "code",
   "execution_count": 5,
   "id": "8b3e598e-1156-4263-abc6-890e554cf4fb",
   "metadata": {},
   "outputs": [],
   "source": [
    "# Importing standard Qiskit modules\n",
    "from qiskit import QuantumCircuit, QuantumRegister, IBMQ, execute, transpile\n",
    "from qiskit.providers.aer import QasmSimulator\n",
    "from qiskit.tools.monitor import job_monitor\n",
    "from qiskit.circuit import Parameter\n",
    "\n",
    "# Import state tomography modules\n",
    "from qiskit.ignis.verification.tomography import state_tomography_circuits, StateTomographyFitter\n",
    "from qiskit.quantum_info import state_fidelity\n",
    "\n",
    "# suppress warnings\n",
    "import warnings\n",
    "warnings.filterwarnings('ignore')"
   ]
  },
  {
   "cell_type": "markdown",
   "id": "900d2ab8-b568-4d28-87d8-473962fdc998",
   "metadata": {},
   "source": [
    "### 2-3 Quantum Devices\n",
    "Connect to IBM provider and connect to a real or simulated backend. Final submissions must be run on a real backend, but simulated devices are faster for debugging and testing."
   ]
  },
  {
   "cell_type": "code",
   "execution_count": 6,
   "id": "7345d1e9-4803-4bd8-a578-0af5294cb22a",
   "metadata": {},
   "outputs": [],
   "source": [
    "# load IBMQ Account data\n",
    "\n",
    "IBMQ.save_account(\"TOKEN\")  # replace TOKEN with your API token string (https://quantum-computing.ibm.com/lab/docs/iql/manage/account/ibmq)\n",
    "provider = IBMQ.load_account()"
   ]
  },
  {
   "cell_type": "code",
   "execution_count": 7,
   "id": "78e0af5d-6da9-4a08-912a-5a172535e03b",
   "metadata": {},
   "outputs": [],
   "source": [
    "# Get backend for experiment\n",
    "provider = IBMQ.get_provider(hub='ibm-q-community', group='ibmquantumawards', project='open-science-22')\n",
    "jakarta = provider.get_backend('ibmq_jakarta')\n",
    "# properties = jakarta.properties()\n",
    "\n",
    "# Simulated backend based on ibmq_jakarta's device noise profile\n",
    "sim_noisy_jakarta = QasmSimulator.from_backend(provider.get_backend('ibmq_jakarta'))\n",
    "\n",
    "# Noiseless simulated backend\n",
    "sim = QasmSimulator()"
   ]
  },
  {
   "cell_type": "markdown",
   "id": "d4e8a24c-5846-4de9-95ea-3033653c4037",
   "metadata": {},
   "source": [
    "### 2-4 Decomposition of $U_{\\text{Heis3}}(t)$ into Quantum Gates (Example)\n",
    "\n",
    "The following circuit code is written based on the example given in Section 1. This is where you write your solution."
   ]
  },
  {
   "cell_type": "markdown",
   "id": "207beaa7-58e9-40c1-a35c-f359ddb7aa8b",
   "metadata": {},
   "source": [
    "YOUR TROTTERIZATION GOES HERE -- START (beginning of example)"
   ]
  },
  {
   "cell_type": "code",
   "execution_count": 8,
   "id": "9156980e-d3a7-4494-8ad4-7ec15ca92e7f",
   "metadata": {},
   "outputs": [],
   "source": [
    "# Parameterize variable t to be evaluated at t=pi later\n",
    "t = Parameter('t')"
   ]
  },
  {
   "cell_type": "code",
   "execution_count": 9,
   "id": "ec328a9f-809c-49d6-8400-fa09579c1d8c",
   "metadata": {},
   "outputs": [],
   "source": [
    "# Build a subcircuit for XX(t) two-qubit gate\n",
    "XX_qr = QuantumRegister(2)\n",
    "XX_qc = QuantumCircuit(XX_qr, name='XX')\n",
    "\n",
    "XX_qc.ry(np.pi/2,[0,1])\n",
    "XX_qc.cnot(0,1)\n",
    "XX_qc.rz(2 * t, 1)\n",
    "XX_qc.cnot(0,1)\n",
    "XX_qc.ry(-np.pi/2,[0,1])\n",
    "\n",
    "# Convert custom quantum circuit into a gate\n",
    "XX = XX_qc.to_instruction()"
   ]
  },
  {
   "cell_type": "code",
   "execution_count": 10,
   "id": "52977709-1b68-4ebf-98de-dc5c88265acb",
   "metadata": {},
   "outputs": [],
   "source": [
    "# Build a subcircuit for YY(t) two-qubit gate\n",
    "YY_qr = QuantumRegister(2)\n",
    "YY_qc = QuantumCircuit(YY_qr, name='YY')\n",
    "\n",
    "YY_qc.rx(np.pi/2,[0,1])\n",
    "YY_qc.cnot(0,1)\n",
    "YY_qc.rz(2 * t, 1)\n",
    "YY_qc.cnot(0,1)\n",
    "YY_qc.rx(-np.pi/2,[0,1])\n",
    "\n",
    "# Convert custom quantum circuit into a gate\n",
    "YY = YY_qc.to_instruction()"
   ]
  },
  {
   "cell_type": "code",
   "execution_count": 11,
   "id": "4fd739df-0dc4-48ef-823e-230fb0c8fd64",
   "metadata": {},
   "outputs": [],
   "source": [
    "# Build a subcircuit for ZZ(t) two-qubit gate\n",
    "ZZ_qr = QuantumRegister(2)\n",
    "ZZ_qc = QuantumCircuit(ZZ_qr, name='ZZ')\n",
    "\n",
    "ZZ_qc.cnot(0,1)\n",
    "ZZ_qc.rz(2 * t, 1)\n",
    "ZZ_qc.cnot(0,1)\n",
    "\n",
    "# Convert custom quantum circuit into a gate\n",
    "ZZ = ZZ_qc.to_instruction()"
   ]
  },
  {
   "cell_type": "markdown",
   "id": "4335d6d3-4a8e-4140-aad0-97b9b189905a",
   "metadata": {},
   "source": [
    "Combine subcircuits into single gate representing one ($n=1$) trotter step."
   ]
  },
  {
   "cell_type": "code",
   "execution_count": 12,
   "id": "8ef03f79-2c47-49da-93d5-0c0ae3ea5872",
   "metadata": {},
   "outputs": [],
   "source": [
    "# Combine subcircuits into a single multiqubit gate representing a single trotter step\n",
    "num_qubits = 3\n",
    "\n",
    "Trot_qr = QuantumRegister(num_qubits)\n",
    "Trot_qc = QuantumCircuit(Trot_qr, name='Trot')\n",
    "\n",
    "for i in range(0, num_qubits - 1):\n",
    "    Trot_qc.append(ZZ, [Trot_qr[i], Trot_qr[i+1]])\n",
    "    Trot_qc.append(YY, [Trot_qr[i], Trot_qr[i+1]])\n",
    "    Trot_qc.append(XX, [Trot_qr[i], Trot_qr[i+1]])\n",
    "\n",
    "# Convert custom quantum circuit into a gate\n",
    "Trot_gate = Trot_qc.to_instruction()"
   ]
  },
  {
   "cell_type": "markdown",
   "id": "0641237c-048e-41e7-b47c-88a364683fb7",
   "metadata": {},
   "source": [
    "YOUR TROTTERIZATION GOES HERE -- FINISH (end of example)"
   ]
  },
  {
   "cell_type": "markdown",
   "id": "b9fb21ba-a2ea-4595-ba76-a4cef87ea666",
   "metadata": {},
   "source": [
    "### 2-5 Trotterized Time Evolution\n",
    "\n",
    "Time evolve the state $|110\\rangle$ from $\\theta=0$ to $\\theta=\\pi$ under $H_{\\text{heis3}}$. Although jakarta has 7 qubits, only the qubits 1, 3, and 5 will be used for the state $|110\\rangle$. From left to right, the qubits in $|110\\rangle$ corresponds to the qubits 5, 3, and 1 on jakarta. State tomography will evaluate how well the quantum simulation matches to the expected state at $\\theta= \\pi$. (Note qubits 0, 2, 4, and 6 are not part of the state tomography calculation.)\n",
    "\n",
    "You choose how many trotter steps (```trotter_steps```) to take in the simulation, but it must be at least 4. The code below is written to be generic enough for you may add to it if necessary for your solution."
   ]
  },
  {
   "cell_type": "code",
   "execution_count": 13,
   "id": "c6135540-dcea-4313-8ce8-0eb8e3ee23e7",
   "metadata": {},
   "outputs": [
    {
     "data": {
      "text/html": [
       "<pre style=\"word-wrap: normal;white-space: pre;background: #fff0;line-height: 1.1;font-family: &quot;Courier New&quot;,Courier,monospace\">                                                                    ░          \n",
       "q4_0: ──────────────────────────────────────────────────────────────░──────────\n",
       "           ┌────────────┐┌────────────┐┌────────────┐┌────────────┐ ░ ┌─┐      \n",
       "q4_1: ─────┤0           ├┤0           ├┤0           ├┤0           ├─░─┤M├──────\n",
       "           │            ││            ││            ││            │ ░ └╥┘      \n",
       "q4_2: ─────┤            ├┤            ├┤            ├┤            ├─░──╫───────\n",
       "      ┌───┐│            ││            ││            ││            │ ░  ║ ┌─┐   \n",
       "q4_3: ┤ X ├┤1 Trot(π/4) ├┤1 Trot(π/4) ├┤1 Trot(π/4) ├┤1 Trot(π/4) ├─░──╫─┤M├───\n",
       "      └───┘│            ││            ││            ││            │ ░  ║ └╥┘   \n",
       "q4_4: ─────┤            ├┤            ├┤            ├┤            ├─░──╫──╫────\n",
       "      ┌───┐│            ││            ││            ││            │ ░  ║  ║ ┌─┐\n",
       "q4_5: ┤ X ├┤2           ├┤2           ├┤2           ├┤2           ├─░──╫──╫─┤M├\n",
       "      └───┘└────────────┘└────────────┘└────────────┘└────────────┘ ░  ║  ║ └╥┘\n",
       "q4_6: ──────────────────────────────────────────────────────────────░──╫──╫──╫─\n",
       "                                                                    ░  ║  ║  ║ \n",
       "c0: 3/═════════════════════════════════════════════════════════════════╩══╩══╩═\n",
       "                                                                       0  1  2 </pre>"
      ],
      "text/plain": [
       "                                                                    ░          \n",
       "q4_0: ──────────────────────────────────────────────────────────────░──────────\n",
       "           ┌────────────┐┌────────────┐┌────────────┐┌────────────┐ ░ ┌─┐      \n",
       "q4_1: ─────┤0           ├┤0           ├┤0           ├┤0           ├─░─┤M├──────\n",
       "           │            ││            ││            ││            │ ░ └╥┘      \n",
       "q4_2: ─────┤            ├┤            ├┤            ├┤            ├─░──╫───────\n",
       "      ┌───┐│            ││            ││            ││            │ ░  ║ ┌─┐   \n",
       "q4_3: ┤ X ├┤1 Trot(π/4) ├┤1 Trot(π/4) ├┤1 Trot(π/4) ├┤1 Trot(π/4) ├─░──╫─┤M├───\n",
       "      └───┘│            ││            ││            ││            │ ░  ║ └╥┘   \n",
       "q4_4: ─────┤            ├┤            ├┤            ├┤            ├─░──╫──╫────\n",
       "      ┌───┐│            ││            ││            ││            │ ░  ║  ║ ┌─┐\n",
       "q4_5: ┤ X ├┤2           ├┤2           ├┤2           ├┤2           ├─░──╫──╫─┤M├\n",
       "      └───┘└────────────┘└────────────┘└────────────┘└────────────┘ ░  ║  ║ └╥┘\n",
       "q4_6: ──────────────────────────────────────────────────────────────░──╫──╫──╫─\n",
       "                                                                    ░  ║  ║  ║ \n",
       "c0: 3/═════════════════════════════════════════════════════════════════╩══╩══╩═\n",
       "                                                                       0  1  2 "
      ]
     },
     "execution_count": 13,
     "metadata": {},
     "output_type": "execute_result"
    }
   ],
   "source": [
    "# The final time of the state evolution\n",
    "target_time = np.pi\n",
    "\n",
    "# Number of trotter steps\n",
    "trotter_steps = 4  ### CAN BE >= 4\n",
    "\n",
    "# Initialize quantum circuit for 3 qubits\n",
    "qr = QuantumRegister(7)\n",
    "qc = QuantumCircuit(qr)\n",
    "\n",
    "# Prepare initial state (remember we are only evolving 3 of the 7 qubits on jakarta qubits (q_5, q_3, q_1) corresponding to the state |110>)\n",
    "qc.x([3,5])  # DO NOT MODIFY (|q_5,q_3,q_1> = |110>)\n",
    "\n",
    "# Simulate time evolution under H_heis3 Hamiltonian\n",
    "for _ in range(trotter_steps):\n",
    "    qc.append(Trot_gate, [qr[1], qr[3], qr[5]])\n",
    "\n",
    "# Evaluate simulation at target_time (t=pi) meaning each trotter step evolves pi/trotter_steps in time\n",
    "qc = qc.bind_parameters({t: target_time/trotter_steps})\n",
    "\n",
    "# Generate state tomography circuits to evaluate fidelity of simulation\n",
    "st_qcs = state_tomography_circuits(qc, [qr[1], qr[3], qr[5]])\n",
    "\n",
    "# Display circuit for confirmation\n",
    "# st_qcs[-1].decompose().draw()  # view decomposition of trotter gates\n",
    "st_qcs[-1].draw()  # only view trotter gates"
   ]
  },
  {
   "cell_type": "markdown",
   "id": "1742151c-1261-4b42-80a4-da2c0ad90ac5",
   "metadata": {},
   "source": [
    "### 2-6 Execute\n",
    "For your final submission, you will need to execute your solution on a real backend with 8 repetitions. For faster debugging, considering using a simulated backend and/or 1 repetition."
   ]
  },
  {
   "cell_type": "code",
   "execution_count": 14,
   "id": "79c3ef21-c143-418a-8b50-f0ab39c5ae35",
   "metadata": {},
   "outputs": [
    {
     "name": "stdout",
     "output_type": "stream",
     "text": [
      "Job ID dbfdd4b2-92ee-41aa-9bae-d7c4b3b8023a\n",
      "Job ID bad4c9c5-7537-4162-9889-004670db8372\n",
      "Job ID 0816b842-8851-4e13-81db-dcc44c7d3956\n",
      "Job ID eebe6ade-2778-4ea3-89bf-1c473bc50c32\n",
      "Job ID 69b248a3-1401-45b6-b3ca-25a57fd4f0dc\n",
      "Job ID cde57a56-2510-4007-800a-7724b566df6c\n",
      "Job ID 0692fb4f-76ac-44ed-9987-e0434780756f\n",
      "Job ID 1e3327ce-06ca-4056-852d-c8ea2cdbe072\n"
     ]
    }
   ],
   "source": [
    "shots = 8192\n",
    "reps = 8\n",
    "backend = sim_noisy_jakarta\n",
    "# reps = 8\n",
    "# backend = jakarta\n",
    "\n",
    "jobs = []\n",
    "for _ in range(reps):\n",
    "    # execute\n",
    "    job = execute(st_qcs, backend, shots=shots)\n",
    "    print('Job ID', job.job_id())\n",
    "    jobs.append(job)"
   ]
  },
  {
   "cell_type": "markdown",
   "id": "be7acc76-86f0-4b1f-94e4-e4e1014f3956",
   "metadata": {},
   "source": [
    "We can monitor the status of the jobs using Qiskit's job monitoring tools."
   ]
  },
  {
   "cell_type": "code",
   "execution_count": 15,
   "id": "1b142880-af5b-4913-8f50-9248e5d1646f",
   "metadata": {},
   "outputs": [
    {
     "name": "stdout",
     "output_type": "stream",
     "text": [
      "Job Status: job has successfully run\n",
      "Job Status: job has successfully run\n",
      "Job Status: job has successfully run\n",
      "Job Status: job has successfully run\n",
      "Job Status: job has successfully run\n",
      "Job Status: job has successfully run\n",
      "Job Status: job has successfully run\n",
      "Job Status: job has successfully run\n"
     ]
    }
   ],
   "source": [
    "for job in jobs:\n",
    "    job_monitor(job)\n",
    "    try:\n",
    "        if job.error_message() is not None:\n",
    "            print(job.error_message())\n",
    "    except:\n",
    "        pass"
   ]
  },
  {
   "cell_type": "markdown",
   "id": "e4186e06-db3d-4d0d-aef4-51906f41df61",
   "metadata": {},
   "source": [
    "### 2-7 Results Analysis\n",
    "Extract the results for the completed jobs and compute the state tomography fidelity for each repetition. You may choose to include other post-processing analyses here as well."
   ]
  },
  {
   "cell_type": "code",
   "execution_count": 19,
   "id": "f87c0c22-1f37-4f56-9ec5-7e3c5d7a8384",
   "metadata": {},
   "outputs": [
    {
     "name": "stdout",
     "output_type": "stream",
     "text": [
      "[{'001': 966, '100': 950, '110': 1083, '010': 1033, '101': 966, '000': 1005, '111': 1120, '011': 1069}, {'101': 924, '100': 925, '110': 982, '010': 1102, '001': 1050, '011': 1106, '000': 1029, '111': 1074}, {'101': 428, '010': 1707, '001': 1552, '110': 441, '100': 384, '000': 1515, '111': 470, '011': 1695}, {'010': 986, '110': 1006, '100': 977, '111': 1125, '000': 985, '011': 1048, '101': 1027, '001': 1038}, {'101': 1023, '001': 1033, '010': 998, '000': 1047, '011': 1089, '111': 1058, '110': 985, '100': 959}, {'101': 470, '010': 1667, '110': 459, '100': 392, '000': 1536, '011': 1634, '111': 462, '001': 1572}, {'010': 1633, '100': 419, '110': 1579, '111': 1671, '011': 1584, '000': 488, '001': 427, '101': 391}, {'001': 472, '101': 405, '000': 490, '011': 1647, '111': 1542, '010': 1655, '110': 1532, '100': 449}, {'001': 602, '101': 264, '111': 650, '000': 679, '011': 2580, '010': 2573, '110': 587, '100': 257}, {'100': 986, '110': 1099, '010': 1064, '111': 1063, '000': 990, '011': 1048, '001': 1047, '101': 895}, {'010': 1108, '001': 980, '101': 918, '100': 955, '110': 1069, '011': 1064, '000': 1049, '111': 1049}, {'101': 398, '001': 1529, '010': 1666, '111': 483, '000': 1513, '011': 1703, '110': 463, '100': 437}, {'001': 975, '010': 1014, '111': 1049, '011': 1027, '000': 1062, '110': 1036, '100': 1063, '101': 966}, {'101': 1001, '001': 1018, '010': 1037, '111': 1050, '000': 1053, '011': 1045, '110': 1018, '100': 970}, {'010': 1651, '100': 442, '110': 487, '001': 1505, '101': 433, '111': 442, '000': 1591, '011': 1641}, {'101': 404, '010': 1578, '110': 1670, '100': 479, '001': 435, '000': 468, '111': 1572, '011': 1586}, {'101': 454, '100': 454, '110': 1514, '010': 1615, '000': 473, '111': 1608, '011': 1630, '001': 444}, {'100': 237, '110': 621, '010': 2639, '000': 649, '011': 2564, '111': 618, '001': 608, '101': 256}, {'010': 483, '001': 1570, '101': 1506, '100': 433, '110': 479, '011': 1635, '111': 1662, '000': 424}, {'010': 475, '101': 1456, '001': 1586, '000': 470, '111': 1566, '011': 1738, '110': 438, '100': 463}, {'101': 595, '010': 618, '100': 250, '110': 253, '001': 2520, '000': 635, '011': 2678, '111': 643}, {'010': 456, '101': 1573, '001': 1575, '111': 1641, '011': 1600, '000': 463, '100': 442, '110': 442}, {'101': 1435, '001': 1629, '000': 461, '111': 1671, '011': 1642, '110': 465, '100': 438, '010': 451}, {'110': 256, '100': 238, '001': 2463, '101': 617, '010': 721, '011': 2616, '000': 614, '111': 667}, {'101': 569, '000': 254, '011': 2538, '111': 2612, '010': 687, '001': 632, '110': 667, '100': 233}, {'101': 609, '001': 648, '000': 260, '111': 2377, '011': 2727, '010': 680, '110': 640, '100': 251}, {'101': 358, '001': 885, '010': 969, '100': 140, '110': 388, '000': 349, '111': 887, '011': 4216}]\n",
      "[{'010': 1045, '001': 1040, '101': 993, '110': 1077, '100': 993, '111': 1039, '000': 1013, '011': 992}, {'101': 959, '001': 1025, '100': 936, '110': 1081, '010': 1072, '000': 991, '111': 996, '011': 1132}, {'010': 1672, '100': 413, '110': 455, '001': 1517, '101': 429, '111': 484, '000': 1574, '011': 1648}, {'010': 1013, '001': 986, '101': 1031, '100': 982, '110': 1044, '111': 1062, '000': 1021, '011': 1053}, {'001': 1027, '110': 1072, '100': 918, '010': 1107, '000': 1068, '111': 1015, '011': 1044, '101': 941}, {'101': 469, '001': 1618, '011': 1587, '111': 522, '000': 1642, '010': 1522, '110': 399, '100': 433}, {'001': 425, '010': 1597, '100': 416, '110': 1557, '101': 406, '000': 490, '111': 1714, '011': 1587}, {'101': 431, '000': 439, '011': 1682, '111': 1584, '100': 448, '110': 1522, '010': 1644, '001': 442}, {'101': 252, '010': 2556, '100': 257, '110': 630, '001': 605, '000': 627, '011': 2623, '111': 642}, {'011': 1011, '111': 1096, '000': 987, '010': 1084, '110': 1063, '100': 958, '001': 980, '101': 1013}, {'001': 971, '010': 1183, '011': 1060, '000': 1061, '111': 1005, '110': 1027, '100': 941, '101': 944}, {'101': 417, '010': 1570, '100': 431, '110': 506, '001': 1506, '000': 1571, '011': 1716, '111': 475}, {'101': 986, '001': 1005, '100': 1061, '110': 1079, '010': 1054, '111': 1030, '000': 1028, '011': 949}, {'010': 1120, '100': 1023, '110': 986, '111': 996, '000': 1065, '011': 1034, '001': 1017, '101': 951}, {'001': 1477, '101': 459, '010': 1623, '100': 440, '110': 492, '111': 460, '011': 1645, '000': 1596}, {'101': 421, '010': 1610, '110': 1628, '100': 454, '000': 487, '111': 1590, '011': 1557, '001': 445}, {'101': 412, '100': 393, '110': 1627, '010': 1734, '001': 396, '000': 447, '111': 1545, '011': 1638}, {'101': 252, '010': 2608, '111': 599, '000': 627, '011': 2552, '110': 647, '100': 260, '001': 647}, {'010': 494, '110': 463, '100': 427, '101': 1483, '001': 1498, '111': 1698, '011': 1643, '000': 486}, {'000': 473, '011': 1705, '111': 1599, '001': 1537, '101': 1511, '010': 487, '100': 416, '110': 464}, {'010': 679, '001': 2391, '101': 592, '111': 677, '011': 2729, '000': 612, '100': 255, '110': 257}, {'101': 1587, '001': 1559, '000': 496, '011': 1559, '111': 1628, '010': 467, '110': 442, '100': 454}, {'001': 1632, '101': 1548, '111': 1589, '011': 1615, '000': 470, '100': 430, '110': 429, '010': 479}, {'101': 636, '001': 2479, '110': 253, '100': 255, '011': 2594, '111': 608, '000': 660, '010': 707}, {'010': 698, '000': 259, '111': 2566, '011': 2528, '101': 602, '001': 645, '100': 246, '110': 648}, {'100': 238, '110': 649, '010': 670, '000': 248, '111': 2487, '011': 2579, '001': 649, '101': 672}, {'001': 842, '101': 340, '010': 988, '100': 134, '110': 411, '000': 325, '011': 4193, '111': 959}]\n",
      "[{'010': 979, '001': 994, '101': 1040, '000': 1008, '111': 1071, '011': 1110, '110': 1027, '100': 963}, {'101': 941, '010': 1059, '000': 1001, '111': 1085, '011': 1147, '110': 1000, '100': 958, '001': 1001}, {'100': 407, '110': 409, '010': 1654, '111': 492, '000': 1557, '011': 1705, '001': 1544, '101': 424}, {'101': 1103, '001': 1034, '010': 1047, '100': 916, '110': 1011, '000': 1056, '011': 1013, '111': 1012}, {'101': 1001, '001': 1059, '100': 976, '110': 1004, '010': 1068, '011': 1033, '000': 1000, '111': 1051}, {'010': 1567, '001': 1558, '101': 433, '110': 420, '100': 458, '000': 1640, '111': 479, '011': 1637}, {'101': 399, '010': 1558, '110': 1646, '100': 446, '001': 480, '000': 443, '111': 1603, '011': 1617}, {'001': 421, '010': 1635, '100': 426, '110': 1547, '000': 497, '011': 1714, '111': 1532, '101': 420}, {'001': 633, '010': 2586, '110': 612, '100': 242, '101': 274, '111': 678, '000': 643, '011': 2524}, {'001': 965, '011': 995, '111': 1090, '000': 957, '010': 1058, '110': 1089, '100': 1088, '101': 950}, {'010': 1155, '110': 1063, '100': 999, '001': 968, '101': 898, '111': 1051, '000': 1032, '011': 1026}, {'010': 1742, '111': 449, '011': 1589, '000': 1625, '001': 1484, '101': 375, '110': 487, '100': 441}, {'001': 990, '101': 963, '010': 1064, '110': 1049, '100': 1019, '011': 1044, '000': 1021, '111': 1042}, {'110': 1051, '100': 948, '101': 962, '001': 1060, '010': 1097, '011': 980, '000': 1056, '111': 1038}, {'101': 401, '010': 1635, '001': 1568, '000': 1596, '011': 1644, '111': 460, '110': 446, '100': 442}, {'001': 452, '101': 416, '100': 410, '110': 1601, '010': 1623, '111': 1631, '000': 463, '011': 1596}, {'001': 447, '101': 431, '010': 1714, '111': 1536, '000': 448, '011': 1559, '110': 1633, '100': 424}, {'101': 271, '010': 2622, '100': 279, '110': 593, '001': 587, '000': 633, '111': 662, '011': 2545}, {'010': 500, '000': 443, '011': 1630, '111': 1648, '101': 1516, '001': 1548, '110': 471, '100': 436}, {'010': 482, '111': 1641, '000': 450, '011': 1669, '001': 1573, '101': 1475, '110': 471, '100': 431}, {'010': 636, '001': 2420, '101': 613, '000': 630, '011': 2662, '111': 692, '100': 272, '110': 267}, {'101': 1617, '001': 1545, '000': 466, '011': 1562, '111': 1625, '010': 486, '110': 449, '100': 442}, {'100': 428, '110': 451, '001': 1655, '101': 1506, '010': 462, '111': 1561, '011': 1644, '000': 485}, {'100': 256, '110': 281, '101': 620, '001': 2492, '010': 680, '000': 671, '011': 2554, '111': 638}, {'000': 251, '111': 2575, '011': 2529, '010': 683, '100': 221, '110': 675, '101': 625, '001': 633}, {'100': 252, '110': 683, '010': 670, '000': 259, '011': 2619, '111': 2495, '101': 590, '001': 624}, {'101': 375, '001': 826, '100': 144, '110': 369, '010': 938, '111': 913, '000': 350, '011': 4277}]\n",
      "[{'101': 990, '001': 979, '110': 1041, '100': 985, '010': 1024, '011': 1068, '111': 1107, '000': 998}, {'101': 989, '010': 1053, '100': 942, '110': 1014, '001': 1027, '000': 1003, '111': 1048, '011': 1116}, {'010': 1631, '001': 1586, '101': 453, '110': 430, '100': 409, '000': 1524, '011': 1677, '111': 482}, {'010': 995, '001': 1006, '101': 1015, '111': 1086, '011': 1064, '000': 1029, '110': 1044, '100': 953}, {'001': 1071, '101': 1010, '100': 1030, '110': 983, '010': 1014, '111': 1016, '000': 994, '011': 1074}, {'101': 404, '100': 426, '110': 459, '010': 1599, '001': 1545, '011': 1628, '000': 1614, '111': 517}, {'101': 391, '010': 1584, '001': 450, '000': 482, '011': 1566, '111': 1668, '110': 1630, '100': 421}, {'001': 438, '000': 482, '011': 1618, '111': 1631, '010': 1590, '110': 1597, '100': 418, '101': 418}, {'101': 252, '001': 563, '010': 2617, '011': 2608, '000': 642, '111': 651, '110': 614, '100': 245}, {'010': 1055, '111': 1060, '011': 1049, '000': 1013, '110': 1084, '100': 936, '101': 1017, '001': 978}, {'001': 998, '100': 958, '110': 1074, '010': 1095, '101': 954, '000': 969, '011': 1087, '111': 1057}, {'010': 1639, '111': 475, '011': 1639, '000': 1608, '100': 414, '110': 495, '101': 416, '001': 1506}, {'000': 1025, '011': 1040, '111': 994, '100': 1061, '110': 1052, '010': 1067, '001': 984, '101': 969}, {'010': 1055, '100': 953, '110': 1045, '001': 1026, '101': 989, '000': 1070, '011': 1052, '111': 1002}, {'101': 436, '110': 435, '100': 428, '010': 1702, '001': 1573, '000': 1581, '111': 436, '011': 1601}, {'100': 450, '110': 1633, '010': 1612, '001': 457, '101': 380, '000': 484, '011': 1543, '111': 1633}, {'001': 390, '101': 447, '010': 1736, '000': 484, '111': 1597, '011': 1564, '110': 1586, '100': 388}, {'001': 602, '110': 669, '100': 243, '010': 2656, '101': 243, '000': 626, '111': 622, '011': 2531}, {'110': 465, '100': 444, '101': 1510, '001': 1555, '010': 429, '111': 1672, '000': 461, '011': 1656}, {'010': 487, '100': 431, '110': 469, '001': 1456, '101': 1500, '000': 464, '011': 1756, '111': 1629}, {'010': 677, '001': 2465, '101': 598, '100': 240, '110': 256, '111': 671, '011': 2663, '000': 622}, {'101': 1518, '001': 1572, '010': 486, '100': 424, '110': 489, '000': 444, '011': 1625, '111': 1634}, {'010': 450, '001': 1598, '101': 1508, '000': 489, '011': 1657, '111': 1556, '110': 480, '100': 454}, {'010': 684, '001': 2504, '101': 578, '000': 610, '011': 2602, '111': 656, '110': 275, '100': 283}, {'101': 633, '000': 252, '011': 2535, '111': 2612, '010': 663, '110': 589, '100': 241, '001': 667}, {'001': 641, '010': 651, '011': 2544, '111': 2527, '000': 282, '101': 625, '110': 666, '100': 256}, {'100': 121, '110': 370, '001': 877, '101': 385, '010': 915, '011': 4294, '000': 355, '111': 875}]\n",
      "[{'010': 1028, '100': 929, '110': 1057, '000': 1049, '011': 1061, '111': 1102, '001': 969, '101': 997}, {'001': 1043, '010': 1112, '110': 1082, '100': 888, '011': 1162, '000': 936, '111': 1027, '101': 942}, {'100': 402, '110': 452, '010': 1678, '111': 475, '000': 1554, '011': 1667, '001': 1560, '101': 404}, {'010': 1030, '001': 1035, '101': 1004, '110': 1024, '100': 946, '011': 1073, '000': 987, '111': 1093}, {'001': 1046, '010': 1049, '111': 1009, '000': 1045, '011': 1008, '110': 1073, '100': 977, '101': 985}, {'010': 1663, '100': 423, '110': 442, '111': 485, '000': 1554, '011': 1597, '001': 1573, '101': 455}, {'101': 410, '001': 470, '010': 1527, '110': 1566, '100': 460, '000': 456, '011': 1622, '111': 1681}, {'010': 1615, '101': 439, '001': 441, '110': 1609, '100': 426, '000': 455, '111': 1617, '011': 1590}, {'101': 248, '010': 2563, '111': 696, '000': 656, '011': 2583, '110': 594, '100': 268, '001': 584}, {'101': 941, '001': 962, '110': 1104, '100': 964, '010': 1125, '011': 1051, '111': 1048, '000': 997}, {'010': 1104, '001': 1008, '101': 934, '110': 1088, '100': 945, '000': 1043, '011': 1098, '111': 972}, {'101': 432, '010': 1710, '100': 383, '110': 498, '111': 446, '000': 1590, '011': 1635, '001': 1498}, {'101': 961, '010': 1052, '100': 1023, '110': 1024, '011': 1065, '000': 1060, '111': 995, '001': 1012}, {'110': 1044, '100': 1012, '001': 1023, '101': 953, '010': 1111, '000': 1065, '011': 979, '111': 1005}, {'100': 437, '110': 434, '010': 1638, '101': 443, '001': 1539, '111': 399, '000': 1627, '011': 1675}, {'010': 1560, '100': 450, '110': 1633, '000': 433, '111': 1607, '011': 1600, '101': 430, '001': 479}, {'101': 402, '001': 458, '010': 1715, '100': 430, '110': 1605, '111': 1530, '000': 478, '011': 1574}, {'101': 255, '010': 2572, '100': 238, '110': 664, '001': 635, '000': 640, '011': 2580, '111': 608}, {'101': 1501, '001': 1460, '000': 440, '111': 1698, '011': 1674, '010': 490, '100': 432, '110': 497}, {'010': 486, '001': 1607, '101': 1449, '011': 1715, '111': 1597, '000': 456, '100': 444, '110': 438}, {'101': 589, '111': 657, '011': 2652, '000': 640, '010': 632, '001': 2493, '110': 276, '100': 253}, {'001': 1548, '010': 489, '101': 1598, '110': 501, '100': 437, '111': 1593, '000': 421, '011': 1605}, {'010': 435, '101': 1526, '001': 1682, '000': 486, '011': 1655, '111': 1563, '100': 399, '110': 446}, {'101': 611, '001': 2485, '010': 630, '100': 255, '110': 289, '000': 636, '011': 2660, '111': 626}, {'101': 589, '001': 646, '010': 686, '111': 2544, '000': 286, '011': 2527, '110': 664, '100': 250}, {'000': 269, '011': 2576, '111': 2517, '010': 714, '101': 627, '001': 602, '110': 639, '100': 248}, {'101': 337, '010': 925, '100': 108, '110': 375, '001': 902, '000': 396, '011': 4277, '111': 872}]\n",
      "[{'101': 993, '001': 962, '111': 1147, '011': 1054, '000': 1022, '010': 1066, '100': 922, '110': 1026}, {'101': 956, '010': 1105, '011': 1076, '000': 1031, '111': 978, '001': 1069, '110': 980, '100': 997}, {'101': 421, '010': 1623, '001': 1560, '111': 469, '000': 1583, '011': 1686, '110': 465, '100': 385}, {'010': 984, '101': 986, '001': 980, '110': 1057, '100': 1012, '000': 1049, '011': 1030, '111': 1094}, {'101': 922, '001': 1049, '100': 983, '110': 1032, '010': 1041, '111': 1023, '000': 1070, '011': 1072}, {'100': 419, '110': 401, '010': 1588, '101': 437, '001': 1621, '000': 1639, '011': 1653, '111': 434}, {'101': 394, '001': 450, '010': 1541, '110': 1657, '100': 438, '000': 448, '011': 1613, '111': 1651}, {'001': 418, '000': 421, '011': 1700, '111': 1602, '010': 1641, '110': 1549, '100': 454, '101': 407}, {'101': 254, '010': 2593, '110': 614, '100': 229, '001': 593, '000': 630, '111': 678, '011': 2601}, {'010': 1090, '100': 1005, '110': 1087, '001': 974, '101': 956, '000': 1019, '111': 1072, '011': 989}, {'001': 937, '100': 923, '110': 1117, '010': 1097, '111': 1067, '000': 1055, '011': 1072, '101': 924}, {'110': 478, '100': 426, '010': 1669, '111': 450, '000': 1537, '011': 1678, '101': 440, '001': 1514}, {'101': 968, '010': 982, '001': 1006, '110': 1045, '100': 1082, '000': 1022, '111': 1048, '011': 1039}, {'001': 1012, '101': 924, '110': 1044, '100': 1013, '000': 1070, '111': 1016, '011': 1027, '010': 1086}, {'110': 470, '100': 441, '001': 1550, '101': 452, '010': 1638, '011': 1584, '000': 1627, '111': 430}, {'101': 424, '001': 441, '110': 1629, '100': 420, '010': 1634, '111': 1658, '000': 422, '011': 1564}, {'101': 426, '001': 425, '010': 1648, '111': 1594, '011': 1601, '000': 461, '100': 414, '110': 1623}, {'001': 658, '101': 268, '010': 2619, '111': 625, '011': 2527, '000': 619, '100': 238, '110': 638}, {'101': 1528, '001': 1490, '010': 440, '100': 422, '110': 455, '011': 1621, '000': 480, '111': 1756}, {'100': 435, '110': 449, '010': 496, '111': 1594, '011': 1701, '000': 466, '101': 1525, '001': 1526}, {'001': 2434, '101': 571, '110': 251, '100': 272, '010': 653, '000': 645, '011': 2657, '111': 709}, {'010': 494, '111': 1581, '011': 1607, '000': 509, '101': 1549, '001': 1544, '110': 453, '100': 455}, {'101': 1400, '001': 1671, '010': 507, '100': 431, '110': 468, '000': 472, '011': 1626, '111': 1617}, {'100': 263, '110': 234, '001': 2554, '101': 607, '010': 678, '111': 654, '000': 647, '011': 2555}, {'000': 282, '111': 2596, '011': 2497, '101': 613, '001': 672, '010': 659, '100': 232, '110': 641}, {'001': 617, '000': 276, '011': 2507, '111': 2543, '101': 603, '100': 267, '110': 665, '010': 714}, {'001': 886, '100': 143, '110': 358, '010': 948, '000': 340, '011': 4275, '111': 880, '101': 362}]\n",
      "[{'001': 980, '100': 923, '110': 1014, '010': 1048, '000': 1023, '111': 1076, '011': 1127, '101': 1001}, {'010': 1067, '111': 1011, '011': 1086, '000': 983, '100': 1018, '110': 994, '101': 968, '001': 1065}, {'001': 1520, '101': 460, '110': 435, '100': 435, '111': 479, '011': 1694, '000': 1507, '010': 1662}, {'001': 995, '000': 1037, '011': 1019, '111': 1068, '010': 997, '100': 976, '110': 1052, '101': 1048}, {'001': 1093, '010': 1107, '110': 994, '100': 914, '101': 988, '111': 1035, '000': 1037, '011': 1024}, {'010': 1561, '100': 446, '110': 405, '011': 1676, '000': 1548, '111': 499, '001': 1598, '101': 459}, {'001': 458, '101': 427, '010': 1596, '100': 451, '110': 1593, '000': 428, '111': 1631, '011': 1608}, {'101': 380, '010': 1620, '111': 1594, '000': 409, '011': 1615, '001': 479, '110': 1627, '100': 468}, {'101': 269, '010': 2519, '011': 2649, '111': 672, '000': 611, '100': 265, '110': 626, '001': 581}, {'010': 1063, '111': 1066, '000': 1093, '011': 1012, '001': 944, '101': 927, '110': 1060, '100': 1027}, {'010': 1101, '011': 1065, '000': 978, '111': 1069, '001': 994, '101': 956, '110': 1059, '100': 970}, {'101': 424, '001': 1493, '010': 1707, '111': 429, '011': 1691, '000': 1524, '110': 478, '100': 446}, {'001': 1043, '101': 1015, '110': 1016, '100': 1003, '010': 1056, '011': 1010, '111': 1049, '000': 1000}, {'001': 1063, '101': 975, '000': 1044, '011': 1049, '111': 998, '010': 1127, '110': 977, '100': 959}, {'100': 466, '110': 452, '010': 1634, '001': 1569, '101': 439, '000': 1579, '011': 1613, '111': 440}, {'001': 436, '010': 1601, '000': 467, '111': 1660, '011': 1587, '110': 1629, '100': 398, '101': 414}, {'101': 425, '010': 1662, '100': 435, '110': 1603, '011': 1548, '000': 461, '111': 1613, '001': 445}, {'101': 284, '010': 2606, '111': 610, '000': 680, '011': 2491, '001': 603, '110': 647, '100': 271}, {'010': 443, '001': 1550, '101': 1492, '000': 466, '011': 1703, '111': 1672, '110': 472, '100': 394}, {'010': 469, '100': 434, '110': 434, '001': 1558, '101': 1485, '011': 1698, '000': 470, '111': 1644}, {'101': 625, '001': 2410, '000': 663, '011': 2601, '111': 701, '010': 658, '100': 266, '110': 268}, {'001': 1530, '101': 1536, '100': 416, '110': 444, '010': 490, '111': 1664, '000': 474, '011': 1638}, {'001': 1558, '100': 438, '110': 456, '010': 452, '101': 1492, '000': 465, '111': 1656, '011': 1675}, {'101': 597, '010': 637, '111': 646, '000': 680, '011': 2603, '001': 2497, '110': 268, '100': 264}, {'010': 665, '100': 209, '110': 670, '000': 314, '111': 2551, '011': 2528, '101': 592, '001': 663}, {'100': 216, '110': 594, '101': 627, '001': 651, '111': 2518, '011': 2618, '000': 275, '010': 693}, {'001': 860, '101': 351, '010': 955, '100': 139, '110': 396, '000': 363, '011': 4263, '111': 865}]\n",
      "[{'101': 974, '010': 1062, '111': 1137, '011': 1027, '000': 989, '001': 980, '110': 1047, '100': 976}, {'101': 982, '001': 1030, '010': 1050, '110': 952, '100': 964, '111': 1069, '000': 980, '011': 1165}, {'101': 434, '111': 449, '011': 1667, '000': 1519, '010': 1646, '001': 1572, '110': 465, '100': 440}, {'001': 993, '101': 1019, '010': 1043, '110': 1048, '100': 975, '111': 1065, '000': 1014, '011': 1035}, {'110': 964, '100': 961, '101': 984, '001': 1041, '010': 1043, '000': 1066, '011': 1109, '111': 1024}, {'101': 442, '010': 1706, '111': 444, '000': 1601, '011': 1577, '110': 434, '100': 449, '001': 1539}, {'001': 449, '101': 412, '010': 1559, '000': 447, '111': 1682, '011': 1638, '110': 1567, '100': 438}, {'101': 413, '100': 385, '110': 1562, '010': 1683, '001': 451, '111': 1596, '000': 477, '011': 1625}, {'101': 250, '001': 565, '010': 2662, '111': 588, '011': 2631, '000': 633, '110': 588, '100': 275}, {'010': 1080, '011': 1041, '000': 993, '111': 1041, '110': 1073, '100': 1028, '101': 942, '001': 994}, {'001': 1023, '101': 1010, '010': 1092, '100': 945, '110': 1004, '111': 1017, '000': 1018, '011': 1083}, {'101': 428, '110': 456, '100': 476, '010': 1649, '001': 1527, '011': 1614, '000': 1591, '111': 451}, {'101': 971, '000': 1014, '011': 1046, '111': 1054, '010': 1000, '001': 1001, '110': 1070, '100': 1036}, {'001': 1021, '101': 969, '111': 996, '011': 943, '000': 1079, '100': 1008, '110': 1076, '010': 1100}, {'100': 409, '110': 492, '001': 1538, '101': 420, '010': 1639, '000': 1589, '011': 1645, '111': 460}, {'001': 428, '000': 446, '011': 1628, '111': 1582, '010': 1575, '100': 411, '110': 1671, '101': 451}, {'001': 443, '010': 1744, '110': 1561, '100': 435, '000': 423, '111': 1582, '011': 1613, '101': 391}, {'101': 257, '001': 600, '010': 2610, '110': 635, '100': 290, '111': 646, '000': 642, '011': 2512}, {'110': 439, '100': 457, '001': 1508, '101': 1499, '111': 1740, '011': 1670, '000': 437, '010': 442}, {'100': 428, '110': 437, '101': 1444, '001': 1573, '010': 488, '111': 1633, '000': 450, '011': 1739}, {'010': 615, '101': 637, '001': 2368, '100': 247, '110': 284, '111': 638, '000': 671, '011': 2732}, {'110': 440, '100': 428, '010': 512, '111': 1608, '000': 422, '011': 1612, '001': 1580, '101': 1590}, {'100': 395, '110': 464, '010': 469, '101': 1481, '001': 1613, '000': 453, '111': 1605, '011': 1712}, {'100': 262, '110': 248, '001': 2537, '101': 647, '010': 683, '011': 2577, '000': 627, '111': 611}, {'100': 229, '110': 623, '010': 635, '000': 274, '111': 2650, '011': 2574, '001': 644, '101': 563}, {'010': 682, '100': 242, '110': 642, '000': 255, '111': 2411, '011': 2684, '101': 641, '001': 635}, {'101': 343, '000': 351, '011': 4258, '111': 941, '001': 848, '010': 945, '110': 374, '100': 132}]\n",
      "state tomography fidelity = 0.0464 ± 0.0014\n"
     ]
    }
   ],
   "source": [
    "# Compute the state tomography based on the st_qcs quantum circuits and the results from those ciricuits\n",
    "def state_tomo(result, st_qcs):\n",
    "    # The expected final state; necessary to determine state tomography fidelity\n",
    "    target_state = (One^One^Zero).to_matrix()  # DO NOT MODIFY (|q_5,q_3,q_1> = |110>)\n",
    "    print (result.get_counts())\n",
    "    # Fit state tomography results\n",
    "    tomo_fitter = StateTomographyFitter(result, st_qcs)\n",
    "    rho_fit = tomo_fitter.fit(method='lstsq')\n",
    "    # Compute fidelity\n",
    "    fid = state_fidelity(rho_fit, target_state)\n",
    "    return fid\n",
    "\n",
    "# Compute tomography fidelities for each repetition\n",
    "fids = []\n",
    "for job in jobs:\n",
    "    fid = state_tomo(job.result(), st_qcs)\n",
    "    fids.append(fid)\n",
    "    \n",
    "print('state tomography fidelity = {:.4f} \\u00B1 {:.4f}'.format(np.mean(fids), np.std(fids)))"
   ]
  },
  {
   "cell_type": "code",
   "execution_count": 17,
   "id": "a7a0994c-f8bf-4613-8b1e-c78eb2864b8e",
   "metadata": {},
   "outputs": [
    {
     "data": {
      "text/html": [
       "<h3>Version Information</h3><table><tr><th>Qiskit Software</th><th>Version</th></tr><tr><td><code>qiskit-terra</code></td><td>0.18.3</td></tr><tr><td><code>qiskit-aer</code></td><td>0.9.1</td></tr><tr><td><code>qiskit-ignis</code></td><td>0.6.0</td></tr><tr><td><code>qiskit-ibmq-provider</code></td><td>0.18.1</td></tr><tr><td><code>qiskit-aqua</code></td><td>0.9.5</td></tr><tr><td><code>qiskit</code></td><td>0.32.1</td></tr><tr><td><code>qiskit-nature</code></td><td>0.1.3</td></tr><tr><th>System information</th></tr><tr><td>Python</td><td>3.8.8 (default, Apr 13 2021, 12:59:45) \n",
       "[Clang 10.0.0 ]</td></tr><tr><td>OS</td><td>Darwin</td></tr><tr><td>CPUs</td><td>8</td></tr><tr><td>Memory (Gb)</td><td>64.0</td></tr><tr><td colspan='2'>Mon Nov 29 09:12:47 2021 EST</td></tr></table>"
      ],
      "text/plain": [
       "<IPython.core.display.HTML object>"
      ]
     },
     "metadata": {},
     "output_type": "display_data"
    }
   ],
   "source": [
    "import qiskit.tools.jupyter\n",
    "%qiskit_version_table"
   ]
  }
 ],
 "metadata": {
  "kernelspec": {
   "display_name": "Python 3 (ipykernel)",
   "language": "python",
   "name": "python3"
  },
  "language_info": {
   "codemirror_mode": {
    "name": "ipython",
    "version": 3
   },
   "file_extension": ".py",
   "mimetype": "text/x-python",
   "name": "python",
   "nbconvert_exporter": "python",
   "pygments_lexer": "ipython3",
   "version": "3.9.2"
  },
  "toc-autonumbering": false,
  "toc-showcode": false,
  "toc-showmarkdowntxt": false,
  "toc-showtags": false
 },
 "nbformat": 4,
 "nbformat_minor": 5
}
