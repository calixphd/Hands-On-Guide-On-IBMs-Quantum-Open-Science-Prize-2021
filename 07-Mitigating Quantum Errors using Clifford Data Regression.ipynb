{
 "cells": [
  {
   "cell_type": "markdown",
   "id": "c233abee-8b5b-430a-ac64-db8d9ac508dd",
   "metadata": {},
   "source": [
    "# Mitigating Quantum Errors using Clifford Data Regression\n",
    "\n",
    "**How to tap the potential of the current noisy quantum computers**\n",
    "\n",
    "This post appeared first on [Medium](https://pyqml.medium.com/mitigating-quantum-errors-using-clifford-data-regression-98ab663bf4c6) and my weekly [email-course](https://pyqml.substack.com/p/mitigating-quantum-errors-using-clifford?s=w).\n",
    "\n",
    "Quantum computing has been touted as a potential game-changer in areas such as cryptography, machine learning, and artificial intelligence. While some believe that quantum computers are already within reach, others argue that they are decades away from being commercially viable.\n",
    "\n",
    "The main obstacle is that quantum systems are extremely fragile. This makes them very sensitive to environmental disturbances and prone to errors. So, it is fair to say that the practicality of building a working quantum computer remains a challenge. It is a challenge of utmost importance and actual interest.\n",
    "\n",
    "For instance, in their second Quantum Open Science Prize, IBM offers $\\$100,000$ in prize money to those whose algorithms can best handle errors.\n",
    "\n",
    "IBM provides a working example of simulating a Heisenberg model Hamiltonian for a three-particle system using Trotterization. We can run it on our laptop, and it produces a fidelity (that is the performance score) of almost 1.0 — that is the best we can get.\n",
    "\n",
    "Unfortunately, real quantum devices are not fault-tolerant but noisy. And the problem with noise is that it compounds and propagates. The more qubits and gates we use, the bigger the noise becomes. It inevitably ruins any meaningful computation and produces nothing but random garbage. So, when we run IBM’s code on an actual quantum computer, we get a fidelity of only 0.2.\n",
    "\n",
    "Unsurprisingly, to tap the potential of the current noisy devices, we need to focus on quantum error mitigation. Broadly said, error mitigation doesn’t aim to correct errors but to reduce their impact. And, that’s what IBM asks us to do. They want us to increase the fidelity. The level we need to achieve to be eligible for participation is 0.3.\n",
    "\n",
    "A recent and promising error mitigation method is the Clifford Data Regression (CDR) that has been presented in [P. Czarnik et al., Error mitigation with Clifford quantum-circuit data, Quantum 5, 592 (2021)](https://arxiv.org/abs/2005.10189). In this method, we create a machine learning model that we can use to predict and mitigate the noise by using the data from quantum circuits that we can simulate classically.\n",
    "\n",
    "CDR consists of three main steps:\n",
    "\n",
    "- Step 1: Generate training data\n",
    "- Step 2: Create a model of the noise\n",
    "- Step 3: Predict and mitigate the noise\n",
    "\n",
    "The following image depicts this method.\n",
    "\n",
    "![](./assets/cdr_steps.png)\n",
    "\n",
    "We start with generating training data. For this purpose, we create a quantum algorithm that consists largely of Clifford gates. Clifford gates are quantum operators that we can simulate efficiently on a classical computer. Therefore, we can run this algorithm on a classical computer and obtain the exact value of an observable’s expectation value of interest. Additionally, when we run the algorithm on a real quantum computer, we get the noisy value.\n",
    "\n",
    "This way, we construct a set of pairs of exact and noisy values to serve as our training data.\n",
    "\n",
    "Next, we create a model of the noise. This model maps the noisy value into the exact value. The simplest model is a linear relationship. Visually, there is a two-dimensional plot of the pairs. The goal is to find the line through the points that best fits the data. This means we need to minimize the error between the data’s actual point and the predicted point according to the linear model.\n",
    "\n",
    "Finally, we use the model to predict the noise-free value from the actual measurement. This way, we aim to increase the fidelity of the trotterized Heisenberg model Hamiltonian for a three-particle system.\n",
    "\n",
    "Plausibly, the implementation of CDR requires a lot of details that would exceed the scope of this post. Fortunately, there is an open-source implementation of it in [Mitiq](https://mitiq.readthedocs.io/en/stable/index.html). Mitiq is a Python toolkit for implementing error mitigation techniques on quantum computers. It provides an API that integrates well with Qiskit and other quantum development libraries (such as Cirq, pyQuil, or Braket).\n"
   ]
  }
 ],
 "metadata": {
  "kernelspec": {
   "display_name": "Python 3 (ipykernel)",
   "language": "python",
   "name": "python3"
  },
  "language_info": {
   "codemirror_mode": {
    "name": "ipython",
    "version": 3
   },
   "file_extension": ".py",
   "mimetype": "text/x-python",
   "name": "python",
   "nbconvert_exporter": "python",
   "pygments_lexer": "ipython3",
   "version": "3.9.2"
  }
 },
 "nbformat": 4,
 "nbformat_minor": 5
}
