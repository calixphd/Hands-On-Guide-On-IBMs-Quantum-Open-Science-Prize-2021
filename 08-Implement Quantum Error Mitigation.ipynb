{
 "cells": [
  {
   "cell_type": "markdown",
   "id": "905e7af4-3d98-44d1-acec-1eecd7ffaf43",
   "metadata": {},
   "source": [
    "# How To Implement Quantum Error Mitigation With Qiskit And Mitiq\n",
    "\n",
    "**Learn how to implement the Clifford Data Regression**\n",
    "\n",
    "\n",
    "This post appeared first on [Medium](https://pyqml.medium.com/mitigating-quantum-errors-using-clifford-data-regression-98ab663bf4c6) and my weekly [email-course](https://pyqml.substack.com/p/mitigating-quantum-errors-using-clifford?s=w).\n",
    "\n",
    "Quantum error mitigation is paramount to tap the potential of quantum computing today. First, the qubits we have today suffer from noise in the environment ultimately destroying any meaningful computation. Second, by no means, we don't have enough physical qubits to bundle them into fault-tolerant logical qubits.\n",
    "\n",
    "The best we can do today is to reduce the impact the noise has on the computation. That is what quantum error mitigation is about.\n",
    "\n",
    "Recently, IBM announced its second Quantum Science Prize. They're looking for a solution to a quantum simulation problem. They want us to use Trotterization to simulate a 3-particle Heisenberg model Hamiltonian. Yet, the main challenge is to cope with the inevitable noise because they want us to solve the problem on their 7-qubit Jakarta system.\n",
    "\n",
    "But before we can solve this problem on the real quantum computer, let's first have a look at how we can implement a quantum error mitigation method with Qiskit at all. In my previous post, I introduced the Clifford Data Regression (CDR) method developed by [P. Czarnik et al., Error mitigation with Clifford quantum-circuit data, Quantum 5, 592 (2021)](https://arxiv.org/abs/2005.10189). In this recent and promising error mitigation method, we create a machine learning model that we can use to predict and mitigate the noise by using the data from quantum circuits that we can simulate classically.\n",
    "\n",
    "We use Qiskit, the IBM quantum development library, and Mitiq, a Python toolkit for implementing error mitigation techniques on quantum computers. \n",
    "\n",
    "Mitiq provides an API for the CDR method and they integrate well with Qiskit. So, it should be a piece of cake to get this working, no?\n",
    "\n",
    "Let's first have a look at [Mitiq's introduction](https://mitiq.readthedocs.io/en/stable/guide/cdr-1-intro.html) to CDR. At first sight, they clearly describe what we need to do. It is a four-step procedure:\n",
    "\n",
    "1. Define a quantum circuit\n",
    "1. Define an executor\n",
    "1.  Observable\n",
    "1. (Near-Clifford) Simulator\n",
    "\n",
    "However, when we look a little closer, we see that their example uses Google's Cirq library.\n",
    "\n",
    "So, we need to adapt the code to the Qiskit API.\n"
   ]
  },
  {
   "cell_type": "markdown",
   "id": "500df23b-2528-458c-b18a-c788d6ffd7b2",
   "metadata": {},
   "source": [
    "## Define A Quantum Circuit\n",
    "\n",
    "The quantum circuit we need to define represents the problem we aim to solve, such as the Hamiltonian simulation IBM asks us for. Yet, we stick with the example Mitiq provides. This is a two-qubit circuit that only consists of Clifford gates and rotations around the Z-axis ($R_Z$). Clifford gates are easy to simulate on a classical computer--a precondition for the CDR method.\n",
    "\n",
    "The following listing depicts the adaption of the quantum circuit to Qiskit."
   ]
  },
  {
   "cell_type": "code",
   "execution_count": 45,
   "id": "9d62d064-e9b4-4bf4-8059-032a7df21650",
   "metadata": {},
   "outputs": [],
   "source": [
    "# 1. Define a quantum circuit\n",
    "from qiskit import QuantumCircuit\n",
    "\n",
    "def get_circuit():\n",
    "    qc = QuantumCircuit(2)\n",
    "\n",
    "    # CDR works better if the circuit is not too short. So we increase its depth.\n",
    "    for i in range(5): \n",
    "        qc.h(0) # Clifford\n",
    "        qc.h(1) # Clifford\n",
    "        qc.rz(1.75, 0)\n",
    "        qc.rz(2.31, 1)\n",
    "        qc.cx(0,1) # Clifford\n",
    "        qc.rz(-1.17, 1)\n",
    "        qc.rz(3.23, 0)\n",
    "        qc.rx(pi/2, 0) # Clifford\n",
    "        qc.rx(pi/2, 1) # Clifford\n",
    "\n",
    "    # We need to measure the qubits\n",
    "    #qc.measure_all()\n",
    "    return qc"
   ]
  },
  {
   "cell_type": "markdown",
   "id": "ed104e40-a440-45e6-a4c6-417639312e45",
   "metadata": {},
   "source": [
    "There's nothing really special going on here. Inside the for-loop, we apply some arbitrary quantum gates on our qubits. These are mainly rotations (`rz`, `rx`, and entanglements `cx`). For the application of the CDR method, the details of this circuit do not really matter. As mentioned, let's assume they represent the problem at hand.\n",
    "\n",
    "Similar to Mitiq's example, we apply the series of gates multiple times to increase the length of the overall circuit. In fact, if we look ahead to solving the Hamiltonian simulation using Trotterization, this structure comes in handy because Trotterization builds upon such a repetition of a series of quantum gates.\n",
    "\n",
    "Finally, the important difference to the example is the measurement we include in our circuit. In Qiskit, we need to specify explicitly when we \"look\" at our qubits.\n",
    "\n",
    "## Define An Executor\n",
    "\n",
    "In the next step, we need to define an executor. This is a function that takes our quantum circuit as the input and returns a Mitiq QuantumResult. Sounds easy. Yet, the devil is in the detail.\n",
    "\n",
    "When we look at the exemplary code, we see that it uses the Mitiq function compute_density_matrix that they import from mitiq.interface.mitiq_cirq. Apparently, it returns the density matrix. This is a matrix that describes the quantum state.\n",
    "\n",
    "Unfortunately, when we look at [Mitiq's API documentation](https://mitiq.readthedocs.io/en/stable/apidoc.html), there is no such function anymore. It seems as if the example is a little outdated. A look at the [actual source code](https://github.com/unitaryfund/mitiq/tree/master/mitiq/interface/mitiq_cirq) confirms this assumption. There is no such function anymore.\n",
    "\n",
    "Instead, Mitiq now provides four Cirq-related functions: `execute`, `execute_with_depolarizing_noise`, `execute_with_shots`, and `execute_with_shots_and_depolarizing_noise`.\n",
    "\n",
    "The same accounts for their Qiskit interface. Here, there are `execute`, `execute_with_noise`, `execute_with_shots`, and `execute_with_shots_and_noise`.\n",
    "\n",
    "The question is: Which one should we use?\n",
    "\n",
    "In the Mitiq example, they say that they added single-qubit depolarizing noise. So, we certainly want to create an executor with noise. But, do we need multiple shots?\n",
    "\n",
    "The answer is: yes, we do! In the original example, they return the final density matrix-a representation of a quantum state. If we run the circuit only once (without shots), we won't be able to create such a matrix.\n",
    "\n",
    "So, this is the function we're going to use:"
   ]
  },
  {
   "cell_type": "raw",
   "id": "08c6b410-663d-4ccd-9067-8c92a711f4fd",
   "metadata": {},
   "source": [
    "mitiq.interface.mitiq_qiskit.qiskit_utils.execute_with_shots_and_noise(circuit, obs, noise_model, shots, seed=None)[source]\n",
    "\n",
    "Simulates the evolution of the noisy circuit and returns the statistical estimate of the expectation value of the observable.\n",
    "\n",
    "Parameters\n",
    "    circuit (QuantumCircuit) – The input Qiskit circuit.\n",
    "    obs (ndarray) – The observable to measure as a NumPy array.\n",
    "    noise – The input Qiskit noise model.\n",
    "    shots (int) – The number of measurements.\n",
    "    seed (Optional[int]) – Optional seed for qiskit simulator.\n",
    "    noise_model (NoiseModel) –\n",
    "Return type float\n",
    "Returns The expectation value of obs as a float."
   ]
  },
  {
   "cell_type": "markdown",
   "id": "02669f90-7a79-4b56-b2ac-2592f9f31e20",
   "metadata": {},
   "source": [
    "Do you notice anything? Right, the function returns a float, not a density matrix. Furthermore, the function requires an `obs` parameter. This is an observable as a NumPy array. We would create the observable in the next step. So, let's postpone the definition of the executor for a second.\n",
    "\n",
    "## Observable\n",
    "\n",
    "Generally, the observable is something we can measure. But, let's not get into the physical details too much. Rather, let's look at it from a conceptual perspective.\n",
    "\n",
    "A qubit is a two-dimensional system as depicted in the following image. The poles of the visualization depict the basis states $|0\\rangle$ and $|1\\rangle$. The arrow is the quantum state vector. The proximities to the poles (the basis states) denote the amplitudes whose squares are the probabilities of measuring the qubit as either 0 or 1. Simply put, the closer the quantum state vector is to the basis state $|1\\rangle$ the higher the probability of measuring the qubit as a 1."
   ]
  },
  {
   "cell_type": "markdown",
   "id": "57210691-511a-4f11-bf6b-6c5f449a679c",
   "metadata": {},
   "source": [
    "So far so good. Yet, the amplitudes of the quantum state are complex numbers. A complex number is a two-dimensional number with a real part and an imaginary part as shown in the following figure."
   ]
  },
  {
   "cell_type": "markdown",
   "id": "9518cf5a-4dfe-41fd-a39c-f62044293a9a",
   "metadata": {},
   "source": [
    "This effectively turns the qubit into a three-dimensional construct that we usually represent as the Bloch Sphere. Still, the proximities to the poles determine the measurement probabilities.\n",
    "\n",
    "\n",
    "A sphere is homogeneous. There's no special point at all. The definition of the poles to represent $|0\\rangle$ and $|1\\rangle$ is arbitrary. We could define two other opposing points on the sphere's surface and ask for the probabilities of measuring the qubit as either one. The following figure depicts two such points."
   ]
  },
  {
   "cell_type": "markdown",
   "id": "03e16f0b-d4b5-4c27-ac2b-37793425c2dd",
   "metadata": {
    "tags": [
     "pyqml_img"
    ]
   },
   "source": [
    "\n",
    "\\begin{figure}[h]\n",
    "\\begin{board}\n",
    "\\centering\n",
    "\n",
    "\n",
    "\n",
    "\\tikzset{every picture/.style={line width=0.75pt}} %set default line width to 0.75pt        \n",
    "\n",
    "\\begin{tikzpicture}[x=0.75pt,y=0.75pt,yscale=-1,xscale=1]\n",
    "%uncomment if require: \\path (0,300); %set diagram left start at 0, and has height of 300\n",
    "\n",
    "%Shape: Ellipse [id:dp3658152106146677] \n",
    "\\draw  [color={rgb, 255:red, 255; green, 255; blue, 255 }  ,draw opacity=1 ][line width=0.75]  (87,71.06) .. controls (87,51.73) and (93.27,36.06) .. (101,36.06) .. controls (108.73,36.06) and (115,51.73) .. (115,71.06) .. controls (115,90.39) and (108.73,106.06) .. (101,106.06) .. controls (93.27,106.06) and (87,90.39) .. (87,71.06) -- cycle ;\n",
    "%Shape: Circle [id:dp07761280290757333] \n",
    "\\draw  [color={rgb, 255:red, 255; green, 255; blue, 255 }  ,draw opacity=1 ][line width=0.75]  (66,71.06) .. controls (66,51.73) and (81.67,36.06) .. (101,36.06) .. controls (120.33,36.06) and (136,51.73) .. (136,71.06) .. controls (136,90.39) and (120.33,106.06) .. (101,106.06) .. controls (81.67,106.06) and (66,90.39) .. (66,71.06) -- cycle ;\n",
    "%Shape: Ellipse [id:dp46765485835014275] \n",
    "\\draw  [color={rgb, 255:red, 255; green, 255; blue, 255 }  ,draw opacity=1 ][line width=0.75]  (101,57.06) .. controls (120.33,57.06) and (136,63.32) .. (136,71.06) .. controls (136,78.79) and (120.33,85.06) .. (101,85.06) .. controls (81.67,85.06) and (66,78.79) .. (66,71.06) .. controls (66,63.32) and (81.67,57.06) .. (101,57.06) -- cycle ;\n",
    "%Straight Lines [id:da24555337677859002] \n",
    "\\draw [color={rgb, 255:red, 255; green, 255; blue, 255 }  ,draw opacity=1 ][line width=1.5]    (101,102.06) -- (101,40.06) ;\n",
    "\\draw [shift={(101,36.06)}, rotate = 90] [fill={rgb, 255:red, 255; green, 255; blue, 255 }  ,fill opacity=1 ][line width=0.08]  [draw opacity=0] (11.61,-5.58) -- (0,0) -- (11.61,5.58) -- cycle    ;\n",
    "\\draw [shift={(101,106.06)}, rotate = 270] [fill={rgb, 255:red, 255; green, 255; blue, 255 }  ,fill opacity=1 ][line width=0.08]  [draw opacity=0] (11.61,-5.58) -- (0,0) -- (11.61,5.58) -- cycle    ;\n",
    "%Shape: Ellipse [id:dp21984344557821944] \n",
    "\\draw  [color={rgb, 255:red, 255; green, 255; blue, 255 }  ,draw opacity=1 ][line width=0.75]  (188,70.06) .. controls (188,50.73) and (194.27,35.06) .. (202,35.06) .. controls (209.73,35.06) and (216,50.73) .. (216,70.06) .. controls (216,89.39) and (209.73,105.06) .. (202,105.06) .. controls (194.27,105.06) and (188,89.39) .. (188,70.06) -- cycle ;\n",
    "%Shape: Circle [id:dp54831823072177] \n",
    "\\draw  [color={rgb, 255:red, 255; green, 255; blue, 255 }  ,draw opacity=1 ][line width=0.75]  (167,70.06) .. controls (167,50.73) and (182.67,35.06) .. (202,35.06) .. controls (221.33,35.06) and (237,50.73) .. (237,70.06) .. controls (237,89.39) and (221.33,105.06) .. (202,105.06) .. controls (182.67,105.06) and (167,89.39) .. (167,70.06) -- cycle ;\n",
    "%Shape: Ellipse [id:dp19734961102385795] \n",
    "\\draw  [color={rgb, 255:red, 255; green, 255; blue, 255 }  ,draw opacity=1 ][line width=0.75]  (202,56.06) .. controls (221.33,56.06) and (237,62.32) .. (237,70.06) .. controls (237,77.79) and (221.33,84.06) .. (202,84.06) .. controls (182.67,84.06) and (167,77.79) .. (167,70.06) .. controls (167,62.32) and (182.67,56.06) .. (202,56.06) -- cycle ;\n",
    "%Straight Lines [id:da5462028174124043] \n",
    "\\draw [color={rgb, 255:red, 255; green, 255; blue, 255 }  ,draw opacity=1 ][line width=1.5]    (209.43,61.88) -- (191.77,80.23) ;\n",
    "\\draw [shift={(189,83.11)}, rotate = 313.9] [fill={rgb, 255:red, 255; green, 255; blue, 255 }  ,fill opacity=1 ][line width=0.08]  [draw opacity=0] (11.61,-5.58) -- (0,0) -- (11.61,5.58) -- cycle    ;\n",
    "\\draw [shift={(212.2,59)}, rotate = 133.9] [fill={rgb, 255:red, 255; green, 255; blue, 255 }  ,fill opacity=1 ][line width=0.08]  [draw opacity=0] (11.61,-5.58) -- (0,0) -- (11.61,5.58) -- cycle    ;\n",
    "%Curve Lines [id:da5059524634861983] \n",
    "\\draw [color={rgb, 255:red, 255; green, 255; blue, 255 }  ,draw opacity=1 ][line width=1.5]    (183,31.11) .. controls (169.05,35.76) and (161.15,49.06) .. (161.73,66.18) ;\n",
    "\\draw [shift={(162,70.11)}, rotate = 263.99] [fill={rgb, 255:red, 255; green, 255; blue, 255 }  ,fill opacity=1 ][line width=0.08]  [draw opacity=0] (11.61,-5.58) -- (0,0) -- (11.61,5.58) -- cycle    ;\n",
    "\n",
    "% Text Node\n",
    "\\draw (88,7) node [anchor=north west][inner sep=0.75pt]  [color={rgb, 255:red, 255; green, 255; blue, 255 }  ,opacity=1 ]  {$|0\\rangle $};\n",
    "% Text Node\n",
    "\\draw (90,110) node [anchor=north west][inner sep=0.75pt]  [color={rgb, 255:red, 255; green, 255; blue, 255 }  ,opacity=1 ]  {$|1\\rangle $};\n",
    "% Text Node\n",
    "\\draw (224,20) node [anchor=north west][inner sep=0.75pt]  [color={rgb, 255:red, 255; green, 255; blue, 255 }  ,opacity=1 ]  {$|1\\rangle $};\n",
    "% Text Node\n",
    "\\draw (161,94) node [anchor=north west][inner sep=0.75pt]  [color={rgb, 255:red, 255; green, 255; blue, 255 }  ,opacity=1 ]  {$|0\\rangle $};\n",
    "\n",
    "\n",
    "\\end{tikzpicture}\n",
    "\n",
    "\\caption{Rotating the sphere}\n",
    "\\end{board}\n",
    "\\end{figure}\n"
   ]
  },
  {
   "cell_type": "markdown",
   "id": "5adcf518-d5d8-4f36-aca0-a685563641ba",
   "metadata": {},
   "source": [
    "Practically, this is an observable that we specify by a rotation of the overall sphere. The points that end up at the poles of the rotated sphere become the measurement we obtain from looking at the qubit.\n",
    "\n",
    "Mitiq provides an API to specify an observable. It takes a list of `PauliStrings`. These denote the rotations of the Bloch Sphere. In the Mitiq example, we have two qubits. The first `PauliString` applies Z-gates on both qubits (flipping around the Z-axis). The second `PauliString` applies a rotation around the X-axis on the first qubit by -1.75 (that is a little more than half the circle that would equal $\\pi$ (around 3.14).\n",
    "\n",
    "When we look at the observable, we can see that it outputs the compound rotation."
   ]
  },
  {
   "cell_type": "code",
   "execution_count": 28,
   "id": "5e44d252-54cc-4864-b5fd-171f64a481df",
   "metadata": {},
   "outputs": [
    {
     "name": "stdout",
     "output_type": "stream",
     "text": [
      "Z(0)*Z(1) + (-1.75+0j)*X(0)\n"
     ]
    }
   ],
   "source": [
    "from mitiq import Observable, PauliString\n",
    "\n",
    "obs = Observable(PauliString(\"ZZ\"), PauliString(\"X\", coeff=-1.75))\n",
    "print(obs)"
   ]
  },
  {
   "cell_type": "markdown",
   "id": "7a25019f-a40c-46dc-b471-86306b1cf67b",
   "metadata": {},
   "source": [
    "So, with the observable at our disposal, let's return to the executor.\n",
    "\n",
    "## Define An Executor - Revisited\n",
    "\n",
    "The execute_with_noise_and_shots function requires the observable as a NumPy array. We get this representation by calling the `matrix` function of the observable object.\n",
    "\n",
    "Next, we need to specify a noise_model. The noise_model tells the simulator what kind of noise to add to the simulation.\n",
    "\n",
    "Qiskit provides the noise package to create a custom noise_model. We use it to add errors on single-qubit and two-qubit gates with a certain probability. This means that whenever we apply a gate of a specific kind, we will end up with a destroyed qubit state with the specified probability."
   ]
  },
  {
   "cell_type": "code",
   "execution_count": 29,
   "id": "cf89177e-b614-47bd-b52a-18f36d3c81dd",
   "metadata": {},
   "outputs": [],
   "source": [
    "# 2. Define an executor\n",
    "from mitiq.interface.mitiq_qiskit import qiskit_utils\n",
    "from qiskit import QuantumCircuit, execute, Aer\n",
    "import qiskit.providers.aer.noise as noise\n",
    "\n",
    "# Error probabilities\n",
    "prob_1 = 0.005  # 1-qubit gate\n",
    "prob_2 = 0.01   # 2-qubit gate\n",
    "\n",
    "# Depolarizing quantum errors\n",
    "error_1 = noise.depolarizing_error(prob_1, 1)\n",
    "error_2 = noise.depolarizing_error(prob_2, 2)\n",
    "\n",
    "# Add errors to noise model\n",
    "noise_model = noise.NoiseModel()\n",
    "noise_model.add_all_qubit_quantum_error(error_1, ['u1', 'u2', 'u3'])\n",
    "noise_model.add_all_qubit_quantum_error(error_2, ['cx'])\n",
    "\n",
    "def sim_noise(qc):\n",
    "    return qiskit_utils.execute_with_shots_and_noise(qc, obs.matrix(), noise_model, 4096)\n"
   ]
  },
  {
   "cell_type": "markdown",
   "id": "0ecb4270-600a-4d7f-a62b-804c4577d4af",
   "metadata": {},
   "source": [
    "Finally, we need to specify the number of shots we want to run the circuit. Anything beyond 1000 shots should work fine.\n",
    "\n",
    "## (Near-Clifford) Simulator\n",
    "\n",
    "The final component is a noise-free simulator. It is almost similar to the executor. The only difference is that it should not have any noise. We can simply use the `execute_with_shots` function."
   ]
  },
  {
   "cell_type": "code",
   "execution_count": 30,
   "id": "d992e3e8-cce7-4772-8e53-1cfb24590814",
   "metadata": {},
   "outputs": [],
   "source": [
    "def sim(qc):\n",
    "    return qiskit_utils.execute_with_shots(qc, obs.matrix(), 4096)\n"
   ]
  },
  {
   "cell_type": "markdown",
   "id": "065f3c07-b757-4c7f-bd36-1ef1ed69dda8",
   "metadata": {},
   "source": [
    "## Run CDR\n",
    "\n",
    "We're ready to run the CDR. We can use the rest of the example code as it is. We only need to plug in the functions we created.\n",
    "\n",
    "We first compute the noiseless result."
   ]
  },
  {
   "cell_type": "code",
   "execution_count": 32,
   "id": "1440fb82-3aef-4498-a0cf-514999d6575e",
   "metadata": {},
   "outputs": [
    {
     "name": "stdout",
     "output_type": "stream",
     "text": [
      "ideal_measurement =  0.9644790763345432\n"
     ]
    }
   ],
   "source": [
    "ideal_measurement = obs.expectation(get_circuit(), sim).real\n",
    "print(\"ideal_measurement = \",ideal_measurement)"
   ]
  },
  {
   "cell_type": "markdown",
   "id": "02387ef7-35dd-401c-9a64-20b797fb69aa",
   "metadata": {},
   "source": [
    "Then, we compute the unmitigated noisy result.\n"
   ]
  },
  {
   "cell_type": "code",
   "execution_count": 33,
   "id": "6f9dab04-c7a5-465a-b8fd-b7acaf6d641f",
   "metadata": {},
   "outputs": [
    {
     "name": "stdout",
     "output_type": "stream",
     "text": [
      "unmitigated_measurement =  0.8060289423652968\n"
     ]
    }
   ],
   "source": [
    "unmitigated_measurement = obs.expectation(get_circuit(), sim_noise).real\n",
    "print(\"unmitigated_measurement = \", unmitigated_measurement)"
   ]
  },
  {
   "cell_type": "markdown",
   "id": "d3c3b7c8-7700-414b-8f76-6a3730ddf6ca",
   "metadata": {},
   "source": [
    "Next, we calculate the mitigated result from CDR."
   ]
  },
  {
   "cell_type": "code",
   "execution_count": 34,
   "id": "477974da-78d1-4d15-897f-707d7d8ae3aa",
   "metadata": {},
   "outputs": [
    {
     "name": "stdout",
     "output_type": "stream",
     "text": [
      "mitigated_measurement =  1.0128416969298948\n"
     ]
    }
   ],
   "source": [
    "from mitiq import cdr\n",
    "\n",
    "mitigated_measurement = cdr.execute_with_cdr(\n",
    "    get_circuit(),\n",
    "    sim_noise,\n",
    "    observable=obs.matrix(),\n",
    "    simulator=sim,\n",
    "    seed=0,\n",
    ").real\n",
    "print(\"mitigated_measurement = \", mitigated_measurement)"
   ]
  },
  {
   "cell_type": "markdown",
   "id": "42db752c-9162-483b-b952-697b3cfbee4a",
   "metadata": {},
   "source": [
    "Finally, we compare the results."
   ]
  },
  {
   "cell_type": "code",
   "execution_count": 35,
   "id": "872fd66e-a001-4616-b51a-8324d95dd6f9",
   "metadata": {},
   "outputs": [
    {
     "name": "stdout",
     "output_type": "stream",
     "text": [
      "Error (unmitigated): 0.15845013396924645\n",
      "Error (mitigated with CDR): 0.04836262059535157\n",
      "Relative error (unmitigated): 0.16428571428571437\n",
      "Relative error (mitigated with CDR): 0.05014377375520826\n",
      "Error reduction with CDR: 69.5%.\n"
     ]
    }
   ],
   "source": [
    "error_unmitigated = abs(unmitigated_measurement-ideal_measurement)\n",
    "error_mitigated = abs(mitigated_measurement-ideal_measurement)\n",
    "\n",
    "print(\"Error (unmitigated):\", error_unmitigated)\n",
    "print(\"Error (mitigated with CDR):\", error_mitigated)\n",
    "\n",
    "print(\"Relative error (unmitigated):\", (error_unmitigated/ideal_measurement))\n",
    "print(\"Relative error (mitigated with CDR):\", error_mitigated/ideal_measurement)\n",
    "\n",
    "print(f\"Error reduction with CDR: {(error_unmitigated-error_mitigated)/error_unmitigated :.1%}.\")"
   ]
  },
  {
   "cell_type": "markdown",
   "id": "9f08e7f1-4151-48b0-817e-af9bcd28713f",
   "metadata": {},
   "source": [
    "A look at the results shows that CDR mitigates almost 90% of the errors that result from the noise.\n",
    "\n",
    "Mitiq helped us to use CDR almost out of the box. We did not have to bother with the implementation of it at all. However, preparing the code to work with the API is a little bit tricky because the example seems to be outdated."
   ]
  },
  {
   "cell_type": "code",
   "execution_count": null,
   "id": "b302b235-4310-438c-9ed2-4fdc396a8062",
   "metadata": {},
   "outputs": [],
   "source": []
  }
 ],
 "metadata": {
  "kernelspec": {
   "display_name": "Python 3 (ipykernel)",
   "language": "python",
   "name": "python3"
  },
  "language_info": {
   "codemirror_mode": {
    "name": "ipython",
    "version": 3
   },
   "file_extension": ".py",
   "mimetype": "text/x-python",
   "name": "python",
   "nbconvert_exporter": "python",
   "pygments_lexer": "ipython3",
   "version": "3.9.2"
  }
 },
 "nbformat": 4,
 "nbformat_minor": 5
}
