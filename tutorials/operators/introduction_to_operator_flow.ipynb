{
  "cells": [
    {
      "cell_type": "markdown",
      "metadata": {
        "id": "wMjVnFNLOSYW"
      },
      "source": [
        "# Operator Flow"
      ]
    },
    {
      "cell_type": "markdown",
      "metadata": {
        "id": "EbiOJ80lOSYd"
      },
      "source": [
        "## Introduction\n",
        "\n",
        "Qiskit provides classes representing states and operators and sums, tensor products, and compositions thereof. These algebraic constructs allow us to build expressions representing operators.\n",
        "\n",
        "We introduce expressions by building them from Pauli operators. In subsequent sections we explore in more detail operators and states, how they are represented, and what we can do with them. In the last section we construct a state, evolve it with a Hamiltonian, and compute expectation values of an observable.\n",
        "\n",
        "### Pauli operators, sums, compositions, and tensor products\n",
        "\n",
        "The most important base operators are the Pauli operators.\n",
        "The Pauli operators are represented like this.\n"
      ]
    },
    {
      "cell_type": "code",
      "execution_count": null,
      "metadata": {
        "id": "w9cTa01QOSYe",
        "outputId": "e6ca8545-5600-453f-84bb-2b810be9954f"
      },
      "outputs": [
        {
          "name": "stdout",
          "output_type": "stream",
          "text": [
            "I X Y Z\n"
          ]
        }
      ],
      "source": [
        "from qiskit.opflow import I, X, Y, Z\n",
        "print(I, X, Y, Z)"
      ]
    },
    {
      "cell_type": "markdown",
      "metadata": {
        "id": "CGklo8btOSYh"
      },
      "source": [
        "These operators may also carry a coefficient."
      ]
    },
    {
      "cell_type": "code",
      "execution_count": null,
      "metadata": {
        "id": "bVpLL7wOOSYi",
        "outputId": "3e25ced7-970e-423d-c021-a6d33ed21456"
      },
      "outputs": [
        {
          "name": "stdout",
          "output_type": "stream",
          "text": [
            "1.5 * I\n",
            "2.5 * X\n"
          ]
        }
      ],
      "source": [
        "print(1.5 * I)\n",
        "print(2.5 * X)"
      ]
    },
    {
      "cell_type": "markdown",
      "metadata": {
        "id": "RHmbjplROSYi"
      },
      "source": [
        "These coefficients allow the operators to be used as terms in a sum."
      ]
    },
    {
      "cell_type": "code",
      "execution_count": null,
      "metadata": {
        "id": "y_KP7C3ZOSYj",
        "outputId": "8d408122-021e-4061-b195-4305d8003cea"
      },
      "outputs": [
        {
          "name": "stdout",
          "output_type": "stream",
          "text": [
            "1.0 * X\n",
            "+ 2.0 * Y\n"
          ]
        }
      ],
      "source": [
        "print(X + 2.0 * Y)"
      ]
    },
    {
      "cell_type": "markdown",
      "metadata": {
        "id": "ba7hcIySOSYk"
      },
      "source": [
        "Tensor products are denoted with a caret, like this."
      ]
    },
    {
      "cell_type": "code",
      "execution_count": null,
      "metadata": {
        "id": "Zw53A1gxOSYl",
        "outputId": "188dd38d-41c2-447b-a090-670f4ee32927"
      },
      "outputs": [
        {
          "name": "stdout",
          "output_type": "stream",
          "text": [
            "XYZ\n"
          ]
        }
      ],
      "source": [
        "print(X^Y^Z)"
      ]
    },
    {
      "cell_type": "markdown",
      "metadata": {
        "id": "rsxHU73wOSYm"
      },
      "source": [
        "Composition is denoted by the `@` symbol."
      ]
    },
    {
      "cell_type": "code",
      "execution_count": null,
      "metadata": {
        "id": "pSN8lSriOSYn",
        "outputId": "a87517a0-15fa-43b4-cffa-80e483897262"
      },
      "outputs": [
        {
          "name": "stdout",
          "output_type": "stream",
          "text": [
            "iI\n"
          ]
        }
      ],
      "source": [
        "print(X @ Y @ Z)"
      ]
    },
    {
      "cell_type": "markdown",
      "metadata": {
        "id": "ndFkujJlOSYp"
      },
      "source": [
        "In the preceding two examples, the tensor product and composition of Pauli operators were immediately reduced to the equivalent (possibly multi-qubit) Pauli operator. If we tensor or compose more complicated objects, the result is objects representing the unevaluated operations. That is, algebraic expressions."
      ]
    },
    {
      "cell_type": "markdown",
      "metadata": {
        "id": "eNI5EEAkOSYp"
      },
      "source": [
        "For example, composing two sums gives"
      ]
    },
    {
      "cell_type": "code",
      "execution_count": null,
      "metadata": {
        "id": "1VsRccLKOSYq",
        "outputId": "7424e8c1-6a76-47c5-aa8c-cedf4a6342a9"
      },
      "outputs": [
        {
          "name": "stdout",
          "output_type": "stream",
          "text": [
            "1j * Z\n",
            "+ -1j * Y\n",
            "+ 1.0 * I\n",
            "+ 1j * X\n"
          ]
        }
      ],
      "source": [
        "print((X + Y) @ (Y + Z))"
      ]
    },
    {
      "cell_type": "markdown",
      "metadata": {
        "id": "yXtduM9YOSYq"
      },
      "source": [
        "And tensoring two sums gives"
      ]
    },
    {
      "cell_type": "code",
      "execution_count": null,
      "metadata": {
        "scrolled": true,
        "id": "hCvKVjhqOSYq",
        "outputId": "156955be-c621-4b38-ef1b-0941c62cca2a"
      },
      "outputs": [
        {
          "name": "stdout",
          "output_type": "stream",
          "text": [
            "1.0 * XY\n",
            "+ 1.0 * XZ\n",
            "+ 1.0 * YY\n",
            "+ 1.0 * YZ\n"
          ]
        }
      ],
      "source": [
        "print((X + Y) ^ (Y + Z))"
      ]
    },
    {
      "cell_type": "markdown",
      "metadata": {
        "id": "MI3WJeEkOSYr"
      },
      "source": [
        "Let's take a closer look at the types introduced above. First the Pauli operators."
      ]
    },
    {
      "cell_type": "code",
      "execution_count": null,
      "metadata": {
        "id": "Ay44ZX7hOSYr",
        "outputId": "68fa5311-6642-47d1-bab9-85111ec26b27"
      },
      "outputs": [
        {
          "data": {
            "text/plain": [
              "(PauliOp(Pauli('I'), coeff=1.0), PauliOp(Pauli('X'), coeff=1.0))"
            ]
          },
          "execution_count": 8,
          "metadata": {},
          "output_type": "execute_result"
        }
      ],
      "source": [
        "(I, X)"
      ]
    },
    {
      "cell_type": "markdown",
      "metadata": {
        "id": "rZmAT_TVOSYr"
      },
      "source": [
        "Each Pauli operator is an instance of `PauliOp`, which wraps an instance of `qiskit.quantum_info.Pauli`, and adds a coefficient `coeff`. In general, a `PauliOp` represents a weighted tensor product of Pauli operators."
      ]
    },
    {
      "cell_type": "code",
      "execution_count": null,
      "metadata": {
        "id": "073Cw4S6OSYs",
        "outputId": "ddc73c8c-50ba-49ca-abf1-322eeb674141"
      },
      "outputs": [
        {
          "data": {
            "text/plain": [
              "PauliOp(Pauli('XYZ'), coeff=2.0)"
            ]
          },
          "execution_count": 9,
          "metadata": {},
          "output_type": "execute_result"
        }
      ],
      "source": [
        "2.0 * X^Y^Z"
      ]
    },
    {
      "cell_type": "markdown",
      "metadata": {
        "id": "N9p666POOSYs"
      },
      "source": [
        "For the encoding of the Pauli operators as pairs of Boolean values, see the documentation for `qiskit.quantum_info.Pauli`.\n",
        "\n",
        "All of the objects representing operators, whether as \"primitive\"s such as `PauliOp`, or algebraic expressions carry a coefficient"
      ]
    },
    {
      "cell_type": "code",
      "execution_count": null,
      "metadata": {
        "id": "JYfLLozUOSYt",
        "outputId": "d231906e-001d-4259-ae6b-2a5a60aa60b6"
      },
      "outputs": [
        {
          "name": "stdout",
          "output_type": "stream",
          "text": [
            "1.2 * (\n",
            "  1.1 * XY\n",
            "  + 1.4300000000000002 * XZ\n",
            ")\n"
          ]
        }
      ],
      "source": [
        "print(1.1 * ((1.2 * X)^(Y + (1.3 * Z))))"
      ]
    },
    {
      "cell_type": "markdown",
      "metadata": {
        "id": "gx9yUkOxOSYt"
      },
      "source": [
        "In the following we take a broader and deeper look at Qiskit's operators, states, and the building blocks of quantum algorithms."
      ]
    },
    {
      "cell_type": "markdown",
      "metadata": {
        "id": "bDpipKYfOSYt"
      },
      "source": [
        "\n",
        "## Part I: State Functions and Measurements\n",
        "\n",
        "Quantum states are represented by subclasses of the class `StateFn`. There are four representations of quantum states: `DictStateFn` is a sparse representation in the computational basis, backed by a `dict`. `VectorStateFn` is a dense representation in the computational basis backed by a numpy array. `CircuitStateFn` is backed by a circuit and represents the state obtained by executing the circuit on the all-zero computational-basis state. `OperatorStateFn` represents mixed states via a density matrix. (As we will see later, `OperatorStateFn` is also used to represent observables.)\n",
        "\n",
        "Several `StateFn` instances are provided for convenience. For example `Zero, One, Plus, Minus`."
      ]
    },
    {
      "cell_type": "code",
      "execution_count": null,
      "metadata": {
        "id": "7UlQa81YOSYu"
      },
      "outputs": [],
      "source": [
        "from qiskit.opflow import (StateFn, Zero, One, Plus, Minus, H,\n",
        "                           DictStateFn, VectorStateFn, CircuitStateFn, OperatorStateFn)"
      ]
    },
    {
      "cell_type": "markdown",
      "metadata": {
        "id": "LDljff-vOSYu"
      },
      "source": [
        "`Zero` and `One` represent the quantum states $|0\\rangle$ and $|1\\rangle$. They are represented via `DictStateFn`."
      ]
    },
    {
      "cell_type": "code",
      "execution_count": null,
      "metadata": {
        "id": "57lfBmR1OSYu",
        "outputId": "29aee5fe-eadf-4be5-8241-5e1f630a7968"
      },
      "outputs": [
        {
          "name": "stdout",
          "output_type": "stream",
          "text": [
            "DictStateFn({'0': 1}) DictStateFn({'1': 1})\n"
          ]
        }
      ],
      "source": [
        "print(Zero, One)"
      ]
    },
    {
      "cell_type": "markdown",
      "metadata": {
        "id": "T6JeHzQyOSYu"
      },
      "source": [
        "`Plus` and `Minus`, representing states $(|0\\rangle + |1\\rangle)/\\sqrt{2}$ and $(|0\\rangle - |1\\rangle)/\\sqrt{2}$ are represented via circuits. `H` is a synonym for `Plus`."
      ]
    },
    {
      "cell_type": "code",
      "execution_count": null,
      "metadata": {
        "id": "YHXW8O64OSYv",
        "outputId": "436c47aa-6c08-4353-c1a6-1dc6ea4d448d"
      },
      "outputs": [
        {
          "name": "stdout",
          "output_type": "stream",
          "text": [
            "CircuitStateFn(\n",
            "   ┌───┐\n",
            "q: ┤ H ├\n",
            "   └───┘\n",
            ") CircuitStateFn(\n",
            "   ┌───┐┌───┐\n",
            "q: ┤ X ├┤ H ├\n",
            "   └───┘└───┘\n",
            ")\n"
          ]
        }
      ],
      "source": [
        "print(Plus, Minus)"
      ]
    },
    {
      "cell_type": "markdown",
      "metadata": {
        "id": "QcNHTbADOSYv"
      },
      "source": [
        "Indexing into quantum states is done with the `eval` method. These examples return the coefficients of the `0` and `1` basis states. (Below, we will see that the `eval` method is used for other computations, as well.)"
      ]
    },
    {
      "cell_type": "code",
      "execution_count": null,
      "metadata": {
        "id": "a45NNudOOSYv",
        "outputId": "487183a0-adb4-45fa-fb12-d3c2a6d8374a"
      },
      "outputs": [
        {
          "name": "stdout",
          "output_type": "stream",
          "text": [
            "1.0\n",
            "0.0\n",
            "1.0\n",
            "(0.7071067811865475+0j)\n",
            "(-0.7071067811865475+8.7e-17j)\n"
          ]
        }
      ],
      "source": [
        "print(Zero.eval('0'))\n",
        "print(Zero.eval('1'))\n",
        "print(One.eval('1'))\n",
        "print(Plus.eval('0'))\n",
        "print(Minus.eval('1'))"
      ]
    },
    {
      "cell_type": "markdown",
      "metadata": {
        "id": "Smx0QhGPOSYw"
      },
      "source": [
        "The dual vector of a quantum state, that is the *bra* corresponding to a *ket* is obtained via the `adjoint` method. The `StateFn` carries a flag `is_measurement`, which is `False` if the object is a ket and `True` if it is a bra."
      ]
    },
    {
      "cell_type": "markdown",
      "metadata": {
        "id": "zzvzEGrQOSYw"
      },
      "source": [
        "Here, we construct $\\langle 1 |$."
      ]
    },
    {
      "cell_type": "code",
      "execution_count": null,
      "metadata": {
        "id": "ZkmII_R9OSYw",
        "outputId": "f9716078-b6e6-4d7d-8740-5a5c2854b3b6"
      },
      "outputs": [
        {
          "data": {
            "text/plain": [
              "DictStateFn({'1': 1}, coeff=1.0, is_measurement=True)"
            ]
          },
          "execution_count": 15,
          "metadata": {},
          "output_type": "execute_result"
        }
      ],
      "source": [
        "One.adjoint()"
      ]
    },
    {
      "cell_type": "markdown",
      "metadata": {
        "id": "D9fx-mo_OSYw"
      },
      "source": [
        "For convenience, one may obtain the dual vector with a tilde, like this"
      ]
    },
    {
      "cell_type": "code",
      "execution_count": null,
      "metadata": {
        "id": "agsuGePmOSYx",
        "outputId": "01ee2589-e104-4941-f0c0-a71197f526aa"
      },
      "outputs": [
        {
          "data": {
            "text/plain": [
              "DictStateFn({'1': 1}, coeff=1.0, is_measurement=True)"
            ]
          },
          "execution_count": 16,
          "metadata": {},
          "output_type": "execute_result"
        }
      ],
      "source": [
        "~One"
      ]
    },
    {
      "cell_type": "markdown",
      "metadata": {
        "id": "kbS204TNOSYx"
      },
      "source": [
        "### Algebraic operations and predicates\n",
        "\n",
        "Many algebraic operations and predicates between `StateFn`s are supported, including:\n",
        "\n",
        "* `+` - addition\n",
        "* `-` - subtraction, negation (scalar multiplication by -1)\n",
        "* `*` - scalar multiplication\n",
        "* `/` - scalar division\n",
        "* `@` - composition\n",
        "* `^` - tensor product or tensor power (tensor with self n times)\n",
        "* `**` - composition power (compose with self n times)\n",
        "* `==` - equality\n",
        "* `~` - adjoint, alternating between a State Function and Measurement\n",
        "\n",
        "Be very aware that these operators obey the [Python rules for operator precedence](https://docs.python.org/3/reference/expressions.html#operator-precedence), which might not be what you expect mathematically.  For example, `I^X + X^I` will actually be parsed as `I ^ (X + X) ^ I == 2 * (I^X^I)` because Python evaluates `+` before `^`.  In these cases, you can use the methods (`.tensor()`, etc) or parentheses."
      ]
    },
    {
      "cell_type": "markdown",
      "metadata": {
        "id": "unrBJ7EAOSYx"
      },
      "source": [
        "`StateFn`s carry a coefficient. This allows us to multiply states by a scalar, and so to construct sums."
      ]
    },
    {
      "cell_type": "markdown",
      "metadata": {
        "id": "sslOD8_LOSYy"
      },
      "source": [
        "Here, we construct $(2 + 3i)|0\\rangle$."
      ]
    },
    {
      "cell_type": "code",
      "execution_count": null,
      "metadata": {
        "id": "FUeQcbUXOSYy",
        "outputId": "ee2ad49a-f4c1-43fb-f7c0-17c98f32b63c"
      },
      "outputs": [
        {
          "data": {
            "text/plain": [
              "DictStateFn({'0': 1}, coeff=(2+3j), is_measurement=False)"
            ]
          },
          "execution_count": 17,
          "metadata": {},
          "output_type": "execute_result"
        }
      ],
      "source": [
        "(2.0 + 3.0j) * Zero"
      ]
    },
    {
      "cell_type": "markdown",
      "metadata": {
        "id": "_91gXw6FOSYy"
      },
      "source": [
        "Here, we see that adding two `DictStateFn`s returns an object of the same type. We construct $|0\\rangle + |1\\rangle$."
      ]
    },
    {
      "cell_type": "code",
      "execution_count": null,
      "metadata": {
        "id": "w5Ko-1DEOSYy",
        "outputId": "a82a4e34-c415-41b9-ca9d-5104ec0f00df"
      },
      "outputs": [
        {
          "name": "stdout",
          "output_type": "stream",
          "text": [
            "DictStateFn({'0': 1.0, '1': 1.0})\n"
          ]
        }
      ],
      "source": [
        "print(Zero + One)"
      ]
    },
    {
      "cell_type": "markdown",
      "metadata": {
        "id": "HmH-ap9sOSYy"
      },
      "source": [
        "Note that you must normalize states by hand. For example, to construct $(|0\\rangle + |1\\rangle)/\\sqrt{2}$, we write"
      ]
    },
    {
      "cell_type": "code",
      "execution_count": null,
      "metadata": {
        "id": "irClnDkSOSYy",
        "outputId": "49910ee5-e178-450b-c139-84a0ce864489"
      },
      "outputs": [
        {
          "name": "stdout",
          "output_type": "stream",
          "text": [
            "DictStateFn({'0': 1.0, '1': 1.0}) * 0.7071067811865475\n"
          ]
        }
      ],
      "source": [
        "import math\n",
        "\n",
        "v_zero_one = (Zero + One) / math.sqrt(2)\n",
        "print(v_zero_one)"
      ]
    },
    {
      "cell_type": "markdown",
      "metadata": {
        "id": "-PyCQ1EWOSYz"
      },
      "source": [
        "In other cases, the result is a symbolic representation of a sum. For example, here is a representation of $|+\\rangle + |-\\rangle$."
      ]
    },
    {
      "cell_type": "code",
      "execution_count": null,
      "metadata": {
        "id": "i0-hzkphOSYz",
        "outputId": "0a19c8a4-be8e-40dd-f1fc-2aee14ed8a91"
      },
      "outputs": [
        {
          "name": "stdout",
          "output_type": "stream",
          "text": [
            "SummedOp([\n",
            "  CircuitStateFn(\n",
            "     ┌───┐\n",
            "  q: ┤ H ├\n",
            "     └───┘\n",
            "  ),\n",
            "  CircuitStateFn(\n",
            "     ┌───┐┌───┐\n",
            "  q: ┤ X ├┤ H ├\n",
            "     └───┘└───┘\n",
            "  )\n",
            "])\n"
          ]
        }
      ],
      "source": [
        "print(Plus + Minus)"
      ]
    },
    {
      "cell_type": "markdown",
      "metadata": {
        "id": "TrFRgx6lOSYz"
      },
      "source": [
        "The composition operator is used to perform an inner product, which by default is held in an unevaluated form. Here is a representation of $\\langle 1 | 1 \\rangle$."
      ]
    },
    {
      "cell_type": "code",
      "execution_count": null,
      "metadata": {
        "id": "H04pmrOvOSYz",
        "outputId": "8c49dd76-db22-49be-f673-e7de9c9c3ee4"
      },
      "outputs": [
        {
          "name": "stdout",
          "output_type": "stream",
          "text": [
            "ComposedOp([\n",
            "  DictMeasurement({'1': 1}),\n",
            "  DictStateFn({'1': 1})\n",
            "])\n"
          ]
        }
      ],
      "source": [
        "print(~One @ One)"
      ]
    },
    {
      "cell_type": "markdown",
      "metadata": {
        "id": "2OUqgtcOOSYz"
      },
      "source": [
        "Note that the `is_measurement` flag causes the (bra) state `~One` to be printed `DictMeasurement`."
      ]
    },
    {
      "cell_type": "markdown",
      "metadata": {
        "id": "PVj4y-HNOSYz"
      },
      "source": [
        "Symbolic expressions may be evaluated with the `eval` method."
      ]
    },
    {
      "cell_type": "code",
      "execution_count": null,
      "metadata": {
        "id": "xu7YKN0ROSY0",
        "outputId": "68d1539e-7fcd-4f0c-f606-56765be8645d"
      },
      "outputs": [
        {
          "data": {
            "text/plain": [
              "1.0"
            ]
          },
          "execution_count": 22,
          "metadata": {},
          "output_type": "execute_result"
        }
      ],
      "source": [
        "(~One @ One).eval()"
      ]
    },
    {
      "cell_type": "code",
      "execution_count": null,
      "metadata": {
        "id": "-f1a1r42OSY0",
        "outputId": "531ae6c2-004d-48a8-96f8-a7434ca12072"
      },
      "outputs": [
        {
          "data": {
            "text/plain": [
              "0.9999999999999998"
            ]
          },
          "execution_count": 23,
          "metadata": {},
          "output_type": "execute_result"
        }
      ],
      "source": [
        "(~v_zero_one @ v_zero_one).eval()"
      ]
    },
    {
      "cell_type": "markdown",
      "metadata": {
        "id": "pYxCsIofOSY0"
      },
      "source": [
        "Here is $\\langle - | 1 \\rangle = \\langle (\\langle 0| - \\langle 1|)/\\sqrt{2} | 1\\rangle$."
      ]
    },
    {
      "cell_type": "code",
      "execution_count": null,
      "metadata": {
        "id": "ZUykgDA8OSY0",
        "outputId": "21efa87c-d7ea-49a6-ea83-f776d5852026"
      },
      "outputs": [
        {
          "data": {
            "text/plain": [
              "(-0.7071067811865475-8.7e-17j)"
            ]
          },
          "execution_count": 24,
          "metadata": {},
          "output_type": "execute_result"
        }
      ],
      "source": [
        "(~Minus @ One).eval()"
      ]
    },
    {
      "cell_type": "markdown",
      "metadata": {
        "id": "FqFEtukhOSY0"
      },
      "source": [
        "The composition operator `@` is equivalent to calling the `compose` method."
      ]
    },
    {
      "cell_type": "code",
      "execution_count": null,
      "metadata": {
        "id": "xzQA2L8EOSY1",
        "outputId": "aece18ac-a9c6-43ee-a9b1-28f2602cd43d"
      },
      "outputs": [
        {
          "name": "stdout",
          "output_type": "stream",
          "text": [
            "ComposedOp([\n",
            "  DictMeasurement({'1': 1}),\n",
            "  DictStateFn({'1': 1})\n",
            "])\n"
          ]
        }
      ],
      "source": [
        "print((~One).compose(One))"
      ]
    },
    {
      "cell_type": "markdown",
      "metadata": {
        "id": "X6QC5vHnOSY1"
      },
      "source": [
        "Inner products may also be computed using the `eval` method directly, without constructing a `ComposedOp`."
      ]
    },
    {
      "cell_type": "code",
      "execution_count": null,
      "metadata": {
        "id": "Sr6P8D5FOSY1",
        "outputId": "8d83612c-afe9-4227-f979-c4dd7f63e107"
      },
      "outputs": [
        {
          "data": {
            "text/plain": [
              "1.0"
            ]
          },
          "execution_count": 26,
          "metadata": {},
          "output_type": "execute_result"
        }
      ],
      "source": [
        "(~One).eval(One)"
      ]
    },
    {
      "cell_type": "markdown",
      "metadata": {
        "id": "ooW7ZQPHOSY2"
      },
      "source": [
        "Symbolic tensor products are constructed as follows. Here is $|0\\rangle \\otimes |+\\rangle$."
      ]
    },
    {
      "cell_type": "code",
      "execution_count": null,
      "metadata": {
        "id": "PBw1CHNiOSY2",
        "outputId": "98142f13-fef7-44a4-fcaa-56d92f44c8d5"
      },
      "outputs": [
        {
          "name": "stdout",
          "output_type": "stream",
          "text": [
            "TensoredOp([\n",
            "  DictStateFn({'0': 1}),\n",
            "  CircuitStateFn(\n",
            "     ┌───┐\n",
            "  q: ┤ H ├\n",
            "     └───┘\n",
            "  )\n",
            "])\n"
          ]
        }
      ],
      "source": [
        "print(Zero^Plus)"
      ]
    },
    {
      "cell_type": "markdown",
      "metadata": {
        "id": "exHYqkSrOSY3"
      },
      "source": [
        "This may be represented as a simple (not compound) `CircuitStateFn`."
      ]
    },
    {
      "cell_type": "code",
      "execution_count": null,
      "metadata": {
        "scrolled": false,
        "id": "wSnyU4yzOSY3",
        "outputId": "8df48766-dc07-4f79-cea9-32f8438754cd"
      },
      "outputs": [
        {
          "name": "stdout",
          "output_type": "stream",
          "text": [
            "CircuitStateFn(\n",
            "     ┌───┐\n",
            "q_0: ┤ H ├\n",
            "     └───┘\n",
            "q_1: ─────\n",
            "          \n",
            ")\n"
          ]
        }
      ],
      "source": [
        "print((Zero^Plus).to_circuit_op())"
      ]
    },
    {
      "cell_type": "markdown",
      "metadata": {
        "id": "kc3lIqZcOSY3"
      },
      "source": [
        "Tensor powers are constructed using the caret `^` as follows. Here are $600 (|11111\\rangle + |00000\\rangle)$, and $|10\\rangle^{\\otimes 3}$."
      ]
    },
    {
      "cell_type": "code",
      "execution_count": null,
      "metadata": {
        "id": "nu2RWZCkOSY3",
        "outputId": "00a1448b-5d45-4b90-9b48-e84cc10a6081"
      },
      "outputs": [
        {
          "name": "stdout",
          "output_type": "stream",
          "text": [
            "DictStateFn({'11111': 1.0, '00000': 1.0}) * 600.0\n",
            "DictStateFn({'101010': 1})\n"
          ]
        }
      ],
      "source": [
        "print(600 * ((One^5) + (Zero^5)))\n",
        "print((One^Zero)^3)"
      ]
    },
    {
      "cell_type": "markdown",
      "metadata": {
        "id": "Nqy2EWRVOSY4"
      },
      "source": [
        "The method `to_matrix_op` converts to `VectorStateFn`."
      ]
    },
    {
      "cell_type": "code",
      "execution_count": null,
      "metadata": {
        "id": "88RuFi1OOSY4",
        "outputId": "4a833b55-44c0-4bb2-e142-7ad6d0428efa"
      },
      "outputs": [
        {
          "name": "stdout",
          "output_type": "stream",
          "text": [
            "VectorStateFn(Statevector([ 0.25-6.1e-17j, -0.25+6.1e-17j,  0.25-6.1e-17j,\n",
            "             -0.25+6.1e-17j, -0.25+6.1e-17j,  0.25-6.1e-17j,\n",
            "             -0.25+6.1e-17j,  0.25-6.1e-17j,  0.25-6.1e-17j,\n",
            "             -0.25+6.1e-17j,  0.25-6.1e-17j, -0.25+6.1e-17j,\n",
            "             -0.25+6.1e-17j,  0.25-6.1e-17j, -0.25+6.1e-17j,\n",
            "              0.25-6.1e-17j],\n",
            "            dims=(2, 2, 2, 2)))\n",
            "CircuitStateFn(\n",
            "     ┌───┐\n",
            "q_0: ┤ X ├\n",
            "     ├───┤\n",
            "q_1: ┤ H ├\n",
            "     ├───┤\n",
            "q_2: ┤ X ├\n",
            "     ├───┤\n",
            "q_3: ┤ H ├\n",
            "     └───┘\n",
            ")\n",
            "{'1101': 0.2734375, '0111': 0.2509765625, '1111': 0.24609375, '0101': 0.2294921875}\n"
          ]
        }
      ],
      "source": [
        "print(((Plus^Minus)^2).to_matrix_op())\n",
        "print(((Plus^One)^2).to_circuit_op())\n",
        "print(((Plus^One)^2).to_matrix_op().sample())"
      ]
    },
    {
      "cell_type": "markdown",
      "metadata": {
        "id": "JmEDVbl8OSY4"
      },
      "source": [
        "Constructing a StateFn is easy. The `StateFn` class also serves as a factory, and can take any applicable primitive in its constructor and return the correct StateFn subclass. Currently the following primitives can be passed into the constructor, listed alongside the `StateFn` subclass they produce:\n",
        "\n",
        "* str (equal to some basis bitstring) -> DictStateFn\n",
        "* dict  -> DictStateFn\n",
        "* Qiskit Result object -> DictStateFn\n",
        "* list -> VectorStateFn\n",
        "* np.ndarray -> VectorStateFn\n",
        "* Statevector -> VectorStateFn\n",
        "* QuantumCircuit -> CircuitStateFn\n",
        "* Instruction -> CircuitStateFn\n",
        "* OperatorBase -> OperatorStateFn"
      ]
    },
    {
      "cell_type": "code",
      "execution_count": null,
      "metadata": {
        "id": "F4JAecKwOSY4",
        "outputId": "5afdf0df-cbea-4629-e625-d42151a0dd50"
      },
      "outputs": [
        {
          "name": "stdout",
          "output_type": "stream",
          "text": [
            "DictStateFn({'0': 1})\n",
            "True\n",
            "VectorStateFn(Statevector([0.+0.j, 1.+0.j, 1.+0.j, 0.+0.j],\n",
            "            dims=(2, 2)))\n",
            "CircuitStateFn(\n",
            "     ┌──────────────────────────────────────────────────────────┐\n",
            "q_0: ┤0                                                         ├\n",
            "     │  RealAmplitudes(θ[0],θ[1],θ[2],θ[3],θ[4],θ[5],θ[6],θ[7]) │\n",
            "q_1: ┤1                                                         ├\n",
            "     └──────────────────────────────────────────────────────────┘\n",
            ")\n"
          ]
        }
      ],
      "source": [
        "print(StateFn({'0':1}))\n",
        "print(StateFn({'0':1}) == Zero)\n",
        "\n",
        "print(StateFn([0,1,1,0]))\n",
        "\n",
        "from qiskit.circuit.library import RealAmplitudes\n",
        "print(StateFn(RealAmplitudes(2)))"
      ]
    },
    {
      "cell_type": "markdown",
      "metadata": {
        "id": "oU_qKrelOSY4"
      },
      "source": [
        "## Part II: `PrimitiveOp`s\n",
        "\n",
        "The basic Operators are subclasses of `PrimitiveOp`. Just like `StateFn`, `PrimitiveOp` is also a factory for creating the correct type of `PrimitiveOp` for a given primitive. Currently, the following primitives can be passed into the constructor, listed alongside the `PrimitiveOp` subclass they produce:\n",
        "\n",
        "* Terra's Pauli -> PauliOp\n",
        "* Instruction -> CircuitOp\n",
        "* QuantumCircuit -> CircuitOp\n",
        "* 2d List -> MatrixOp\n",
        "* np.ndarray -> MatrixOp\n",
        "* spmatrix -> MatrixOp\n",
        "* Terra's quantum_info.Operator -> MatrixOp"
      ]
    },
    {
      "cell_type": "code",
      "execution_count": null,
      "metadata": {
        "id": "P9iJTabjOSY4"
      },
      "outputs": [],
      "source": [
        "from qiskit.opflow import X, Y, Z, I, CX, T, H, S, PrimitiveOp"
      ]
    },
    {
      "cell_type": "markdown",
      "metadata": {
        "id": "I0SW6TphOSY5"
      },
      "source": [
        "### Matrix elements"
      ]
    },
    {
      "cell_type": "markdown",
      "metadata": {
        "id": "FpRZ709tOSY5"
      },
      "source": [
        "The `eval` method returns a column from an operator. For example, the Pauli $X$ operator is represented by a `PauliOp`. Asking for a column returns an instance of the sparse representation, a `DictStateFn`."
      ]
    },
    {
      "cell_type": "code",
      "execution_count": null,
      "metadata": {
        "id": "5538dWvJOSY5",
        "outputId": "dec959d7-dbda-4214-a33a-fbf74593ca43"
      },
      "outputs": [
        {
          "data": {
            "text/plain": [
              "PauliOp(Pauli('X'), coeff=1.0)"
            ]
          },
          "execution_count": 33,
          "metadata": {},
          "output_type": "execute_result"
        }
      ],
      "source": [
        "X"
      ]
    },
    {
      "cell_type": "code",
      "execution_count": null,
      "metadata": {
        "id": "ZXFm5yQXOSY5",
        "outputId": "6f5dfef9-37d3-46c0-949a-347a50a8a522"
      },
      "outputs": [
        {
          "name": "stdout",
          "output_type": "stream",
          "text": [
            "DictStateFn({'1': (1+0j)})\n"
          ]
        }
      ],
      "source": [
        "print(X.eval('0'))"
      ]
    },
    {
      "cell_type": "markdown",
      "metadata": {
        "id": "D8xZUEYHOSY5"
      },
      "source": [
        "It follows that indexing into an operator, that is obtaining a matrix element, is performed with two calls to the `eval` method."
      ]
    },
    {
      "cell_type": "markdown",
      "metadata": {
        "id": "NQDe6ZulOSY5"
      },
      "source": [
        "We have $X = \\left(\\begin{matrix} 0 & 1 \\\\\n",
        "                            1 & 0\n",
        "                            \\end{matrix} \\right)$. And the matrix element $\\left\\{X \\right\\}_{0,1}$ is"
      ]
    },
    {
      "cell_type": "code",
      "execution_count": null,
      "metadata": {
        "id": "cid6SJ92OSY6",
        "outputId": "5974f3d6-f536-437f-e48d-b324048a3db6"
      },
      "outputs": [
        {
          "data": {
            "text/plain": [
              "(1+0j)"
            ]
          },
          "execution_count": 35,
          "metadata": {},
          "output_type": "execute_result"
        }
      ],
      "source": [
        "X.eval('0').eval('1')"
      ]
    },
    {
      "cell_type": "markdown",
      "metadata": {
        "id": "Sbu2bDdtOSY6"
      },
      "source": [
        "Here is an example using the two qubit operator `CX`, the controlled `X`, which is represented by a circuit."
      ]
    },
    {
      "cell_type": "code",
      "execution_count": null,
      "metadata": {
        "id": "c1HURXo-OSY6",
        "outputId": "ee44f730-b541-4b7b-bac0-91e5ee633b9a"
      },
      "outputs": [
        {
          "name": "stdout",
          "output_type": "stream",
          "text": [
            "          \n",
            "q_0: ──■──\n",
            "     ┌─┴─┐\n",
            "q_1: ┤ X ├\n",
            "     └───┘\n",
            "[[1. 0. 0. 0.]\n",
            " [0. 0. 0. 1.]\n",
            " [0. 0. 1. 0.]\n",
            " [0. 1. 0. 0.]]\n"
          ]
        }
      ],
      "source": [
        "print(CX)\n",
        "print(CX.to_matrix().real) # The imaginary part vanishes."
      ]
    },
    {
      "cell_type": "code",
      "execution_count": null,
      "metadata": {
        "id": "UeIXKGinOSY6",
        "outputId": "aac50820-0e74-41cb-9617-4e86ea34cccd"
      },
      "outputs": [
        {
          "data": {
            "text/plain": [
              "VectorStateFn(Statevector([0.+0.j, 0.+0.j, 0.+0.j, 1.+0.j],\n",
              "            dims=(2, 2)), coeff=1.0, is_measurement=False)"
            ]
          },
          "execution_count": 37,
          "metadata": {},
          "output_type": "execute_result"
        }
      ],
      "source": [
        "CX.eval('01')  # 01 is the one in decimal. We get the first column."
      ]
    },
    {
      "cell_type": "code",
      "execution_count": null,
      "metadata": {
        "id": "l0KhAlnxOSY7",
        "outputId": "8c94beb7-f166-4822-c309-6d3c3fddccbb"
      },
      "outputs": [
        {
          "data": {
            "text/plain": [
              "(1+0j)"
            ]
          },
          "execution_count": 38,
          "metadata": {},
          "output_type": "execute_result"
        }
      ],
      "source": [
        "CX.eval('01').eval('11')  # This returns element with (zero-based) index (1, 3)"
      ]
    },
    {
      "cell_type": "markdown",
      "metadata": {
        "id": "jym5aGrpOSY7"
      },
      "source": [
        "### Applying an operator to a state vector"
      ]
    },
    {
      "cell_type": "markdown",
      "metadata": {
        "id": "pdvNp2h8OSY7"
      },
      "source": [
        "Applying an operator to a state vector may be done with the `compose` method (equivalently, `@` operator). Here is a representation of $X | 1 \\rangle = |0\\rangle$."
      ]
    },
    {
      "cell_type": "code",
      "execution_count": null,
      "metadata": {
        "id": "MbtQUUgjOSY7",
        "outputId": "5ee0501f-dc9e-44b5-c4bb-40085f570792"
      },
      "outputs": [
        {
          "name": "stdout",
          "output_type": "stream",
          "text": [
            "ComposedOp([\n",
            "  X,\n",
            "  DictStateFn({'1': 1})\n",
            "])\n"
          ]
        }
      ],
      "source": [
        "print(X @ One)"
      ]
    },
    {
      "cell_type": "markdown",
      "metadata": {
        "id": "-r4uJdieOSY7"
      },
      "source": [
        "A simpler representation, the `DictStateFn` representation of $|0\\rangle$, is obtained with `eval`."
      ]
    },
    {
      "cell_type": "code",
      "execution_count": null,
      "metadata": {
        "id": "t5yEtThyOSY8",
        "outputId": "4c2b5711-c0ec-43e3-aa6a-d5522a043f53"
      },
      "outputs": [
        {
          "data": {
            "text/plain": [
              "DictStateFn({'0': (1+0j)}, coeff=(1+0j), is_measurement=False)"
            ]
          },
          "execution_count": 40,
          "metadata": {},
          "output_type": "execute_result"
        }
      ],
      "source": [
        "(X @ One).eval()"
      ]
    },
    {
      "cell_type": "markdown",
      "metadata": {
        "id": "Hw1GpqK6OSY8"
      },
      "source": [
        "The intermediate `ComposedOp` step may be avoided by using `eval` directly."
      ]
    },
    {
      "cell_type": "code",
      "execution_count": null,
      "metadata": {
        "id": "CvhmgC7ZOSY8",
        "outputId": "2b28b0f0-21e6-4202-f74e-969d43deada7"
      },
      "outputs": [
        {
          "data": {
            "text/plain": [
              "DictStateFn({'0': (1+0j)}, coeff=(1+0j), is_measurement=False)"
            ]
          },
          "execution_count": 41,
          "metadata": {},
          "output_type": "execute_result"
        }
      ],
      "source": [
        "X.eval(One)"
      ]
    },
    {
      "cell_type": "markdown",
      "metadata": {
        "id": "kZWkFdP5OSY8"
      },
      "source": [
        "Composition and tensor products of operators are effected with `@` and `^`. Here are some examples."
      ]
    },
    {
      "cell_type": "code",
      "execution_count": null,
      "metadata": {
        "id": "9pBhNdnvOSY8",
        "outputId": "d0e6613c-88a0-4284-ec99-42087e6ff895"
      },
      "outputs": [
        {
          "name": "stdout",
          "output_type": "stream",
          "text": [
            "(1+0j)\n",
            "          ┌───┐          ┌───┐     \n",
            "q_0: ──■──┤ H ├───────■──┤ H ├─────\n",
            "     ┌─┴─┐└───┘┌───┐┌─┴─┐└───┘┌───┐\n",
            "q_1: ┤ X ├──■──┤ H ├┤ X ├──■──┤ H ├\n",
            "     └───┘┌─┴─┐├───┤└───┘┌─┴─┐├───┤\n",
            "q_2: ──■──┤ X ├┤ H ├──■──┤ X ├┤ H ├\n",
            "     ┌─┴─┐└───┘├───┤┌─┴─┐└───┘├───┤\n",
            "q_3: ┤ X ├──■──┤ H ├┤ X ├──■──┤ H ├\n",
            "     └───┘┌─┴─┐├───┤└───┘┌─┴─┐├───┤\n",
            "q_4: ─────┤ X ├┤ H ├─────┤ X ├┤ H ├\n",
            "          └───┘└───┘     └───┘└───┘\n",
            "CircuitStateFn(\n",
            "     ┌───┐┌───┐     ┌───┐          ┌───┐     \n",
            "q_0: ┤ X ├┤ H ├──■──┤ H ├───────■──┤ H ├─────\n",
            "     ├───┤├───┤┌─┴─┐└───┘┌───┐┌─┴─┐└───┘┌───┐\n",
            "q_1: ┤ X ├┤ H ├┤ X ├──■──┤ H ├┤ X ├──■──┤ H ├\n",
            "     ├───┤├───┤└───┘┌─┴─┐├───┤└───┘┌─┴─┐├───┤\n",
            "q_2: ┤ X ├┤ H ├──■──┤ X ├┤ H ├──■──┤ X ├┤ H ├\n",
            "     ├───┤├───┤┌─┴─┐└───┘├───┤┌─┴─┐└───┘├───┤\n",
            "q_3: ┤ X ├┤ H ├┤ X ├──■──┤ H ├┤ X ├──■──┤ H ├\n",
            "     ├───┤├───┤└───┘┌─┴─┐├───┤└───┘┌─┴─┐├───┤\n",
            "q_4: ┤ X ├┤ H ├─────┤ X ├┤ H ├─────┤ X ├┤ H ├\n",
            "     └───┘└───┘     └───┘└───┘     └───┘└───┘\n",
            ")\n",
            "CircuitStateFn(\n",
            "     ┌─────────────┐     \n",
            "q_0: ┤0            ├─────\n",
            "     │             │     \n",
            "q_1: ┤1 Pauli(XII) ├─────\n",
            "     │             │┌───┐\n",
            "q_2: ┤2            ├┤ H ├\n",
            "     └─────────────┘└───┘\n",
            ")\n"
          ]
        }
      ],
      "source": [
        "print(((~One^2) @ (CX.eval('01'))).eval())\n",
        "\n",
        "print(((H^5) @ ((CX^2)^I) @ (I^(CX^2)))**2)\n",
        "print((((H^5) @ ((CX^2)^I) @ (I^(CX^2)))**2) @ (Minus^5))\n",
        "print(((H^I^I)@(X^I^I)@Zero))"
      ]
    },
    {
      "cell_type": "code",
      "execution_count": null,
      "metadata": {
        "id": "D780mr2nOSY9",
        "outputId": "8dda6186-6033-471a-dba4-1cfc6e3c5996"
      },
      "outputs": [
        {
          "name": "stdout",
          "output_type": "stream",
          "text": [
            "ComposedOp([\n",
            "  DictMeasurement({'1': 1}),\n",
            "  CircuitStateFn(\n",
            "     ┌───┐┌───┐\n",
            "  q: ┤ X ├┤ H ├\n",
            "     └───┘└───┘\n",
            "  )\n",
            "])\n"
          ]
        }
      ],
      "source": [
        "print(~One @ Minus)"
      ]
    },
    {
      "cell_type": "markdown",
      "metadata": {
        "id": "I3x8d5q0OSY9"
      },
      "source": [
        "## Part III `ListOp` and subclasses"
      ]
    },
    {
      "cell_type": "markdown",
      "metadata": {
        "id": "P9ieY29xOSY9"
      },
      "source": [
        "### `ListOp`\n",
        "\n",
        "`ListOp` is a container for effectively vectorizing operations over a list of operators and states."
      ]
    },
    {
      "cell_type": "code",
      "execution_count": null,
      "metadata": {
        "id": "xfMSrilHOSY9",
        "outputId": "09f6b57a-44a5-4bcf-ef58-4b3893f7d31a"
      },
      "outputs": [
        {
          "name": "stdout",
          "output_type": "stream",
          "text": [
            "ComposedOp([\n",
            "  ListOp([\n",
            "    DictMeasurement({'1': 1}),\n",
            "    DictMeasurement({'0': 1})\n",
            "  ]),\n",
            "  ListOp([\n",
            "    DictStateFn({'1': 1}),\n",
            "    DictStateFn({'0': 1})\n",
            "  ])\n",
            "])\n"
          ]
        }
      ],
      "source": [
        "from qiskit.opflow import ListOp\n",
        "\n",
        "print((~ListOp([One, Zero]) @ ListOp([One, Zero])))"
      ]
    },
    {
      "cell_type": "markdown",
      "metadata": {
        "id": "PlQYMDGqOSY9"
      },
      "source": [
        "For example, the composition above is distributed over the lists (`ListOp`) using the simplification method `reduce`."
      ]
    },
    {
      "cell_type": "code",
      "execution_count": null,
      "metadata": {
        "id": "3o17bWoOOSY9",
        "outputId": "139a0dff-2201-4c74-b5a4-bf6c8fc3e479"
      },
      "outputs": [
        {
          "name": "stdout",
          "output_type": "stream",
          "text": [
            "ListOp([\n",
            "  ListOp([\n",
            "    ComposedOp([\n",
            "      DictMeasurement({'1': 1}),\n",
            "      DictStateFn({'1': 1})\n",
            "    ]),\n",
            "    ComposedOp([\n",
            "      DictMeasurement({'1': 1}),\n",
            "      DictStateFn({'0': 1})\n",
            "    ])\n",
            "  ]),\n",
            "  ListOp([\n",
            "    ComposedOp([\n",
            "      DictMeasurement({'0': 1}),\n",
            "      DictStateFn({'1': 1})\n",
            "    ]),\n",
            "    ComposedOp([\n",
            "      DictMeasurement({'0': 1}),\n",
            "      DictStateFn({'0': 1})\n",
            "    ])\n",
            "  ])\n",
            "])\n"
          ]
        }
      ],
      "source": [
        "print((~ListOp([One, Zero]) @ ListOp([One, Zero])).reduce())"
      ]
    },
    {
      "cell_type": "markdown",
      "metadata": {
        "id": "F022rfTSOSY-"
      },
      "source": [
        "### `ListOp`s: `SummedOp`, `ComposedOp`, `TensoredOp`\n",
        "\n",
        "`ListOp`, introduced above, is useful for vectorizing operations. But, it also serves as the superclass for list-like composite classes.\n",
        "If you've already played around with the above, you'll notice that you can easily perform operations between `OperatorBase`s which we may not know how to perform efficiently in general (or simply haven't implemented an efficient procedure for yet), such as addition between `CircuitOp`s. In those cases, you may receive a `ListOp` result (or subclass thereof) from your operation representing the lazy execution of the operation. For example, if you attempt to add together a `DictStateFn` and a `CircuitStateFn`, you'll receive a `SummedOp` representing the sum of the two. This composite State function still has a working `eval` (but may need to perform a non-scalable computation under the hood, such as converting both to vectors).\n",
        "\n",
        "These composite `OperatorBase`s are how we construct increasingly complex and rich computation out of `PrimitiveOp` and `StateFn` building blocks.\n",
        "\n",
        "Every `ListOp` has four properties:\n",
        "\n",
        "* `oplist` - The list of `OperatorBase`s which may represent terms, factors, etc.\n",
        "* `combo_fn` - The function taking a list of complex numbers to an output value which defines how to combine the outputs of the `oplist` items. For broadcasting simplicity, this function is defined over NumPy arrays.\n",
        "* `coeff` - A coefficient multiplying the primitive. Note that `coeff` can be int, float, complex or a free `Parameter` object (from `qiskit.circuit` in Terra) to be bound later using `my_op.bind_parameters`.\n",
        "* `abelian` - Indicates whether the Operators in `oplist` are known to mutually commute (usually set after being converted by the `AbelianGrouper` converter).\n",
        "\n",
        "Note that `ListOp` supports typical sequence overloads, so you can use indexing like `my_op[4]` to access the `OperatorBase`s in `oplist`."
      ]
    },
    {
      "cell_type": "markdown",
      "metadata": {
        "id": "tI8LfzOiOSY-"
      },
      "source": [
        "### `OperatorStateFn`\n",
        "\n",
        "We mentioned above that `OperatorStateFn` represents a density operator. But, if the `is_measurement` flag is `True`, then `OperatorStateFn` represents an observable. The expectation value of this observable can then be constructed via `ComposedOp`. Or, directly, using `eval`. Recall that the `is_measurement` flag (property) is set via the `adjoint` method."
      ]
    },
    {
      "cell_type": "markdown",
      "metadata": {
        "id": "7Vor0mcGOSY-"
      },
      "source": [
        "Here we construct the observable corresponding to the Pauli $Z$ operator. Note that when printing, it is called `OperatorMeasurement`."
      ]
    },
    {
      "cell_type": "code",
      "execution_count": null,
      "metadata": {
        "id": "hvR1y0mwOSY-",
        "outputId": "20af77d3-5409-4fa2-fa0f-6512509b3759"
      },
      "outputs": [
        {
          "name": "stdout",
          "output_type": "stream",
          "text": [
            "OperatorMeasurement(Z)\n"
          ]
        },
        {
          "data": {
            "text/plain": [
              "OperatorStateFn(PauliOp(Pauli('Z'), coeff=1.0), coeff=1.0, is_measurement=True)"
            ]
          },
          "execution_count": 46,
          "metadata": {},
          "output_type": "execute_result"
        }
      ],
      "source": [
        "print(StateFn(Z).adjoint())\n",
        "StateFn(Z).adjoint()"
      ]
    },
    {
      "cell_type": "markdown",
      "metadata": {
        "id": "CM2rR8KJOSY-"
      },
      "source": [
        "Here, we compute $\\langle 0 | Z | 0 \\rangle$, $\\langle 1 | Z | 1 \\rangle$, and $\\langle + | Z | + \\rangle$, where $|+\\rangle = (|0\\rangle + |1\\rangle)/\\sqrt{2}$."
      ]
    },
    {
      "cell_type": "code",
      "execution_count": null,
      "metadata": {
        "id": "mEdMc6XcOSY_",
        "outputId": "c6674a4f-7d76-46fe-94a1-6c1f0b7a4028"
      },
      "outputs": [
        {
          "name": "stdout",
          "output_type": "stream",
          "text": [
            "(1+0j)\n",
            "(-1+0j)\n",
            "0j\n"
          ]
        }
      ],
      "source": [
        "print(StateFn(Z).adjoint().eval(Zero))\n",
        "print(StateFn(Z).adjoint().eval(One))\n",
        "print(StateFn(Z).adjoint().eval(Plus))"
      ]
    },
    {
      "cell_type": "markdown",
      "metadata": {
        "id": "cDsP0b-AOSY_"
      },
      "source": [
        "## Part IV: Converters\n",
        "\n",
        "Converters are classes that manipulate operators and states and perform building blocks of algorithms. Examples include changing the basis of operators and Trotterization.\n",
        "Converters traverse an expression and perform a particular manipulation or replacement, defined by the converter's `convert()` method, of the Operators within. Typically, if a converter encounters an `OperatorBase` in the recursion which is irrelevant to its conversion purpose, that `OperatorBase` is left unchanged."
      ]
    },
    {
      "cell_type": "code",
      "execution_count": null,
      "metadata": {
        "id": "evkvS9sTOSY_"
      },
      "outputs": [],
      "source": [
        "import numpy as np\n",
        "from qiskit.opflow import I, X, Y, Z, H, CX, Zero, ListOp, PauliExpectation, PauliTrotterEvolution, CircuitSampler, MatrixEvolution, Suzuki\n",
        "from qiskit.circuit import Parameter\n",
        "from qiskit import Aer"
      ]
    },
    {
      "cell_type": "markdown",
      "metadata": {
        "id": "XQY9cQnVOSY_"
      },
      "source": [
        "### Evolutions, `exp_i()`, and the `EvolvedOp`\n",
        "\n",
        "Every `PrimitiveOp` and `ListOp` has an `.exp_i()` function such that `H.exp_i()` corresponds to $e^{-iH}$. In practice, only a few of these Operators have an efficiently computable exponentiation (such as MatrixOp and the PauliOps with only one non-identity single-qubit Pauli), so we need to return a placeholder, or symbolic representation, (similar to how `SummedOp` is a placeholder when we can't perform addition). This placeholder is called `EvolvedOp`, and it holds the `OperatorBase` to be exponentiated in its `.primitive` property.\n",
        "\n",
        "Qiskit operators fully support parameterization, so we can use a `Parameter` for our evolution time here. Notice that there's no \"evolution time\" argument in any function. The Operator flow exponentiates whatever operator we tell it to, and if we choose to multiply the operator by an evolution time, $e^{-iHt}$, that will be reflected in our exponentiation parameters."
      ]
    },
    {
      "cell_type": "markdown",
      "metadata": {
        "id": "aKTU2mqEOSY_"
      },
      "source": [
        "#### Weighted sum of Pauli operators\n",
        "A Hamiltonian expressed as a linear combination of multi-qubit Pauli operators may be constructed like this."
      ]
    },
    {
      "cell_type": "code",
      "execution_count": null,
      "metadata": {
        "id": "z4lMhZ14OSY_"
      },
      "outputs": [],
      "source": [
        "two_qubit_H2 =  (-1.0523732 * I^I) + \\\n",
        "                (0.39793742 * I^Z) + \\\n",
        "                (-0.3979374 * Z^I) + \\\n",
        "                (-0.0112801 * Z^Z) + \\\n",
        "                (0.18093119 * X^X)"
      ]
    },
    {
      "cell_type": "markdown",
      "metadata": {
        "id": "e0fmUwXGOSZA"
      },
      "source": [
        "Note that `two_qubit_H2` is represented as a `SummedOp` whose terms are `PauliOp`s."
      ]
    },
    {
      "cell_type": "code",
      "execution_count": null,
      "metadata": {
        "id": "Uv12QOCVOSZA",
        "outputId": "2ddfc9a8-cff5-4710-e86d-bf70a7bf4622"
      },
      "outputs": [
        {
          "name": "stdout",
          "output_type": "stream",
          "text": [
            "-1.0523732 * II\n",
            "+ 0.39793742 * IZ\n",
            "- 0.3979374 * ZI\n",
            "- 0.0112801 * ZZ\n",
            "+ 0.18093119 * XX\n"
          ]
        }
      ],
      "source": [
        "print(two_qubit_H2)"
      ]
    },
    {
      "cell_type": "markdown",
      "metadata": {
        "id": "hJg7vKpiOSZA"
      },
      "source": [
        "Next, we multiply the Hamiltonian by a `Parameter`. This `Parameter` is stored in the `coeff` property of the `SummedOp`. Calling `exp_i()` on the result wraps it in `EvolvedOp`, representing exponentiation."
      ]
    },
    {
      "cell_type": "code",
      "execution_count": null,
      "metadata": {
        "id": "zznE1v4bOSZA",
        "outputId": "71b3c246-c2bb-4805-bdde-ed251e337b12"
      },
      "outputs": [
        {
          "name": "stdout",
          "output_type": "stream",
          "text": [
            "e^(-i*1.0*θ * (\n",
            "  -1.0523732 * II\n",
            "  + 0.39793742 * IZ\n",
            "  - 0.3979374 * ZI\n",
            "  - 0.0112801 * ZZ\n",
            "  + 0.18093119 * XX\n",
            "))\n",
            "EvolvedOp(PauliSumOp(SparsePauliOp(['II', 'IZ', 'ZI', 'ZZ', 'XX'],\n",
            "              coeffs=[-1.0523732 +0.j,  0.39793742+0.j, -0.3979374 +0.j, -0.0112801 +0.j,\n",
            "  0.18093119+0.j]), coeff=1.0*θ), coeff=1.0)\n"
          ]
        }
      ],
      "source": [
        "evo_time = Parameter('θ')\n",
        "evolution_op = (evo_time*two_qubit_H2).exp_i()\n",
        "print(evolution_op) # Note, EvolvedOps print as exponentiations\n",
        "print(repr(evolution_op))"
      ]
    },
    {
      "cell_type": "markdown",
      "metadata": {
        "id": "6ySYX1JSOSZB"
      },
      "source": [
        "We construct `h2_measurement`, which represents `two_qubit_H2` as an observable."
      ]
    },
    {
      "cell_type": "code",
      "execution_count": null,
      "metadata": {
        "id": "Q6uzGUaVOSZB",
        "outputId": "3216335a-76bd-4da1-9cae-574a5e3b17ca"
      },
      "outputs": [
        {
          "name": "stdout",
          "output_type": "stream",
          "text": [
            "OperatorMeasurement(-1.0523732 * II\n",
            "+ 0.39793742 * IZ\n",
            "- 0.3979374 * ZI\n",
            "- 0.0112801 * ZZ\n",
            "+ 0.18093119 * XX)\n"
          ]
        }
      ],
      "source": [
        "h2_measurement = StateFn(two_qubit_H2).adjoint()\n",
        "print(h2_measurement)"
      ]
    },
    {
      "cell_type": "markdown",
      "metadata": {
        "id": "cPDPgh_7OSZB"
      },
      "source": [
        "We construct a Bell state $|\\Phi_+\\rangle$ via $\\text{CX} (H\\otimes I) |00\\rangle$."
      ]
    },
    {
      "cell_type": "code",
      "execution_count": null,
      "metadata": {
        "id": "VcB8-XvfOSZB",
        "outputId": "ca0ee5ae-6f8f-4d0f-b99e-9400f8f5e90a"
      },
      "outputs": [
        {
          "name": "stdout",
          "output_type": "stream",
          "text": [
            "CircuitStateFn(\n",
            "     ┌───┐     \n",
            "q_0: ┤ H ├──■──\n",
            "     └───┘┌─┴─┐\n",
            "q_1: ─────┤ X ├\n",
            "          └───┘\n",
            ")\n"
          ]
        }
      ],
      "source": [
        "bell = CX @ (I ^ H) @ Zero\n",
        "print(bell)"
      ]
    },
    {
      "cell_type": "markdown",
      "metadata": {
        "id": "a_S-d0HhOSZB"
      },
      "source": [
        "Here is the expression $H e^{-iHt} |\\Phi_+\\rangle$."
      ]
    },
    {
      "cell_type": "code",
      "execution_count": null,
      "metadata": {
        "id": "OxeMQYB2OSZC",
        "outputId": "0557a885-1238-4b9c-a367-5fe006740d5c"
      },
      "outputs": [
        {
          "name": "stdout",
          "output_type": "stream",
          "text": [
            "ComposedOp([\n",
            "  OperatorMeasurement(-1.0523732 * II\n",
            "  + 0.39793742 * IZ\n",
            "  - 0.3979374 * ZI\n",
            "  - 0.0112801 * ZZ\n",
            "  + 0.18093119 * XX),\n",
            "  e^(-i*1.0*θ * (\n",
            "    -1.0523732 * II\n",
            "    + 0.39793742 * IZ\n",
            "    - 0.3979374 * ZI\n",
            "    - 0.0112801 * ZZ\n",
            "    + 0.18093119 * XX\n",
            "  )),\n",
            "  CircuitStateFn(\n",
            "       ┌───┐     \n",
            "  q_0: ┤ H ├──■──\n",
            "       └───┘┌─┴─┐\n",
            "  q_1: ─────┤ X ├\n",
            "            └───┘\n",
            "  )\n",
            "])\n"
          ]
        }
      ],
      "source": [
        "evo_and_meas = h2_measurement @ evolution_op @ bell\n",
        "print(evo_and_meas)"
      ]
    },
    {
      "cell_type": "markdown",
      "metadata": {
        "id": "Js2YMgEKOSZC"
      },
      "source": [
        "Typically, we want to approximate $e^{-iHt}$ using two-qubit gates. We achieve this with the `convert` method of `PauliTrotterEvolution`, which traverses expressions applying trotterization to all `EvolvedOp`s encountered. Although we use `PauliTrotterEvolution` here, there are other possibilities, such as `MatrixEvolution`, which performs the exponentiation exactly."
      ]
    },
    {
      "cell_type": "code",
      "execution_count": null,
      "metadata": {
        "id": "EIv2UIS5OSZC",
        "outputId": "4e87f6db-da0c-4539-ea10-038e32bb3da6"
      },
      "outputs": [
        {
          "name": "stdout",
          "output_type": "stream",
          "text": [
            "ComposedOp([\n",
            "  OperatorMeasurement(-1.0523732 * II\n",
            "  + 0.39793742 * IZ\n",
            "  - 0.3979374 * ZI\n",
            "  - 0.0112801 * ZZ\n",
            "  + 0.18093119 * XX),\n",
            "  CircuitStateFn(\n",
            "  global phase: 1.0523732*θ\n",
            "       ┌───┐     ┌───┐┌───┐┌──────────────────┐┌───┐┌───┐┌───┐»\n",
            "  q_0: ┤ H ├──■──┤ H ├┤ X ├┤ Rz(0.18093119*θ) ├┤ X ├┤ H ├┤ X ├»\n",
            "       └───┘┌─┴─┐├───┤└─┬─┘└──────────────────┘└─┬─┘├───┤└─┬─┘»\n",
            "  q_1: ─────┤ X ├┤ H ├──■────────────────────────■──┤ H ├──■──»\n",
            "            └───┘└───┘                              └───┘     »\n",
            "  «     ┌──────────────────┐┌───┐┌──────────────────┐┌──────────────────┐┌───┐»\n",
            "  «q_0: ┤ Rz(-0.0112801*θ) ├┤ X ├┤ Rz(0.39793742*θ) ├┤ Rz(0.39793742*θ) ├┤ X ├»\n",
            "  «     └──────────────────┘└─┬─┘├──────────────────┤├──────────────────┤└─┬─┘»\n",
            "  «q_1: ──────────────────────■──┤ Rz(-0.3979374*θ) ├┤ Rz(-0.3979374*θ) ├──■──»\n",
            "  «                              └──────────────────┘└──────────────────┘     »\n",
            "  «     ┌──────────────────┐┌───┐┌───┐┌───┐┌──────────────────┐┌───┐┌───┐\n",
            "  «q_0: ┤ Rz(-0.0112801*θ) ├┤ X ├┤ H ├┤ X ├┤ Rz(0.18093119*θ) ├┤ X ├┤ H ├\n",
            "  «     └──────────────────┘└─┬─┘├───┤└─┬─┘└──────────────────┘└─┬─┘├───┤\n",
            "  «q_1: ──────────────────────■──┤ H ├──■────────────────────────■──┤ H ├\n",
            "  «                              └───┘                              └───┘\n",
            "  )\n",
            "])\n"
          ]
        }
      ],
      "source": [
        "trotterized_op = PauliTrotterEvolution(trotter_mode=Suzuki(order=2, reps=1)).convert(evo_and_meas)\n",
        "# We can also set trotter_mode='suzuki' or leave it empty to default to first order Trotterization.\n",
        "print(trotterized_op)"
      ]
    },
    {
      "cell_type": "markdown",
      "metadata": {
        "id": "PXYeu4lzOSZF"
      },
      "source": [
        "`trotterized_op` contains a `Parameter`. The `bind_parameters` method traverses the expression binding values to parameter names as specified via a `dict`. In this case, there is only one parameter."
      ]
    },
    {
      "cell_type": "code",
      "execution_count": null,
      "metadata": {
        "id": "_1JENtdQOSZG"
      },
      "outputs": [],
      "source": [
        "bound = trotterized_op.bind_parameters({evo_time: .5})"
      ]
    },
    {
      "cell_type": "markdown",
      "metadata": {
        "id": "5dvPmKbSOSZG"
      },
      "source": [
        "`bound` is a `ComposedOp`. The second factor is the circuit. Let's draw it to verify that the binding has taken place."
      ]
    },
    {
      "cell_type": "code",
      "execution_count": null,
      "metadata": {
        "id": "E6rJ0mnyOSZG",
        "outputId": "b0820d9a-60ec-472c-86cb-ffdfa9c229c2"
      },
      "outputs": [
        {
          "data": {
            "text/html": [
              "<pre style=\"word-wrap: normal;white-space: pre;background: #fff0;line-height: 1.1;font-family: &quot;Courier New&quot;,Courier,monospace\">global phase: 0.52619\n",
              "     ┌───┐     ┌───┐┌───┐┌─────────────────┐┌───┐┌───┐┌───┐┌─────────────────┐»\n",
              "q_0: ┤ H ├──■──┤ H ├┤ X ├┤ Rz(0.090465595) ├┤ X ├┤ H ├┤ X ├┤ Rz(-0.00564005) ├»\n",
              "     └───┘┌─┴─┐├───┤└─┬─┘└─────────────────┘└─┬─┘├───┤└─┬─┘└─────────────────┘»\n",
              "q_1: ─────┤ X ├┤ H ├──■───────────────────────■──┤ H ├──■─────────────────────»\n",
              "          └───┘└───┘                             └───┘                        »\n",
              "«     ┌───┐┌────────────────┐┌────────────────┐┌───┐┌─────────────────┐┌───┐»\n",
              "«q_0: ┤ X ├┤ Rz(0.19896871) ├┤ Rz(0.19896871) ├┤ X ├┤ Rz(-0.00564005) ├┤ X ├»\n",
              "«     └─┬─┘├────────────────┤├────────────────┤└─┬─┘└─────────────────┘└─┬─┘»\n",
              "«q_1: ──■──┤ Rz(-0.1989687) ├┤ Rz(-0.1989687) ├──■───────────────────────■──»\n",
              "«          └────────────────┘└────────────────┘                             »\n",
              "«     ┌───┐┌───┐┌─────────────────┐┌───┐┌───┐\n",
              "«q_0: ┤ H ├┤ X ├┤ Rz(0.090465595) ├┤ X ├┤ H ├\n",
              "«     ├───┤└─┬─┘└─────────────────┘└─┬─┘├───┤\n",
              "«q_1: ┤ H ├──■───────────────────────■──┤ H ├\n",
              "«     └───┘                             └───┘</pre>"
            ],
            "text/plain": [
              "global phase: 0.52619\n",
              "     ┌───┐     ┌───┐┌───┐┌─────────────────┐┌───┐┌───┐┌───┐┌─────────────────┐»\n",
              "q_0: ┤ H ├──■──┤ H ├┤ X ├┤ Rz(0.090465595) ├┤ X ├┤ H ├┤ X ├┤ Rz(-0.00564005) ├»\n",
              "     └───┘┌─┴─┐├───┤└─┬─┘└─────────────────┘└─┬─┘├───┤└─┬─┘└─────────────────┘»\n",
              "q_1: ─────┤ X ├┤ H ├──■───────────────────────■──┤ H ├──■─────────────────────»\n",
              "          └───┘└───┘                             └───┘                        »\n",
              "«     ┌───┐┌────────────────┐┌────────────────┐┌───┐┌─────────────────┐┌───┐»\n",
              "«q_0: ┤ X ├┤ Rz(0.19896871) ├┤ Rz(0.19896871) ├┤ X ├┤ Rz(-0.00564005) ├┤ X ├»\n",
              "«     └─┬─┘├────────────────┤├────────────────┤└─┬─┘└─────────────────┘└─┬─┘»\n",
              "«q_1: ──■──┤ Rz(-0.1989687) ├┤ Rz(-0.1989687) ├──■───────────────────────■──»\n",
              "«          └────────────────┘└────────────────┘                             »\n",
              "«     ┌───┐┌───┐┌─────────────────┐┌───┐┌───┐\n",
              "«q_0: ┤ H ├┤ X ├┤ Rz(0.090465595) ├┤ X ├┤ H ├\n",
              "«     ├───┤└─┬─┘└─────────────────┘└─┬─┘├───┤\n",
              "«q_1: ┤ H ├──■───────────────────────■──┤ H ├\n",
              "«     └───┘                             └───┘"
            ]
          },
          "execution_count": 57,
          "metadata": {},
          "output_type": "execute_result"
        }
      ],
      "source": [
        "bound[1].to_circuit().draw()"
      ]
    },
    {
      "cell_type": "markdown",
      "metadata": {
        "id": "yRbKMSe2OSZG"
      },
      "source": [
        "### Expectations\n",
        "\n",
        "`Expectation`s are converters that enable the computation of expectation values of observables. They traverse an Operator tree, replacing `OperatorStateFn`s (observables) with equivalent instructions which are more amenable to\n",
        "computation on quantum or classical hardware. For example, if we want to measure the expectation value of an Operator `o` expressed as a sum of Paulis with respect to some state function, but can only access diagonal measurements on quantum hardware, we can create an observable `~StateFn(o)` and use a ``PauliExpectation`` to convert it to a diagonal measurement and circuit pre-rotations to append to the state.\n",
        "\n",
        "Another interesting `Expectation` is the `AerPauliExpectation`, which converts the observable into a `CircuitStateFn` containing a special expectation snapshot instruction which `Aer` can execute natively with high performance."
      ]
    },
    {
      "cell_type": "code",
      "execution_count": null,
      "metadata": {
        "id": "i6Xi2ANQOSZG",
        "outputId": "47a714f0-98ca-463b-9a2c-30e0e93b2f38"
      },
      "outputs": [
        {
          "name": "stdout",
          "output_type": "stream",
          "text": [
            "SummedOp([\n",
            "  ComposedOp([\n",
            "    OperatorMeasurement(-1.0523732 * II),\n",
            "    II\n",
            "  ]),\n",
            "  ComposedOp([\n",
            "    OperatorMeasurement(0.39793742 * IZ),\n",
            "    II\n",
            "  ]),\n",
            "  ComposedOp([\n",
            "    OperatorMeasurement(-0.3979374 * ZI),\n",
            "    II\n",
            "  ]),\n",
            "  ComposedOp([\n",
            "    OperatorMeasurement(-0.0112801 * ZZ),\n",
            "    II\n",
            "  ]),\n",
            "  ComposedOp([\n",
            "    OperatorMeasurement(0.18093119 * ZZ),\n",
            "         ┌───┐\n",
            "    q_0: ┤ H ├\n",
            "         ├───┤\n",
            "    q_1: ┤ H ├\n",
            "         └───┘\n",
            "  ])\n",
            "])\n"
          ]
        }
      ],
      "source": [
        "# Note that XX was the only non-diagonal measurement in our H2 Observable\n",
        "print(PauliExpectation(group_paulis=False).convert(h2_measurement))"
      ]
    },
    {
      "cell_type": "markdown",
      "metadata": {
        "id": "LZWoDmp-OSZH"
      },
      "source": [
        "By default `group_paulis=True`, which will use the `AbelianGrouper` to convert the `SummedOp` into groups of mutually qubit-wise commuting Paulis. This reduces circuit execution overhead, as each group can share the same circuit execution."
      ]
    },
    {
      "cell_type": "code",
      "execution_count": null,
      "metadata": {
        "id": "M8GqRah1OSZH",
        "outputId": "898a4e0c-c423-49cb-e91a-c37ef72be816"
      },
      "outputs": [
        {
          "name": "stdout",
          "output_type": "stream",
          "text": [
            "SummedOp([\n",
            "  ComposedOp([\n",
            "    OperatorMeasurement(0.18093119 * ZZ\n",
            "    - 1.0523732 * II),\n",
            "         ┌───┐\n",
            "    q_0: ┤ H ├\n",
            "         ├───┤\n",
            "    q_1: ┤ H ├\n",
            "         └───┘\n",
            "  ]),\n",
            "  ComposedOp([\n",
            "    OperatorMeasurement(0.39793742 * IZ\n",
            "    - 0.3979374 * ZI\n",
            "    - 0.0112801 * ZZ),\n",
            "    II\n",
            "  ])\n",
            "])\n"
          ]
        }
      ],
      "source": [
        "print(PauliExpectation().convert(h2_measurement))"
      ]
    },
    {
      "cell_type": "markdown",
      "metadata": {
        "id": "xyhm8tmiOSZI"
      },
      "source": [
        "Note that converters act recursively, that is, they traverse an expression applying their action only where possible. So we can just convert our full evolution and measurement expression. We could have equivalently composed the converted `h2_measurement` with our evolution `CircuitStateFn`. We proceed by applying the conversion on the entire expression."
      ]
    },
    {
      "cell_type": "code",
      "execution_count": null,
      "metadata": {
        "scrolled": true,
        "id": "3QrrAwITOSZI",
        "outputId": "717e2a22-2761-4f22-e2ab-93b8991679e0"
      },
      "outputs": [
        {
          "name": "stdout",
          "output_type": "stream",
          "text": [
            "SummedOp([\n",
            "  ComposedOp([\n",
            "    OperatorMeasurement(0.18093119 * ZZ\n",
            "    - 1.0523732 * II),\n",
            "    CircuitStateFn(\n",
            "    global phase: 1.0523732*θ\n",
            "         ┌───┐     ┌───┐┌───┐┌──────────────────┐┌───┐┌───┐┌───┐»\n",
            "    q_0: ┤ H ├──■──┤ H ├┤ X ├┤ Rz(0.18093119*θ) ├┤ X ├┤ H ├┤ X ├»\n",
            "         └───┘┌─┴─┐├───┤└─┬─┘└──────────────────┘└─┬─┘├───┤└─┬─┘»\n",
            "    q_1: ─────┤ X ├┤ H ├──■────────────────────────■──┤ H ├──■──»\n",
            "              └───┘└───┘                              └───┘     »\n",
            "    «     ┌──────────────────┐┌───┐┌──────────────────┐┌──────────────────┐┌───┐»\n",
            "    «q_0: ┤ Rz(-0.0112801*θ) ├┤ X ├┤ Rz(0.39793742*θ) ├┤ Rz(0.39793742*θ) ├┤ X ├»\n",
            "    «     └──────────────────┘└─┬─┘├──────────────────┤├──────────────────┤└─┬─┘»\n",
            "    «q_1: ──────────────────────■──┤ Rz(-0.3979374*θ) ├┤ Rz(-0.3979374*θ) ├──■──»\n",
            "    «                              └──────────────────┘└──────────────────┘     »\n",
            "    «     ┌──────────────────┐┌───┐┌───┐┌───┐┌──────────────────┐┌───┐┌───┐┌───┐\n",
            "    «q_0: ┤ Rz(-0.0112801*θ) ├┤ X ├┤ H ├┤ X ├┤ Rz(0.18093119*θ) ├┤ X ├┤ H ├┤ H ├\n",
            "    «     └──────────────────┘└─┬─┘├───┤└─┬─┘└──────────────────┘└─┬─┘├───┤├───┤\n",
            "    «q_1: ──────────────────────■──┤ H ├──■────────────────────────■──┤ H ├┤ H ├\n",
            "    «                              └───┘                              └───┘└───┘\n",
            "    )\n",
            "  ]),\n",
            "  ComposedOp([\n",
            "    OperatorMeasurement(0.39793742 * IZ\n",
            "    - 0.3979374 * ZI\n",
            "    - 0.0112801 * ZZ),\n",
            "    CircuitStateFn(\n",
            "    global phase: 1.0523732*θ\n",
            "         ┌───┐     ┌───┐┌───┐┌──────────────────┐┌───┐┌───┐┌───┐»\n",
            "    q_0: ┤ H ├──■──┤ H ├┤ X ├┤ Rz(0.18093119*θ) ├┤ X ├┤ H ├┤ X ├»\n",
            "         └───┘┌─┴─┐├───┤└─┬─┘└──────────────────┘└─┬─┘├───┤└─┬─┘»\n",
            "    q_1: ─────┤ X ├┤ H ├──■────────────────────────■──┤ H ├──■──»\n",
            "              └───┘└───┘                              └───┘     »\n",
            "    «     ┌──────────────────┐┌───┐┌──────────────────┐┌──────────────────┐┌───┐»\n",
            "    «q_0: ┤ Rz(-0.0112801*θ) ├┤ X ├┤ Rz(0.39793742*θ) ├┤ Rz(0.39793742*θ) ├┤ X ├»\n",
            "    «     └──────────────────┘└─┬─┘├──────────────────┤├──────────────────┤└─┬─┘»\n",
            "    «q_1: ──────────────────────■──┤ Rz(-0.3979374*θ) ├┤ Rz(-0.3979374*θ) ├──■──»\n",
            "    «                              └──────────────────┘└──────────────────┘     »\n",
            "    «     ┌──────────────────┐┌───┐┌───┐┌───┐┌──────────────────┐┌───┐┌───┐\n",
            "    «q_0: ┤ Rz(-0.0112801*θ) ├┤ X ├┤ H ├┤ X ├┤ Rz(0.18093119*θ) ├┤ X ├┤ H ├\n",
            "    «     └──────────────────┘└─┬─┘├───┤└─┬─┘└──────────────────┘└─┬─┘├───┤\n",
            "    «q_1: ──────────────────────■──┤ H ├──■────────────────────────■──┤ H ├\n",
            "    «                              └───┘                              └───┘\n",
            "    )\n",
            "  ])\n",
            "])\n"
          ]
        }
      ],
      "source": [
        "diagonalized_meas_op = PauliExpectation().convert(trotterized_op)\n",
        "print(diagonalized_meas_op)"
      ]
    },
    {
      "cell_type": "markdown",
      "metadata": {
        "id": "Z9q3PqDoOSZI"
      },
      "source": [
        "Now we bind multiple parameter values into a `ListOp`, followed by `eval` to evaluate the entire expression. We could have used `eval` earlier if we bound earlier, but it would not be efficient. Here, `eval` will convert our `CircuitStateFn`s to `VectorStateFn`s through simulation internally."
      ]
    },
    {
      "cell_type": "code",
      "execution_count": null,
      "metadata": {
        "id": "33DEUyZnOSZI"
      },
      "outputs": [],
      "source": [
        "evo_time_points = list(range(8))\n",
        "h2_trotter_expectations = diagonalized_meas_op.bind_parameters({evo_time: evo_time_points})"
      ]
    },
    {
      "cell_type": "markdown",
      "metadata": {
        "id": "sASpI2z5OSZI"
      },
      "source": [
        "Here are the expectation values $\\langle \\Phi_+| e^{iHt} H e^{-iHt} |\\Phi_+\\rangle$ corresponding to the different values of the parameter."
      ]
    },
    {
      "cell_type": "code",
      "execution_count": null,
      "metadata": {
        "id": "voHgJfoNOSZJ",
        "outputId": "a336ed16-c796-44f3-c457-2f45de4a0021"
      },
      "outputs": [
        {
          "data": {
            "text/plain": [
              "array([-0.88272211+0.0e+00j, -0.88272211+0.0e+00j, -0.88272211+0.0e+00j,\n",
              "       -0.88272211+0.0e+00j, -0.88272211+0.0e+00j, -0.88272211+0.0e+00j,\n",
              "       -0.88272211+5.6e-17j, -0.88272211+0.0e+00j])"
            ]
          },
          "execution_count": 62,
          "metadata": {},
          "output_type": "execute_result"
        }
      ],
      "source": [
        "h2_trotter_expectations.eval()"
      ]
    },
    {
      "cell_type": "markdown",
      "metadata": {
        "id": "mAb14vQLOSZJ"
      },
      "source": [
        "### Executing `CircuitStateFn`s with the `CircuitSampler`\n",
        "\n",
        "The `CircuitSampler` traverses an Operator and converts any `CircuitStateFn`s into approximations of the resulting state function by a `DictStateFn` or `VectorStateFn` using a quantum backend. Note that in order to approximate the value of the `CircuitStateFn`, it must 1) send the state function through a depolarizing channel, which will destroy all phase information and 2) replace the sampled frequencies with **square roots** of the frequency, rather than the raw probability of sampling (which would be the equivalent of sampling the **square** of the state function, per the Born rule)."
      ]
    },
    {
      "cell_type": "code",
      "execution_count": null,
      "metadata": {
        "id": "aPpO4QM8OSZJ",
        "outputId": "558b31e8-4ea8-4c35-fb32-f4cff1555c0c"
      },
      "outputs": [
        {
          "name": "stdout",
          "output_type": "stream",
          "text": [
            "Sampled Trotterized energies:\n",
            " [-0.88272211 -0.88272211 -0.88272211 -0.88272211 -0.88272211 -0.88272211\n",
            " -0.88272211 -0.88272211]\n"
          ]
        }
      ],
      "source": [
        "sampler = CircuitSampler(backend=Aer.get_backend('aer_simulator'))\n",
        "# sampler.quantum_instance.run_config.shots = 1000\n",
        "sampled_trotter_exp_op = sampler.convert(h2_trotter_expectations)\n",
        "sampled_trotter_energies = sampled_trotter_exp_op.eval()\n",
        "print('Sampled Trotterized energies:\\n {}'.format(np.real(sampled_trotter_energies)))"
      ]
    },
    {
      "cell_type": "markdown",
      "metadata": {
        "id": "4GHnhbk5OSZJ"
      },
      "source": [
        "Note again that the circuits are replaced by dicts with ***square roots*** of the circuit sampling probabilities. Take a look at one sub-expression before and after the conversion:"
      ]
    },
    {
      "cell_type": "code",
      "execution_count": null,
      "metadata": {
        "id": "Zt_8W6FjOSZJ",
        "outputId": "46e319ed-60e4-4988-d11b-610ecb465622"
      },
      "outputs": [
        {
          "name": "stdout",
          "output_type": "stream",
          "text": [
            "Before:\n",
            "\n",
            "ComposedOp([\n",
            "  OperatorMeasurement(0.18093119 * ZZ\n",
            "  - 1.0523732 * II),\n",
            "  CircuitStateFn(\n",
            "       ┌───┐     ┌───┐┌───┐┌───────┐┌───┐┌───┐┌───┐┌───────┐┌───┐┌───────┐»\n",
            "  q_0: ┤ H ├──■──┤ H ├┤ X ├┤ Rz(0) ├┤ X ├┤ H ├┤ X ├┤ Rz(0) ├┤ X ├┤ Rz(0) ├»\n",
            "       └───┘┌─┴─┐├───┤└─┬─┘└───────┘└─┬─┘├───┤└─┬─┘└───────┘└─┬─┘├───────┤»\n",
            "  q_1: ─────┤ X ├┤ H ├──■─────────────■──┤ H ├──■─────────────■──┤ Rz(0) ├»\n",
            "            └───┘└───┘                   └───┘                   └───────┘»\n",
            "  «     ┌───────┐┌───┐┌───────┐┌───┐┌───┐┌───┐┌───────┐┌───┐┌───┐┌───┐\n",
            "  «q_0: ┤ Rz(0) ├┤ X ├┤ Rz(0) ├┤ X ├┤ H ├┤ X ├┤ Rz(0) ├┤ X ├┤ H ├┤ H ├\n",
            "  «     ├───────┤└─┬─┘└───────┘└─┬─┘├───┤└─┬─┘└───────┘└─┬─┘├───┤├───┤\n",
            "  «q_1: ┤ Rz(0) ├──■─────────────■──┤ H ├──■─────────────■──┤ H ├┤ H ├\n",
            "  «     └───────┘                   └───┘                   └───┘└───┘\n",
            "  )\n",
            "])\n",
            "\n",
            "After:\n",
            "\n",
            "ComposedOp([\n",
            "  OperatorMeasurement(0.18093119 * ZZ\n",
            "  - 1.0523732 * II),\n",
            "  DictStateFn({'00': 0.7167090588237321, '11': 0.6973723001381686})\n",
            "])\n"
          ]
        }
      ],
      "source": [
        "print('Before:\\n')\n",
        "print(h2_trotter_expectations.reduce()[0][0])\n",
        "print('\\nAfter:\\n')\n",
        "print(sampled_trotter_exp_op[0][0])"
      ]
    },
    {
      "cell_type": "code",
      "execution_count": null,
      "metadata": {
        "id": "X6ETiXq6OSZK",
        "outputId": "f2f11756-7025-4894-fba6-d9f52fe4269d"
      },
      "outputs": [
        {
          "data": {
            "text/html": [
              "<h3>Version Information</h3><table><tr><th>Qiskit Software</th><th>Version</th></tr><tr><td><code>qiskit-terra</code></td><td>0.19.0.dev0+fe3eb3f</td></tr><tr><td><code>qiskit-aer</code></td><td>0.10.0.dev0+b78f265</td></tr><tr><td><code>qiskit-ignis</code></td><td>0.7.0.dev0+0eb9dcc</td></tr><tr><td><code>qiskit-ibmq-provider</code></td><td>0.17.0.dev0+15d2dfe</td></tr><tr><th>System information</th></tr><tr><td>Python version</td><td>3.9.5</td></tr><tr><td>Python compiler</td><td>Clang 10.0.0 </td></tr><tr><td>Python build</td><td>default, May 18 2021 12:31:01</td></tr><tr><td>OS</td><td>Darwin</td></tr><tr><td>CPUs</td><td>4</td></tr><tr><td>Memory (Gb)</td><td>32.0</td></tr><tr><td colspan='2'>Fri Oct 29 16:10:45 2021 BST</td></tr></table>"
            ],
            "text/plain": [
              "<IPython.core.display.HTML object>"
            ]
          },
          "metadata": {},
          "output_type": "display_data"
        },
        {
          "data": {
            "text/html": [
              "<div style='width: 100%; background-color:#d5d9e0;padding-left: 10px; padding-bottom: 10px; padding-right: 10px; padding-top: 5px'><h3>This code is a part of Qiskit</h3><p>&copy; Copyright IBM 2017, 2021.</p><p>This code is licensed under the Apache License, Version 2.0. You may<br>obtain a copy of this license in the LICENSE.txt file in the root directory<br> of this source tree or at http://www.apache.org/licenses/LICENSE-2.0.<p>Any modifications or derivative works of this code must retain this<br>copyright notice, and modified files need to carry a notice indicating<br>that they have been altered from the originals.</p></div>"
            ],
            "text/plain": [
              "<IPython.core.display.HTML object>"
            ]
          },
          "metadata": {},
          "output_type": "display_data"
        }
      ],
      "source": [
        "import qiskit.tools.jupyter\n",
        "%qiskit_version_table\n",
        "%qiskit_copyright"
      ]
    }
  ],
  "metadata": {
    "kernelspec": {
      "display_name": "Python 3",
      "language": "python",
      "name": "python3"
    },
    "language_info": {
      "codemirror_mode": {
        "name": "ipython",
        "version": 3
      },
      "file_extension": ".py",
      "mimetype": "text/x-python",
      "name": "python",
      "nbconvert_exporter": "python",
      "pygments_lexer": "ipython3",
      "version": "3.9.5"
    },
    "colab": {
      "provenance": []
    }
  },
  "nbformat": 4,
  "nbformat_minor": 0
}