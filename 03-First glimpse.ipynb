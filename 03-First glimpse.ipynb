{
 "cells": [
  {
   "cell_type": "markdown",
   "id": "852ab4ac-e501-4694-bf67-90cd4122140e",
   "metadata": {
    "tags": []
   },
   "source": [
    "# A First Glimpse At IBM's Quantum Open Science Price Challenge"
   ]
  },
  {
   "cell_type": "markdown",
   "id": "36212aec-7f72-474d-84c6-23edd3dffa90",
   "metadata": {},
   "source": [
    "This post appeared first on [Medium](https://towardsdatascience.com/a-first-glimpse-at-ibms-quantum-open-science-price-challenge-de4a2f41987e) and my weekly [email-course](https://pyqml.substack.com/p/a-first-glimpse-at-ibms-quantum-open?s=w).\n",
    "\n",
    "IBM just announced its second [Quantum Open Science Prize](https://research.ibm.com/blog/quantum-open-science-prize). They ask for a solution to a quantum simulation problem. They want us to simulate a Heisenberg model Hamiltonian for a three-particle system on IBM Quantum’s 7-qubit Jakarta system using Trotterization.\n",
    "\n",
    "Even though IBM explains what a Heisenberg model Hamiltonian and Trotterization are, it all appears mysterious, unless you are a physicist or a quantum computing senior.\n",
    "\n",
    "Fortunately, they also provide a working code example of what they expect. So, let’s see what we computer scientists can learn about the challenge.\n",
    "\n",
    "First, you need a working Jupyter environment (see my previous post). Second, download the Jupyter notebook (source). We are working on a copy of it because we will make some changes. \n",
    "\n",
    "So, let’s go through the code very briefly. First, I stripped away anything unnecessary, such as the classical explanation in section 1.\n",
    "\n",
    "So, we start with some imports. In line 7, I added the Aer package."
   ]
  },
  {
   "cell_type": "code",
   "execution_count": 2,
   "id": "d1548b05-e691-40a5-8b35-c0eaa87a2a72",
   "metadata": {},
   "outputs": [
    {
     "name": "stderr",
     "output_type": "stream",
     "text": [
      "/tmp/ipykernel_109/2332860251.py:13: DeprecationWarning: The qiskit.ignis package is deprecated and has been supersceded by the qiskit-experiments project. Refer to the migration guide: https://github.com/Qiskit/qiskit-ignis#migration-guide on how to migrate to the new project.\n",
      "  from qiskit.ignis.verification.tomography import state_tomography_circuits, StateTomographyFitter\n"
     ]
    }
   ],
   "source": [
    "import numpy as np\n",
    "import matplotlib.pyplot as plt\n",
    "plt.rcParams.update({'font.size': 16})  # enlarge matplotlib fonts\n",
    "\n",
    "# Import qubit states Zero (|0>) and One (|1>), and Pauli operators (X, Y, Z)\n",
    "from qiskit.opflow import Zero, One, I, X, Y, Z\n",
    "from qiskit import QuantumCircuit, QuantumRegister, IBMQ, execute, transpile, Aer\n",
    "from qiskit.providers.aer import QasmSimulator\n",
    "from qiskit.tools.monitor import job_monitor\n",
    "from qiskit.circuit import Parameter\n",
    "\n",
    "# Import state tomography modules\n",
    "from qiskit.ignis.verification.tomography import state_tomography_circuits, StateTomographyFitter\n",
    "from qiskit.quantum_info import state_fidelity\n",
    "\n",
    "# Suppress warnings\n",
    "import warnings\n",
    "warnings.filterwarnings('ignore')"
   ]
  },
  {
   "cell_type": "markdown",
   "id": "cb49f489-928e-4c38-a5b6-7281337b5f40",
   "metadata": {},
   "source": [
    "The original code tries to connect to your IBM account and the Jakarta backend in the next step. We skip this and continue directly with the following few cells defining the custom trotterization gate. It is worth noticing that these cells are surrounded with the comments “YOUR TROTTERIZATION GOES HERE — START (beginning of example)” and “FINISH (end of example).”\n",
    "\n",
    "Apparently, IBM wants us to replace this part with our solution. But, for now, let’s stick to their example."
   ]
  },
  {
   "cell_type": "code",
   "execution_count": 9,
   "id": "311c3450-3ae3-4140-9bc1-e006f8ea0578",
   "metadata": {},
   "outputs": [
    {
     "data": {
      "text/html": [
       "<pre style=\"word-wrap: normal;white-space: pre;background: #fff0;line-height: 1.1;font-family: &quot;Courier New&quot;,Courier,monospace\">       ┌─────────┐                     ┌──────────┐\n",
       "q24_0: ┤ Ry(π/2) ├──■───────────────■──┤ Ry(-π/2) ├\n",
       "       ├─────────┤┌─┴─┐┌─────────┐┌─┴─┐├──────────┤\n",
       "q24_1: ┤ Ry(π/2) ├┤ X ├┤ Rz(2*t) ├┤ X ├┤ Ry(-π/2) ├\n",
       "       └─────────┘└───┘└─────────┘└───┘└──────────┘</pre>"
      ],
      "text/plain": [
       "       ┌─────────┐                     ┌──────────┐\n",
       "q24_0: ┤ Ry(π/2) ├──■───────────────■──┤ Ry(-π/2) ├\n",
       "       ├─────────┤┌─┴─┐┌─────────┐┌─┴─┐├──────────┤\n",
       "q24_1: ┤ Ry(π/2) ├┤ X ├┤ Rz(2*t) ├┤ X ├┤ Ry(-π/2) ├\n",
       "       └─────────┘└───┘└─────────┘└───┘└──────────┘"
      ]
     },
     "execution_count": 9,
     "metadata": {},
     "output_type": "execute_result"
    }
   ],
   "source": [
    "# YOUR TROTTERIZATION GOES HERE -- START (beginning of example)\n",
    "\n",
    "# Parameterize variable t to be evaluated at t=pi later\n",
    "t = Parameter('t')\n",
    "\n",
    "# Build a subcircuit for XX(t) two-qubit gate\n",
    "XX_qr = QuantumRegister(2)\n",
    "XX_qc = QuantumCircuit(XX_qr, name='XX')\n",
    "\n",
    "XX_qc.ry(np.pi/2,[0,1])\n",
    "XX_qc.cnot(0,1)\n",
    "XX_qc.rz(2 * t, 1)\n",
    "XX_qc.cnot(0,1)\n",
    "XX_qc.ry(-np.pi/2,[0,1])\n",
    "\n",
    "# Convert custom quantum circuit into a gate\n",
    "XX = XX_qc.to_instruction()\n",
    "\n",
    "# Build a subcircuit for YY(t) two-qubit gate\n",
    "YY_qr = QuantumRegister(2)\n",
    "YY_qc = QuantumCircuit(YY_qr, name='YY')\n",
    "\n",
    "YY_qc.rx(np.pi/2,[0,1])\n",
    "YY_qc.cnot(0,1)\n",
    "YY_qc.rz(2 * t, 1)\n",
    "YY_qc.cnot(0,1)\n",
    "YY_qc.rx(-np.pi/2,[0,1])\n",
    "\n",
    "# Convert custom quantum circuit into a gate\n",
    "YY = YY_qc.to_instruction()\n",
    "\n",
    "# Build a subcircuit for ZZ(t) two-qubit gate\n",
    "ZZ_qr = QuantumRegister(2)\n",
    "ZZ_qc = QuantumCircuit(ZZ_qr, name='ZZ')\n",
    "\n",
    "ZZ_qc.cnot(0,1)\n",
    "ZZ_qc.rz(2 * t, 1)\n",
    "ZZ_qc.cnot(0,1)\n",
    "\n",
    "# Convert custom quantum circuit into a gate\n",
    "ZZ = ZZ_qc.to_instruction()\n",
    "\n",
    "# Combine subcircuits into a single multiqubit gate representing a single trotter step\n",
    "num_qubits = 3\n",
    "\n",
    "Trot_qr = QuantumRegister(num_qubits)\n",
    "Trot_qc = QuantumCircuit(Trot_qr, name='Trot')\n",
    "\n",
    "for i in range(0, num_qubits - 1):\n",
    "    Trot_qc.append(ZZ, [Trot_qr[i], Trot_qr[i+1]])\n",
    "    Trot_qc.append(YY, [Trot_qr[i], Trot_qr[i+1]])\n",
    "    Trot_qc.append(XX, [Trot_qr[i], Trot_qr[i+1]])\n",
    "\n",
    "# Convert custom quantum circuit into a gate\n",
    "Trot_gate = Trot_qc.to_instruction()\n",
    "XX_qc.draw()\n",
    "# YOUR TROTTERIZATION GOES HERE -- FINISH (end of example)"
   ]
  },
  {
   "cell_type": "markdown",
   "id": "5ac8d611-b5c7-408b-adb6-91c33f76104e",
   "metadata": {},
   "source": [
    "We don’t yet look into the details of the trotterization, but we continue with the quantum circuit. In the following code, we define the overall quantum circuit (qc) and generate the state tomography circuits to evaluate the fidelity of the simulation. Fidelity is the performance score that we aim to optimize. Fidelity ranges from 0.0 to 1.0, with 1.0 being the best result we could achieve."
   ]
  },
  {
   "cell_type": "code",
   "execution_count": 3,
   "id": "c6135540-dcea-4313-8ce8-0eb8e3ee23e7",
   "metadata": {},
   "outputs": [
    {
     "data": {
      "text/html": [
       "<pre style=\"word-wrap: normal;white-space: pre;background: #fff0;line-height: 1.1;font-family: &quot;Courier New&quot;,Courier,monospace\">                                                                    ░          \n",
       "q4_0: ──────────────────────────────────────────────────────────────░──────────\n",
       "           ┌────────────┐┌────────────┐┌────────────┐┌────────────┐ ░ ┌─┐      \n",
       "q4_1: ─────┤0           ├┤0           ├┤0           ├┤0           ├─░─┤M├──────\n",
       "           │            ││            ││            ││            │ ░ └╥┘      \n",
       "q4_2: ─────┤            ├┤            ├┤            ├┤            ├─░──╫───────\n",
       "      ┌───┐│            ││            ││            ││            │ ░  ║ ┌─┐   \n",
       "q4_3: ┤ X ├┤1 Trot(π/4) ├┤1 Trot(π/4) ├┤1 Trot(π/4) ├┤1 Trot(π/4) ├─░──╫─┤M├───\n",
       "      └───┘│            ││            ││            ││            │ ░  ║ └╥┘   \n",
       "q4_4: ─────┤            ├┤            ├┤            ├┤            ├─░──╫──╫────\n",
       "      ┌───┐│            ││            ││            ││            │ ░  ║  ║ ┌─┐\n",
       "q4_5: ┤ X ├┤2           ├┤2           ├┤2           ├┤2           ├─░──╫──╫─┤M├\n",
       "      └───┘└────────────┘└────────────┘└────────────┘└────────────┘ ░  ║  ║ └╥┘\n",
       "q4_6: ──────────────────────────────────────────────────────────────░──╫──╫──╫─\n",
       "                                                                    ░  ║  ║  ║ \n",
       "c0: 3/═════════════════════════════════════════════════════════════════╩══╩══╩═\n",
       "                                                                       0  1  2 </pre>"
      ],
      "text/plain": [
       "                                                                    ░          \n",
       "q4_0: ──────────────────────────────────────────────────────────────░──────────\n",
       "           ┌────────────┐┌────────────┐┌────────────┐┌────────────┐ ░ ┌─┐      \n",
       "q4_1: ─────┤0           ├┤0           ├┤0           ├┤0           ├─░─┤M├──────\n",
       "           │            ││            ││            ││            │ ░ └╥┘      \n",
       "q4_2: ─────┤            ├┤            ├┤            ├┤            ├─░──╫───────\n",
       "      ┌───┐│            ││            ││            ││            │ ░  ║ ┌─┐   \n",
       "q4_3: ┤ X ├┤1 Trot(π/4) ├┤1 Trot(π/4) ├┤1 Trot(π/4) ├┤1 Trot(π/4) ├─░──╫─┤M├───\n",
       "      └───┘│            ││            ││            ││            │ ░  ║ └╥┘   \n",
       "q4_4: ─────┤            ├┤            ├┤            ├┤            ├─░──╫──╫────\n",
       "      ┌───┐│            ││            ││            ││            │ ░  ║  ║ ┌─┐\n",
       "q4_5: ┤ X ├┤2           ├┤2           ├┤2           ├┤2           ├─░──╫──╫─┤M├\n",
       "      └───┘└────────────┘└────────────┘└────────────┘└────────────┘ ░  ║  ║ └╥┘\n",
       "q4_6: ──────────────────────────────────────────────────────────────░──╫──╫──╫─\n",
       "                                                                    ░  ║  ║  ║ \n",
       "c0: 3/═════════════════════════════════════════════════════════════════╩══╩══╩═\n",
       "                                                                       0  1  2 "
      ]
     },
     "execution_count": 3,
     "metadata": {},
     "output_type": "execute_result"
    }
   ],
   "source": [
    "# The final time of the state evolution\n",
    "target_time = np.pi\n",
    "\n",
    "# Number of trotter steps\n",
    "trotter_steps = 4  ### CAN BE >= 4\n",
    "\n",
    "# Initialize quantum circuit for 3 qubits\n",
    "qr = QuantumRegister(7)\n",
    "qc = QuantumCircuit(qr)\n",
    "\n",
    "# Prepare initial state (remember we are only evolving 3 of the 7 qubits on jakarta qubits (q_5, q_3, q_1) corresponding to the state |110>)\n",
    "qc.x([3,5])  # DO NOT MODIFY (|q_5,q_3,q_1> = |110>)\n",
    "\n",
    "# Simulate time evolution under H_heis3 Hamiltonian\n",
    "for _ in range(trotter_steps):\n",
    "    qc.append(Trot_gate, [qr[1], qr[3], qr[5]])\n",
    "\n",
    "# Evaluate simulation at target_time (t=pi) meaning each trotter step evolves pi/trotter_steps in time\n",
    "qc = qc.bind_parameters({t: target_time/trotter_steps})\n",
    "\n",
    "# Generate state tomography circuits to evaluate fidelity of simulation\n",
    "st_qcs = state_tomography_circuits(qc, [qr[1], qr[3], qr[5]])\n",
    "\n",
    "# Display circuit for confirmation\n",
    "# st_qcs[-1].decompose().draw()  # view decomposition of trotter gates\n",
    "st_qcs[-1].draw()  # only view trotter gates"
   ]
  },
  {
   "cell_type": "markdown",
   "id": "dd28e332-c4c0-4738-9f80-1d1be3e22faa",
   "metadata": {},
   "source": [
    "Finally, the above code displays a drawing of our circuit.\n",
    "\n",
    "![](./assets/circuit.png)\n",
    "\n",
    "Our trotterization gate appears four times in the figure. This is what we define in line 5 — the trotter_steps. The comment says that it can be greater than four. Let's keep this in mind because it is one parameter we can work with.\n",
    "\n",
    "We’re almost ready to execute the circuit. We only need to make up for not setting up the backend earlier. So, we use the Aer package that lets us choose a local simulation backend. Specifically, we use the qasm_simulator—a noiseless simulation backend.\n"
   ]
  },
  {
   "cell_type": "code",
   "execution_count": 4,
   "id": "79c3ef21-c143-418a-8b50-f0ab39c5ae35",
   "metadata": {},
   "outputs": [
    {
     "name": "stdout",
     "output_type": "stream",
     "text": [
      "Job ID 14d0a847-0dbd-4905-a021-4b779ff95fb2\n",
      "Job ID 0131f678-e28e-413a-85e4-2416c887ae10\n",
      "Job ID 51d8e139-d3a3-4570-9322-faa2c926a424\n",
      "Job ID f61efa20-972b-4842-a82a-434a3f45df41\n",
      "Job ID 643743c7-8ad6-45ef-8b12-44168b9d2510\n",
      "Job ID 855539c9-e9a8-4e94-bded-83f43e53bdd5\n",
      "Job ID 119fef4a-f530-497a-91ec-f26d81a415f0\n",
      "Job ID b4e0c8c9-20d8-4331-aafd-072e1c666aba\n"
     ]
    }
   ],
   "source": [
    "shots = 8192\n",
    "reps = 8\n",
    "\n",
    "# WE USE A NOISELESS SIMULATION HERE\n",
    "backend = Aer.get_backend('qasm_simulator')\n",
    "\n",
    "jobs = []\n",
    "for _ in range(reps):\n",
    "    # execute\n",
    "    job = execute(st_qcs, backend, shots=shots)\n",
    "    print('Job ID', job.job_id())\n",
    "    jobs.append(job)"
   ]
  },
  {
   "cell_type": "markdown",
   "id": "32a0af3b-a7ae-44ed-94d3-058c6f474d2f",
   "metadata": {},
   "source": [
    "We see that we executed the job eight times — the number of replications.\n",
    "\n",
    "Finally, let’s evaluate the circuit."
   ]
  },
  {
   "cell_type": "code",
   "execution_count": 5,
   "id": "f87c0c22-1f37-4f56-9ec5-7e3c5d7a8384",
   "metadata": {},
   "outputs": [
    {
     "name": "stdout",
     "output_type": "stream",
     "text": [
      "state tomography fidelity = 0.0003 ± 0.0002\n"
     ]
    }
   ],
   "source": [
    "# Compute the state tomography based on the st_qcs quantum circuits and the results from those ciricuits\n",
    "def state_tomo(result, st_qcs):\n",
    "    # The expected final state; necessary to determine state tomography fidelity\n",
    "    target_state = (One^One^Zero).to_matrix()  # DO NOT MODIFY (|q_5,q_3,q_1> = |110>)\n",
    "    # Fit state tomography results\n",
    "    tomo_fitter = StateTomographyFitter(result, st_qcs)\n",
    "    rho_fit = tomo_fitter.fit(method='lstsq')\n",
    "    # Compute fidelity\n",
    "    fid = state_fidelity(rho_fit, target_state)\n",
    "    return fid\n",
    "\n",
    "# Compute tomography fidelities for each repetition\n",
    "fids = []\n",
    "for job in jobs:\n",
    "    fid = state_tomo(job.result(), st_qcs)\n",
    "    fids.append(fid)\n",
    "    \n",
    "print('state tomography fidelity = {:.4f} \\u00B1 {:.4f}'.format(np.mean(fids), np.std(fids)))"
   ]
  },
  {
   "cell_type": "markdown",
   "id": "d6f2f847-bb05-4868-9de2-8bc34af3712a",
   "metadata": {},
   "source": [
    "We see a devastating state tomography fidelity of almost 0.\n",
    "\n",
    "So, let’s see what we can do easily. Since we will run and execute the code a few times, let’s write a wrapper function. The function run_and_evaluate_with_steps takes the number of trotterization steps and the backend to run on as arguments."
   ]
  },
  {
   "cell_type": "code",
   "execution_count": 9,
   "id": "ec328a9f-809c-49d6-8400-fa09579c1d8c",
   "metadata": {},
   "outputs": [],
   "source": [
    "def run_and_evaluate_with_steps(steps, backend):\n",
    "    \n",
    "    # The final time of the state evolution\n",
    "    target_time = np.pi\n",
    "\n",
    "    # Number of trotter steps\n",
    "    trotter_steps = steps  ### CAN BE >= 4\n",
    "\n",
    "    # Initialize quantum circuit for 3 qubits\n",
    "    qr = QuantumRegister(7)\n",
    "    qc = QuantumCircuit(qr)\n",
    "\n",
    "    # Prepare initial state (remember we are only evolving 3 of the 7 qubits on jakarta qubits (q_5, q_3, q_1) corresponding to the state |110>)\n",
    "    qc.x([3,5])  # DO NOT MODIFY (|q_5,q_3,q_1> = |110>)\n",
    "\n",
    "    # Simulate time evolution under H_heis3 Hamiltonian\n",
    "    for _ in range(trotter_steps):\n",
    "        qc.append(Trot_gate, [qr[1], qr[3], qr[5]])\n",
    "\n",
    "    # Evaluate simulation at target_time (t=pi) meaning each trotter step evolves pi/trotter_steps in time\n",
    "    qc = qc.bind_parameters({t: target_time/trotter_steps})\n",
    "\n",
    "    # Generate state tomography circuits to evaluate fidelity of simulation\n",
    "    st_qcs = state_tomography_circuits(qc, [qr[1], qr[3], qr[5]])\n",
    "\n",
    "    shots = 8192\n",
    "    reps = 8\n",
    "\n",
    "    jobs = []\n",
    "    for _ in range(reps):\n",
    "        # execute\n",
    "        job = execute(st_qcs, backend, shots=shots)\n",
    "        print('Job ID', job.job_id())\n",
    "        jobs.append(job)\n",
    "\n",
    "    \n",
    "    # Compute tomography fidelities for each repetition\n",
    "    fids = []\n",
    "    for job in jobs:\n",
    "        fid = state_tomo(job.result(), st_qcs)\n",
    "        fids.append(fid)\n",
    "\n",
    "    print('state tomography fidelity = {:.4f} \\u00B1 {:.4f}'.format(np.mean(fids), np.std(fids)))\n",
    "        "
   ]
  },
  {
   "cell_type": "markdown",
   "id": "f8ea00a8-f37d-43b0-a194-23bffc479b01",
   "metadata": {},
   "source": [
    "We can now run the whole code with different numbers of trotter steps. Let’s try it with eight steps."
   ]
  },
  {
   "cell_type": "code",
   "execution_count": 7,
   "id": "5ea0664e-7a53-4a2d-8ca9-42df182e0172",
   "metadata": {},
   "outputs": [
    {
     "name": "stdout",
     "output_type": "stream",
     "text": [
      "Job ID fe12d5d8-e8d1-4a27-9b3a-48a1792bb12c\n",
      "Job ID 8202f5b0-02d6-4f1a-bc5b-95260a5721d7\n",
      "Job ID c0c9e818-8e46-47a6-816b-b054c38daa23\n",
      "Job ID 50e94f23-9565-430e-9fd8-444fc5b9138c\n",
      "Job ID 17e7bede-9b28-4b5b-ade6-dea335dabf5a\n",
      "Job ID ebfd4357-d55a-4a2c-9602-31a9313b5311\n",
      "Job ID 0f611e73-6f76-416a-b80f-4aca95af9a42\n",
      "Job ID 2035535f-083c-49c6-b99a-9778fdc34c2f\n",
      "state tomography fidelity = 0.8543 ± 0.0013\n"
     ]
    }
   ],
   "source": [
    "run_and_evaluate_with_steps(8, Aer.get_backend('qasm_simulator'))"
   ]
  },
  {
   "cell_type": "markdown",
   "id": "0beb739c-7e08-4e49-a0fc-014c94d5294e",
   "metadata": {},
   "source": [
    "The fidelity is not too bad, is it? So, if increasing the number of trotter steps has such a significant effect, why don’t we try it with even more steps?"
   ]
  },
  {
   "cell_type": "code",
   "execution_count": 10,
   "id": "09393162-285a-4713-9b16-d86fcf1f07e2",
   "metadata": {},
   "outputs": [
    {
     "name": "stdout",
     "output_type": "stream",
     "text": [
      "Job ID 9e8a1c67-0170-4f21-8091-bcb44cdc0d12\n",
      "Job ID 21dec0ba-d576-487b-b7b9-df6b58aa3bc8\n",
      "Job ID 4c655b0e-7f8e-4b0c-abc6-770e5886fd72\n",
      "Job ID e412111a-f44c-49dc-afcf-0cc8fcaac673\n",
      "Job ID 0678e767-8143-46c6-a6fd-ab277ad1898b\n",
      "Job ID 7fc47c08-9d90-4793-99eb-e9be1a9c19be\n",
      "Job ID 296be5dd-b223-433d-bc79-48900f9fafd1\n",
      "Job ID f51dd663-e76d-4a28-8af1-73eecbc0417e\n",
      "state tomography fidelity = 0.9687 ± 0.0006\n"
     ]
    }
   ],
   "source": [
    "run_and_evaluate_with_steps(12, Aer.get_backend('qasm_simulator'))"
   ]
  },
  {
   "cell_type": "markdown",
   "id": "f960f67f-a36e-4efe-93de-58bd2c5b4b99",
   "metadata": {},
   "source": [
    "With twelve trotter steps, the fidelity is almost 0.97. That’s practically perfect. So, the exemplary code seems to work pretty well. So, where’s the problem?\n",
    "\n",
    "IBM asks us to run the circuit on their Jakarta device. Thus far, we simulated a perfect quantum computer. But we know that actual quantum computers are noisy and error-prone. Therefore, let’s simulate an actual device. Qiskit provides the test.mock package that offers simulators corresponding to the behavior of the real devices, such as FakeJakarta."
   ]
  },
  {
   "cell_type": "code",
   "execution_count": 18,
   "id": "bd8f20d5-0b53-4861-bfd6-b8083e139ced",
   "metadata": {},
   "outputs": [
    {
     "name": "stdout",
     "output_type": "stream",
     "text": [
      "Job ID 24465331-3d9c-4388-b7da-e6fe94ed35fe\n",
      "Job ID 1ef9e74c-ed00-449f-bcb7-cd1c828925c9\n",
      "Job ID 9f6e23b1-db4b-46db-865c-6b934b476250\n",
      "Job ID 01234a31-3473-49af-b9d8-6b983ff18316\n",
      "Job ID ac352d7c-24df-498f-904a-e86e58636c09\n",
      "Job ID 080c7c2d-daa3-4290-af7f-b21f18b873de\n",
      "Job ID f4046313-6df5-4f52-869b-2423db698641\n",
      "Job ID d2da77dd-48cf-4265-8253-7dd62f8a86cc\n",
      "state tomography fidelity = 0.1442 ± 0.0021\n"
     ]
    }
   ],
   "source": [
    "from qiskit.test.mock import FakeJakarta\n",
    "device = FakeJakarta()\n",
    "run_and_evaluate_with_steps(12, device)"
   ]
  },
  {
   "cell_type": "markdown",
   "id": "e0745a84-2177-49e7-84b0-1a9cb068eaf4",
   "metadata": {},
   "source": [
    "When we run the code with twelve trotter steps on a noisy simulation of the Jakarta device, the fidelity drops to 0.14.\n",
    "\n",
    "You may want to play with the number of trotter steps. But, you won’t get any fidelity better than 0.2.\n",
    "\n",
    "\n",
    "So, the actual problem is not to simulate a Heisenberg model Hamiltonian for a three-particle system using Trotterization. Instead, the problem is to do this on a real 7-qubit device.\n",
    "When we look at the exemplary trotterization gate, we can see that it uses only three qubits. The other four qubits remain unused. The actual challenge is to use these additional four qubits to immunize the circuit against noise and errors."
   ]
  }
 ],
 "metadata": {
  "kernelspec": {
   "display_name": "Python 3 (ipykernel)",
   "language": "python",
   "name": "python3"
  },
  "language_info": {
   "codemirror_mode": {
    "name": "ipython",
    "version": 3
   },
   "file_extension": ".py",
   "mimetype": "text/x-python",
   "name": "python",
   "nbconvert_exporter": "python",
   "pygments_lexer": "ipython3",
   "version": "3.9.2"
  },
  "toc-autonumbering": false,
  "toc-showcode": false,
  "toc-showmarkdowntxt": false,
  "toc-showtags": false
 },
 "nbformat": 4,
 "nbformat_minor": 5
}
